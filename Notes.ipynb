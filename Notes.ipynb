{
  "nbformat": 4,
  "nbformat_minor": 0,
  "metadata": {
    "colab": {
      "name": "Untitled21.ipynb",
      "version": "0.3.2",
      "provenance": [],
      "include_colab_link": true
    },
    "kernelspec": {
      "name": "python3",
      "display_name": "Python 3"
    }
  },
  "cells": [
    {
      "cell_type": "markdown",
      "metadata": {
        "id": "view-in-github",
        "colab_type": "text"
      },
      "source": [
        "<a href=\"https://colab.research.google.com/github/JimKing100/DS-Unit-2-Regression-Classification/blob/master/Notes.ipynb\" target=\"_parent\"><img src=\"https://colab.research.google.com/assets/colab-badge.svg\" alt=\"Open In Colab\"/></a>"
      ]
    },
    {
      "cell_type": "markdown",
      "metadata": {
        "id": "_AO-f7SWXi6B",
        "colab_type": "text"
      },
      "source": [
        "### Import and Load Data"
      ]
    },
    {
      "cell_type": "code",
      "metadata": {
        "id": "bQd7xskEXLqO",
        "colab_type": "code",
        "colab": {}
      },
      "source": [
        "%%capture\n",
        "!pip install -r requirements.txt"
      ],
      "execution_count": 0,
      "outputs": []
    },
    {
      "cell_type": "code",
      "metadata": {
        "id": "botex3JlWHC8",
        "colab_type": "code",
        "colab": {
          "base_uri": "https://localhost:8080/",
          "height": 131
        },
        "outputId": "beee31e1-4604-43f6-90cc-e44de01042e7"
      },
      "source": [
        "import os, sys\n",
        "\n",
        "os.chdir('/content')\n",
        "!git init .\n",
        "!git remote add origin https://github.com/LambdaSchool/DS-Unit-2-Regression-Classification.git\n",
        "!git pull origin master\n",
        "os.chdir('module1')"
      ],
      "execution_count": 118,
      "outputs": [
        {
          "output_type": "stream",
          "text": [
            "Reinitialized existing Git repository in /content/.git/\n",
            "fatal: remote origin already exists.\n",
            "From https://github.com/LambdaSchool/DS-Unit-2-Regression-Classification\n",
            " * branch            master     -> FETCH_HEAD\n",
            "Already up to date.\n"
          ],
          "name": "stdout"
        }
      ]
    },
    {
      "cell_type": "code",
      "metadata": {
        "id": "9VCI00-lXbvD",
        "colab_type": "code",
        "colab": {}
      },
      "source": [
        "import warnings\n",
        "warnings.filterwarnings(action='ignore', category=FutureWarning, module='numpy')"
      ],
      "execution_count": 0,
      "outputs": []
    },
    {
      "cell_type": "code",
      "metadata": {
        "id": "Il8IyxDPXvRC",
        "colab_type": "code",
        "colab": {}
      },
      "source": [
        "# Get Pandas Profiling Report\n",
        "#df.profile_report()"
      ],
      "execution_count": 0,
      "outputs": []
    },
    {
      "cell_type": "markdown",
      "metadata": {
        "id": "7QUyVmgvZA8P",
        "colab_type": "text"
      },
      "source": [
        "### Simple Linear Regression"
      ]
    },
    {
      "cell_type": "code",
      "metadata": {
        "id": "NtYwHD6QXfv3",
        "colab_type": "code",
        "colab": {
          "base_uri": "https://localhost:8080/",
          "height": 51
        },
        "outputId": "9620633b-ad27-4033-bc9f-34060d81f02a"
      },
      "source": [
        "# Read New York City apartment rental listing data\n",
        "import pandas as pd\n",
        "import pandas_profiling\n",
        "import seaborn as sns\n",
        "import statistics \n",
        "import plotly.express as px\n",
        "\n",
        "# Read the rental data\n",
        "df = pd.read_csv('../data/renthop-nyc.csv')\n",
        "assert df.shape == (49352, 34)\n",
        "\n",
        "# Use the subset with a price over $1,000 and below $10,000, eliminate outliers\n",
        "mask = (df['price'] > 1000) & (df['price'] < 10000)\n",
        "df = df[mask]\n",
        "\n",
        "# longitudes should be in -74 range, eliminate outliers\n",
        "df.query('longitude < -75 or longitude > -73')\n",
        "\n",
        "# Clean up bedrooms, eliminate outliers\n",
        "mask = (df['bedrooms'] < 6)\n",
        "df = df[mask]\n",
        "\n",
        "# Clean up bathrooms, eliminate outliers\n",
        "mask = (df['bathrooms'] < 5)\n",
        "df = df[mask]\n",
        "\n",
        "# 1. Import the appropriate estimator class from Scikit-Learn\n",
        "from sklearn.linear_model import LinearRegression\n",
        "\n",
        "# 2. Instantiate this class\n",
        "model = LinearRegression()\n",
        "\n",
        "# 3. Arrange X features matrix & y target vector\n",
        "features = ['bedrooms']\n",
        "target = 'price'\n",
        "X = df[features]\n",
        "y = df[target]\n",
        "\n",
        "# 4. Fit the model\n",
        "model.fit(X, y)\n",
        "\n",
        "# 5. Apply the model\n",
        "def predict(bedrooms):\n",
        "    y_pred = model.predict([[bedrooms]])\n",
        "    return y_pred[0]\n",
        "\n",
        "# Predict a 3 bedroom and check against the mean 3 bedroom.\n",
        "print('Prediction for 3 Bedroom Rent: ', predict(3))\n",
        "print('Mean of 3 Bedroom Rent: ', statistics.mean(df['price']))"
      ],
      "execution_count": 121,
      "outputs": [
        {
          "output_type": "stream",
          "text": [
            "Prediction for 3 Bedroom Rent:  4501.414209362802\n",
            "Mean of 3 Bedroom Rent:  3433.9535105149857\n"
          ],
          "name": "stdout"
        }
      ]
    },
    {
      "cell_type": "markdown",
      "metadata": {
        "id": "adcZP0-he37V",
        "colab_type": "text"
      },
      "source": [
        "### Multiple Regression"
      ]
    },
    {
      "cell_type": "code",
      "metadata": {
        "id": "GWdR0XragnEs",
        "colab_type": "code",
        "colab": {}
      },
      "source": [
        "# Imports\n",
        "%matplotlib inline\n",
        "\n",
        "import numpy as np\n",
        "import pandas as pd\n",
        "\n",
        "from sklearn.cluster import KMeans\n",
        "from sklearn.metrics import mean_absolute_error\n",
        "\n",
        "import matplotlib.pyplot as plt\n",
        "import plotly.express as px\n",
        "\n",
        "import seaborn as sns"
      ],
      "execution_count": 0,
      "outputs": []
    },
    {
      "cell_type": "code",
      "metadata": {
        "id": "Ko_bWhHObBst",
        "colab_type": "code",
        "colab": {}
      },
      "source": [
        "# Read New York City apartment rental listing data\n",
        "df = pd.read_csv('../data/renthop-nyc.csv')\n",
        "assert df.shape == (49352, 34)\n",
        "\n",
        "# Remove the most extreme 1% prices,\n",
        "# the most extreme .1% latitudes, &\n",
        "# the most extreme .1% longitudes\n",
        "df = df[(df['price'] >= np.percentile(df['price'], 0.5)) & \n",
        "        (df['price'] <= np.percentile(df['price'], 99.5)) & \n",
        "        (df['latitude'] >= np.percentile(df['latitude'], 0.05)) & \n",
        "        (df['latitude'] < np.percentile(df['latitude'], 99.95)) &\n",
        "        (df['longitude'] >= np.percentile(df['longitude'], 0.05)) & \n",
        "        (df['longitude'] <= np.percentile(df['longitude'], 99.95))]"
      ],
      "execution_count": 0,
      "outputs": []
    },
    {
      "cell_type": "markdown",
      "metadata": {
        "id": "iYfETGIYmz1x",
        "colab_type": "text"
      },
      "source": [
        "#### Test/Train Split on Date"
      ]
    },
    {
      "cell_type": "code",
      "metadata": {
        "id": "OkY56oRFarEp",
        "colab_type": "code",
        "colab": {
          "base_uri": "https://localhost:8080/",
          "height": 34
        },
        "outputId": "b012e129-fb72-4c65-d6cf-7339794d330f"
      },
      "source": [
        "# Convert to datetime and look at the date range\n",
        "df['created'] = pd.to_datetime(df['created'], infer_datetime_format=True)\n",
        "\n",
        "# There are 16217 + 15627 observations in April & May 2016,\n",
        "# and 16973 observations in June 2016.\n",
        "df['created'].dt.month.value_counts()\n",
        "\n",
        "# Date split\n",
        "cutoff = pd.to_datetime('2016-06-01')\n",
        "train = df[df.created < cutoff]\n",
        "test = df[df.created >= cutoff]\n",
        "train.shape, test.shape"
      ],
      "execution_count": 124,
      "outputs": [
        {
          "output_type": "execute_result",
          "data": {
            "text/plain": [
              "((31844, 34), (16973, 34))"
            ]
          },
          "metadata": {
            "tags": []
          },
          "execution_count": 124
        }
      ]
    },
    {
      "cell_type": "code",
      "metadata": {
        "id": "CYjqrLsUghxO",
        "colab_type": "code",
        "colab": {}
      },
      "source": [
        "# Look at relationship between location & price\n",
        "#px.scatter(train, x = 'longitude', y = 'latitude', color = 'price')"
      ],
      "execution_count": 0,
      "outputs": []
    },
    {
      "cell_type": "markdown",
      "metadata": {
        "id": "WkobtaX-nBQS",
        "colab_type": "text"
      },
      "source": [
        "#### Clustering Using KMeans"
      ]
    },
    {
      "cell_type": "code",
      "metadata": {
        "id": "L-n_b4_Gg3D6",
        "colab_type": "code",
        "colab": {
          "base_uri": "https://localhost:8080/",
          "height": 349
        },
        "outputId": "21682602-de6f-4842-b640-39d4f8baf53b"
      },
      "source": [
        "# Cluster the locations\n",
        "kmeans = KMeans(n_clusters=10, n_jobs = -1)\n",
        "train['cluster'] = kmeans.fit_predict(train[['longitude', 'latitude']])\n",
        "test['cluster'] = kmeans.predict(test[['longitude', 'latitude']])\n",
        "#px.scatter(train, x='longitude', y ='latitude', color = 'cluster')"
      ],
      "execution_count": 126,
      "outputs": [
        {
          "output_type": "stream",
          "text": [
            "/usr/local/lib/python3.6/dist-packages/ipykernel_launcher.py:2: SettingWithCopyWarning:\n",
            "\n",
            "\n",
            "A value is trying to be set on a copy of a slice from a DataFrame.\n",
            "Try using .loc[row_indexer,col_indexer] = value instead\n",
            "\n",
            "See the caveats in the documentation: http://pandas.pydata.org/pandas-docs/stable/indexing.html#indexing-view-versus-copy\n",
            "\n",
            "/usr/local/lib/python3.6/dist-packages/ipykernel_launcher.py:3: SettingWithCopyWarning:\n",
            "\n",
            "\n",
            "A value is trying to be set on a copy of a slice from a DataFrame.\n",
            "Try using .loc[row_indexer,col_indexer] = value instead\n",
            "\n",
            "See the caveats in the documentation: http://pandas.pydata.org/pandas-docs/stable/indexing.html#indexing-view-versus-copy\n",
            "\n"
          ],
          "name": "stderr"
        }
      ]
    },
    {
      "cell_type": "code",
      "metadata": {
        "id": "ZzTZMTHrhY2M",
        "colab_type": "code",
        "colab": {
          "base_uri": "https://localhost:8080/",
          "height": 386
        },
        "outputId": "cd5e9cbf-2e65-4d95-9744-3985bcd16a38"
      },
      "source": [
        "sns.catplot(x='cluster', y='price', data=train, kind = 'bar', color='grey')"
      ],
      "execution_count": 127,
      "outputs": [
        {
          "output_type": "execute_result",
          "data": {
            "text/plain": [
              "<seaborn.axisgrid.FacetGrid at 0x7f8a09d07b38>"
            ]
          },
          "metadata": {
            "tags": []
          },
          "execution_count": 127
        },
        {
          "output_type": "display_data",
          "data": {
            "image/png": "[encoded data removed]",
            "text/plain": [
              "<Figure size 360x360 with 1 Axes>"
            ]
          },
          "metadata": {
            "tags": []
          }
        }
      ]
    },
    {
      "cell_type": "markdown",
      "metadata": {
        "id": "fCGnpz83n_eF",
        "colab_type": "text"
      },
      "source": [
        "#### Graph All Columns/Features"
      ]
    },
    {
      "cell_type": "code",
      "metadata": {
        "id": "1htkVrq3h5sD",
        "colab_type": "code",
        "colab": {}
      },
      "source": [
        "# Graph each column against target\n",
        "#for col in sorted(train.columns):\n",
        "#    if train[col].nunique() < 12:\n",
        "#        sns.catplot(x=col, y='price', data = train, kind = 'bar', color = 'grey')\n",
        "#        plt.show()"
      ],
      "execution_count": 0,
      "outputs": []
    },
    {
      "cell_type": "code",
      "metadata": {
        "id": "Hkfev0cYiPtS",
        "colab_type": "code",
        "colab": {}
      },
      "source": [
        "# Graph all numeric features\n",
        "#numeric = train.select_dtypes('number')\n",
        "#for col in sorted(numeric.columns):\n",
        "#    sns.lmplot(x=col, y = 'price', data = train, scatter_kws = dict(alpha=0.05))\n",
        "#    plt.show()"
      ],
      "execution_count": 0,
      "outputs": []
    },
    {
      "cell_type": "markdown",
      "metadata": {
        "id": "uUMk4uYDoNNJ",
        "colab_type": "text"
      },
      "source": [
        "#### Engineer New Features"
      ]
    },
    {
      "cell_type": "code",
      "metadata": {
        "id": "_ftUoM1Cloal",
        "colab_type": "code",
        "colab": {
          "base_uri": "https://localhost:8080/",
          "height": 1000
        },
        "outputId": "62936ae8-d0ec-4667-c2be-33281b527b99"
      },
      "source": [
        "def engineer_features(df):\n",
        "    #What's the neighborhood, based on address or latitude and longitude?\n",
        "    clusters = pd.get_dummies(df['cluster'], prefix = 'cluster')\n",
        "    for col in clusters:\n",
        "        df[col] = clusters[col]\n",
        "\n",
        "    #Does the apartment have a description?\n",
        "    df['description'] = df['description'].str.strip().fillna('')\n",
        "    df['has_description'] = df['description'] != ''\n",
        "\n",
        "    #How long is the description?\n",
        "    df['description_length'] = df['description'].str.len()\n",
        "\n",
        "    #Are cats or dogs allowed?\n",
        "    df['cats_or_dogs'] = (df['cats_allowed']==1) | (df['dogs_allowed']==1)\n",
        "\n",
        "    #Are cats AND dogs allowed?\n",
        "    df['cats_and_dogs'] = (df['cats_allowed']==1) & (df['dogs_allowed']==1)\n",
        "\n",
        "    #Total number of rooms\n",
        "    df['rooms'] = df['bedrooms'] + df['bathrooms']\n",
        "\n",
        "    return df\n",
        "\n",
        "train = engineer_features(train)\n",
        "test = engineer_features(test)\n",
        "train.shape, test.shape"
      ],
      "execution_count": 130,
      "outputs": [
        {
          "output_type": "stream",
          "text": [
            "/usr/local/lib/python3.6/dist-packages/ipykernel_launcher.py:5: SettingWithCopyWarning:\n",
            "\n",
            "\n",
            "A value is trying to be set on a copy of a slice from a DataFrame.\n",
            "Try using .loc[row_indexer,col_indexer] = value instead\n",
            "\n",
            "See the caveats in the documentation: http://pandas.pydata.org/pandas-docs/stable/indexing.html#indexing-view-versus-copy\n",
            "\n",
            "/usr/local/lib/python3.6/dist-packages/ipykernel_launcher.py:8: SettingWithCopyWarning:\n",
            "\n",
            "\n",
            "A value is trying to be set on a copy of a slice from a DataFrame.\n",
            "Try using .loc[row_indexer,col_indexer] = value instead\n",
            "\n",
            "See the caveats in the documentation: http://pandas.pydata.org/pandas-docs/stable/indexing.html#indexing-view-versus-copy\n",
            "\n",
            "/usr/local/lib/python3.6/dist-packages/ipykernel_launcher.py:9: SettingWithCopyWarning:\n",
            "\n",
            "\n",
            "A value is trying to be set on a copy of a slice from a DataFrame.\n",
            "Try using .loc[row_indexer,col_indexer] = value instead\n",
            "\n",
            "See the caveats in the documentation: http://pandas.pydata.org/pandas-docs/stable/indexing.html#indexing-view-versus-copy\n",
            "\n",
            "/usr/local/lib/python3.6/dist-packages/ipykernel_launcher.py:12: SettingWithCopyWarning:\n",
            "\n",
            "\n",
            "A value is trying to be set on a copy of a slice from a DataFrame.\n",
            "Try using .loc[row_indexer,col_indexer] = value instead\n",
            "\n",
            "See the caveats in the documentation: http://pandas.pydata.org/pandas-docs/stable/indexing.html#indexing-view-versus-copy\n",
            "\n",
            "/usr/local/lib/python3.6/dist-packages/ipykernel_launcher.py:15: SettingWithCopyWarning:\n",
            "\n",
            "\n",
            "A value is trying to be set on a copy of a slice from a DataFrame.\n",
            "Try using .loc[row_indexer,col_indexer] = value instead\n",
            "\n",
            "See the caveats in the documentation: http://pandas.pydata.org/pandas-docs/stable/indexing.html#indexing-view-versus-copy\n",
            "\n",
            "/usr/local/lib/python3.6/dist-packages/ipykernel_launcher.py:18: SettingWithCopyWarning:\n",
            "\n",
            "\n",
            "A value is trying to be set on a copy of a slice from a DataFrame.\n",
            "Try using .loc[row_indexer,col_indexer] = value instead\n",
            "\n",
            "See the caveats in the documentation: http://pandas.pydata.org/pandas-docs/stable/indexing.html#indexing-view-versus-copy\n",
            "\n",
            "/usr/local/lib/python3.6/dist-packages/ipykernel_launcher.py:21: SettingWithCopyWarning:\n",
            "\n",
            "\n",
            "A value is trying to be set on a copy of a slice from a DataFrame.\n",
            "Try using .loc[row_indexer,col_indexer] = value instead\n",
            "\n",
            "See the caveats in the documentation: http://pandas.pydata.org/pandas-docs/stable/indexing.html#indexing-view-versus-copy\n",
            "\n"
          ],
          "name": "stderr"
        },
        {
          "output_type": "execute_result",
          "data": {
            "text/plain": [
              "((31844, 50), (16973, 50))"
            ]
          },
          "metadata": {
            "tags": []
          },
          "execution_count": 130
        }
      ]
    },
    {
      "cell_type": "markdown",
      "metadata": {
        "id": "kPaFyrNconA_",
        "colab_type": "text"
      },
      "source": [
        "#### Quick Test With Just Numeric Coulmns/Features No Nulls"
      ]
    },
    {
      "cell_type": "code",
      "metadata": {
        "id": "eWJ-wJzkkovG",
        "colab_type": "code",
        "colab": {
          "base_uri": "https://localhost:8080/",
          "height": 34
        },
        "outputId": "c1540d7a-f77a-471d-e234-040878bb2e36"
      },
      "source": [
        "train_subset = train.select_dtypes('number').dropna(axis='columns')\n",
        "test_subset  = test.select_dtypes('number').dropna(axis='columns')\n",
        "assert all(train_subset.columns == test_subset.columns)\n",
        "\n",
        "target = 'price'\n",
        "features = train_subset.columns.drop(target)\n",
        "X_train = train_subset[features]\n",
        "y_train = train_subset[target]\n",
        "X_test  = test_subset[features]\n",
        "y_test  = test_subset[target]\n",
        "X_train.shape, y_train.shape, X_test.shape, y_test.shape"
      ],
      "execution_count": 131,
      "outputs": [
        {
          "output_type": "execute_result",
          "data": {
            "text/plain": [
              "((31844, 41), (31844,), (16973, 41), (16973,))"
            ]
          },
          "metadata": {
            "tags": []
          },
          "execution_count": 131
        }
      ]
    },
    {
      "cell_type": "markdown",
      "metadata": {
        "id": "SXi5BLVUpQp1",
        "colab_type": "text"
      },
      "source": [
        "#### Select the 10 Features That Best Correlate to Target Using SelectKBest"
      ]
    },
    {
      "cell_type": "code",
      "metadata": {
        "id": "WDyfjS3nkcW2",
        "colab_type": "code",
        "colab": {
          "base_uri": "https://localhost:8080/",
          "height": 204
        },
        "outputId": "a680a7ed-bca7-4a50-8247-b3e116847468"
      },
      "source": [
        "#Select the 10 features that best correlate to the target\n",
        "from sklearn.feature_selection import f_regression, SelectKBest\n",
        "\n",
        "#This is similar to the way we did linear regression last time\n",
        "#model = LinearRegression()\n",
        "#model.fit(...)\n",
        "selector = SelectKBest(score_func=f_regression, k = 10)\n",
        "X_train_selected = selector.fit_transform(X_train, y_train)\n",
        "X_test_selected = selector.transform(X_test)\n",
        "\n",
        "X_train_selected.shape, X_test_selected.shape\n",
        "\n",
        "# Which features were selected?\n",
        "all_names = X_train.columns\n",
        "selected_mask = selector.get_support()\n",
        "selected_names = all_names[selected_mask]\n",
        "unselected_names = all_names[~selected_mask]\n",
        "\n",
        "print('Features selected:')\n",
        "for name in selected_names:\n",
        "    print(name)"
      ],
      "execution_count": 132,
      "outputs": [
        {
          "output_type": "stream",
          "text": [
            "Features selected:\n",
            "bathrooms\n",
            "bedrooms\n",
            "longitude\n",
            "elevator\n",
            "doorman\n",
            "dishwasher\n",
            "fitness_center\n",
            "laundry_in_unit\n",
            "dining_room\n",
            "rooms\n"
          ],
          "name": "stdout"
        }
      ]
    },
    {
      "cell_type": "markdown",
      "metadata": {
        "id": "a6dXjn7_pvAB",
        "colab_type": "text"
      },
      "source": [
        "#### Run Multiple Linear Regression with MAE, R^2, R^2 Adj."
      ]
    },
    {
      "cell_type": "code",
      "metadata": {
        "id": "UQtUzjlnk9X6",
        "colab_type": "code",
        "colab": {
          "base_uri": "https://localhost:8080/",
          "height": 68
        },
        "outputId": "c50204b4-e9e2-45dc-9467-c32b4004387d"
      },
      "source": [
        "model = LinearRegression()\n",
        "model.fit(X_train_selected, y_train)\n",
        "y_pred = model.predict(X_test_selected)\n",
        "mae = mean_absolute_error(y_test, y_pred)\n",
        "print(f'Test MAE: ${mae:,.0f}')\n",
        "\n",
        "import statsmodels.api as sm\n",
        "X1 = sm.add_constant(X_train_selected)\n",
        "result = sm.OLS(y_train, X1).fit()\n",
        "print('R^2 = ', result.rsquared)\n",
        "print('R^2 Adj. = ', result.rsquared_adj)"
      ],
      "execution_count": 133,
      "outputs": [
        {
          "output_type": "stream",
          "text": [
            "Test MAE: $712\n",
            "R^2 =  0.6032124054152115\n",
            "R^2 Adj. =  0.6031002269785946\n"
          ],
          "name": "stdout"
        }
      ]
    },
    {
      "cell_type": "markdown",
      "metadata": {
        "id": "bBqS2lVpqDRp",
        "colab_type": "text"
      },
      "source": [
        "#### Run Again - Iterate and Add Features"
      ]
    },
    {
      "cell_type": "code",
      "metadata": {
        "id": "ZDJl2hlllVNs",
        "colab_type": "code",
        "colab": {
          "base_uri": "https://localhost:8080/",
          "height": 1000
        },
        "outputId": "3d61fa91-9fb2-4b7b-9cb2-276bc9002530"
      },
      "source": [
        "for k in range(1, len(X_train.columns)+1):\n",
        "  print(f'{k} features')\n",
        "\n",
        "  selector = SelectKBest(score_func=f_regression, k=k)\n",
        "  X_train_selected = selector.fit_transform(X_train, y_train)\n",
        "  X_test_selected = selector.transform(X_test)\n",
        "\n",
        "  model = LinearRegression()\n",
        "  model.fit(X_train_selected, y_train)\n",
        "  y_pred = model.predict(X_test_selected)\n",
        "\n",
        "  mae = mean_absolute_error(y_test, y_pred)\n",
        "  print(f'Test MAE: ${mae:,.0f} ]\\n')"
      ],
      "execution_count": 134,
      "outputs": [
        {
          "output_type": "stream",
          "text": [
            "1 features\n",
            "Test MAE: $890 ]\n",
            "\n",
            "2 features\n",
            "Test MAE: $826 ]\n",
            "\n",
            "3 features\n",
            "Test MAE: $826 ]\n",
            "\n",
            "4 features\n",
            "Test MAE: $820 ]\n",
            "\n",
            "5 features\n",
            "Test MAE: $772 ]\n",
            "\n",
            "6 features\n",
            "Test MAE: $713 ]\n",
            "\n",
            "7 features\n",
            "Test MAE: $713 ]\n",
            "\n",
            "8 features\n",
            "Test MAE: $713 ]\n",
            "\n",
            "9 features\n",
            "Test MAE: $713 ]\n",
            "\n",
            "10 features\n",
            "Test MAE: $712 ]\n",
            "\n",
            "11 features\n",
            "Test MAE: $700 ]\n",
            "\n",
            "12 features\n",
            "Test MAE: $700 ]\n",
            "\n",
            "13 features\n",
            "Test MAE: $700 ]\n",
            "\n",
            "14 features\n",
            "Test MAE: $681 ]\n",
            "\n",
            "15 features\n",
            "Test MAE: $681 ]\n",
            "\n",
            "16 features\n",
            "Test MAE: $680 ]\n",
            "\n",
            "17 features\n",
            "Test MAE: $680 ]\n",
            "\n",
            "18 features\n",
            "Test MAE: $680 ]\n",
            "\n",
            "19 features\n",
            "Test MAE: $678 ]\n",
            "\n",
            "20 features\n",
            "Test MAE: $678 ]\n",
            "\n",
            "21 features\n",
            "Test MAE: $671 ]\n",
            "\n",
            "22 features\n",
            "Test MAE: $665 ]\n",
            "\n",
            "23 features\n",
            "Test MAE: $662 ]\n",
            "\n",
            "24 features\n",
            "Test MAE: $662 ]\n",
            "\n",
            "25 features\n",
            "Test MAE: $660 ]\n",
            "\n",
            "26 features\n",
            "Test MAE: $660 ]\n",
            "\n",
            "27 features\n",
            "Test MAE: $661 ]\n",
            "\n",
            "28 features\n",
            "Test MAE: $660 ]\n",
            "\n",
            "29 features\n",
            "Test MAE: $659 ]\n",
            "\n",
            "30 features\n",
            "Test MAE: $658 ]\n",
            "\n",
            "31 features\n",
            "Test MAE: $658 ]\n",
            "\n",
            "32 features\n",
            "Test MAE: $659 ]\n",
            "\n",
            "33 features\n",
            "Test MAE: $654 ]\n",
            "\n",
            "34 features\n",
            "Test MAE: $654 ]\n",
            "\n",
            "35 features\n",
            "Test MAE: $654 ]\n",
            "\n",
            "36 features\n",
            "Test MAE: $654 ]\n",
            "\n",
            "37 features\n",
            "Test MAE: $654 ]\n",
            "\n",
            "38 features\n",
            "Test MAE: $653 ]\n",
            "\n",
            "39 features\n",
            "Test MAE: $654 ]\n",
            "\n",
            "40 features\n",
            "Test MAE: $654 ]\n",
            "\n",
            "41 features\n",
            "Test MAE: $654 ]\n",
            "\n"
          ],
          "name": "stdout"
        }
      ]
    }
  ]
}