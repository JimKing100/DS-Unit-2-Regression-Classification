{
  "nbformat": 4,
  "nbformat_minor": 0,
  "metadata": {
    "colab": {
      "name": "Untitled20.ipynb",
      "version": "0.3.2",
      "provenance": [],
      "include_colab_link": true
    },
    "kernelspec": {
      "name": "python3",
      "display_name": "Python 3"
    }
  },
  "cells": [
    {
      "cell_type": "markdown",
      "metadata": {
        "id": "view-in-github",
        "colab_type": "text"
      },
      "source": [
        "<a href=\"https://colab.research.google.com/github/JimKing100/DS-Unit-2-Regression-Classification/blob/master/assignment_regression_classification_4a.ipynb\" target=\"_parent\"><img src=\"https://colab.research.google.com/assets/colab-badge.svg\" alt=\"Open In Colab\"/></a>"
      ]
    },
    {
      "cell_type": "code",
      "metadata": {
        "id": "jxFhqMBTqPji",
        "colab_type": "code",
        "colab": {}
      },
      "source": [
        "# Installs\n",
        "%%capture\n",
        "!pip install --upgrade category_encoders plotly"
      ],
      "execution_count": 0,
      "outputs": []
    },
    {
      "cell_type": "code",
      "metadata": {
        "id": "Cz1aBBrrpa3L",
        "colab_type": "code",
        "outputId": "e7ec5a0f-adda-495f-db54-d1098c03b628",
        "colab": {
          "base_uri": "https://localhost:8080/",
          "height": 131
        }
      },
      "source": [
        "# Imports\n",
        "import os, sys\n",
        "\n",
        "os.chdir('/content')\n",
        "!git init .\n",
        "!git remote add origin https://github.com/LambdaSchool/DS-Unit-2-Regression-Classification.git\n",
        "!git pull origin master\n",
        "    \n",
        "os.chdir('module4')"
      ],
      "execution_count": 66,
      "outputs": [
        {
          "output_type": "stream",
          "text": [
            "Reinitialized existing Git repository in /content/.git/\n",
            "fatal: remote origin already exists.\n",
            "From https://github.com/LambdaSchool/DS-Unit-2-Regression-Classification\n",
            " * branch            master     -> FETCH_HEAD\n",
            "Already up to date.\n"
          ],
          "name": "stdout"
        }
      ]
    },
    {
      "cell_type": "code",
      "metadata": {
        "id": "--8zMv9Iq_3B",
        "colab_type": "code",
        "colab": {}
      },
      "source": [
        "# Disable warning\n",
        "import warnings\n",
        "warnings.filterwarnings(action='ignore', category=FutureWarning, module='numpy')"
      ],
      "execution_count": 0,
      "outputs": []
    },
    {
      "cell_type": "markdown",
      "metadata": {
        "id": "MQeB6OCfrt04",
        "colab_type": "text"
      },
      "source": [
        "### Load Data"
      ]
    },
    {
      "cell_type": "code",
      "metadata": {
        "id": "md_dzn0CrUdE",
        "colab_type": "code",
        "colab": {}
      },
      "source": [
        "import pandas as pd\n",
        "\n",
        "train_features = pd.read_csv('../data/tanzania/train_features.csv')\n",
        "train_labels = pd.read_csv('../data/tanzania/train_labels.csv')\n",
        "test_features = pd.read_csv('../data/tanzania/test_features.csv')\n",
        "sample_submission = pd.read_csv('../data/tanzania/sample_submission.csv')\n",
        "\n",
        "assert train_features.shape == (59400, 40)\n",
        "assert train_labels.shape == (59400, 2)\n",
        "assert test_features.shape == (14358, 40)\n",
        "assert sample_submission.shape == (14358, 2)"
      ],
      "execution_count": 0,
      "outputs": []
    },
    {
      "cell_type": "markdown",
      "metadata": {
        "id": "tsv1j8i1ryE_",
        "colab_type": "text"
      },
      "source": [
        "### Train/Validate/Test Split"
      ]
    },
    {
      "cell_type": "code",
      "metadata": {
        "id": "I5MwknJoreoz",
        "colab_type": "code",
        "outputId": "87356004-7111-42d5-d50b-3cff697b3096",
        "colab": {
          "base_uri": "https://localhost:8080/",
          "height": 34
        }
      },
      "source": [
        "# Load initial train features and labels\n",
        "from sklearn.model_selection import train_test_split\n",
        "X_train = train_features\n",
        "y_train = train_labels['status_group']\n",
        "\n",
        "X_train.shape, y_train.shape"
      ],
      "execution_count": 69,
      "outputs": [
        {
          "output_type": "execute_result",
          "data": {
            "text/plain": [
              "((59400, 40), (59400,))"
            ]
          },
          "metadata": {
            "tags": []
          },
          "execution_count": 69
        }
      ]
    },
    {
      "cell_type": "code",
      "metadata": {
        "id": "vwwYWwWxsGmP",
        "colab_type": "code",
        "outputId": "a2700c82-c5ee-4bfe-f79b-a51ffc54236e",
        "colab": {
          "base_uri": "https://localhost:8080/",
          "height": 34
        }
      },
      "source": [
        "# Split the initial train features and labels 80% into new train and new validation\n",
        "X_train, X_val, y_train, y_val = train_test_split(\n",
        "  X_train, y_train, train_size = 0.80, test_size = 0.20,\n",
        "  stratify = y_train, random_state=42\n",
        ")\n",
        "\n",
        "X_train.shape, X_val.shape, y_train.shape, y_val.shape"
      ],
      "execution_count": 70,
      "outputs": [
        {
          "output_type": "execute_result",
          "data": {
            "text/plain": [
              "((47520, 40), (11880, 40), (47520,), (11880,))"
            ]
          },
          "metadata": {
            "tags": []
          },
          "execution_count": 70
        }
      ]
    },
    {
      "cell_type": "code",
      "metadata": {
        "id": "8XxcRPT4sLpg",
        "colab_type": "code",
        "outputId": "6657f600-4c73-4fef-bc93-374d7b175acf",
        "colab": {
          "base_uri": "https://localhost:8080/",
          "height": 85
        }
      },
      "source": [
        "# Check values of new train labels\n",
        "y_train.value_counts(normalize=True)"
      ],
      "execution_count": 71,
      "outputs": [
        {
          "output_type": "execute_result",
          "data": {
            "text/plain": [
              "functional                 0.543077\n",
              "non functional             0.384238\n",
              "functional needs repair    0.072685\n",
              "Name: status_group, dtype: float64"
            ]
          },
          "metadata": {
            "tags": []
          },
          "execution_count": 71
        }
      ]
    },
    {
      "cell_type": "code",
      "metadata": {
        "id": "snw_P3-asTCt",
        "colab_type": "code",
        "outputId": "55850c4a-e4d3-45cc-c3d6-33d94f41c497",
        "colab": {
          "base_uri": "https://localhost:8080/",
          "height": 85
        }
      },
      "source": [
        "# Check values of new validation labels\n",
        "y_val.value_counts(normalize=True)"
      ],
      "execution_count": 72,
      "outputs": [
        {
          "output_type": "execute_result",
          "data": {
            "text/plain": [
              "functional                 0.543098\n",
              "non functional             0.384259\n",
              "functional needs repair    0.072643\n",
              "Name: status_group, dtype: float64"
            ]
          },
          "metadata": {
            "tags": []
          },
          "execution_count": 72
        }
      ]
    },
    {
      "cell_type": "markdown",
      "metadata": {
        "id": "hDyEKbbPsZsG",
        "colab_type": "text"
      },
      "source": [
        "### Do One-Hot Encoding - Quantity"
      ]
    },
    {
      "cell_type": "code",
      "metadata": {
        "id": "OgXptAiYsjPH",
        "colab_type": "code",
        "outputId": "3fa69284-18c1-41b3-e32a-cf0bb4b18d19",
        "colab": {
          "base_uri": "https://localhost:8080/",
          "height": 119
        }
      },
      "source": [
        "# Check values of quantity feature\n",
        "X_train['quantity'].value_counts(normalize=True)"
      ],
      "execution_count": 73,
      "outputs": [
        {
          "output_type": "execute_result",
          "data": {
            "text/plain": [
              "enough          0.559070\n",
              "insufficient    0.255745\n",
              "dry             0.103556\n",
              "seasonal        0.068266\n",
              "unknown         0.013363\n",
              "Name: quantity, dtype: float64"
            ]
          },
          "metadata": {
            "tags": []
          },
          "execution_count": 73
        }
      ]
    },
    {
      "cell_type": "code",
      "metadata": {
        "id": "2-euYaI6sw7X",
        "colab_type": "code",
        "outputId": "46ec94c3-528e-4655-9c93-d16a32e3976f",
        "colab": {
          "base_uri": "https://localhost:8080/",
          "height": 306
        }
      },
      "source": [
        "# Recombine X_train and y_train, for exploratory data analysis\n",
        "train = X_train.copy()\n",
        "train['status_group'] = y_train\n",
        "\n",
        "train.groupby('quantity')['status_group'].value_counts(normalize=True)"
      ],
      "execution_count": 74,
      "outputs": [
        {
          "output_type": "execute_result",
          "data": {
            "text/plain": [
              "quantity      status_group           \n",
              "dry           non functional             0.967689\n",
              "              functional                 0.026011\n",
              "              functional needs repair    0.006300\n",
              "enough        functional                 0.650920\n",
              "              non functional             0.276998\n",
              "              functional needs repair    0.072082\n",
              "insufficient  functional                 0.521106\n",
              "              non functional             0.382786\n",
              "              functional needs repair    0.096108\n",
              "seasonal      functional                 0.580456\n",
              "              non functional             0.318434\n",
              "              functional needs repair    0.101110\n",
              "unknown       non functional             0.713386\n",
              "              functional                 0.267717\n",
              "              functional needs repair    0.018898\n",
              "Name: status_group, dtype: float64"
            ]
          },
          "metadata": {
            "tags": []
          },
          "execution_count": 74
        }
      ]
    },
    {
      "cell_type": "code",
      "metadata": {
        "id": "m-T5P9Z5s_6-",
        "colab_type": "code",
        "outputId": "6b81e4e9-80b9-4b0c-ede8-a311f5212335",
        "colab": {
          "base_uri": "https://localhost:8080/",
          "height": 399
        }
      },
      "source": [
        "# Plot the values, dry shows a strong relationship to functional\n",
        "import matplotlib.pyplot as plt\n",
        "import seaborn as sns\n",
        "\n",
        "train['functional']= (train['status_group'] == 'functional').astype(int)\n",
        "train[['status_group', 'functional']]\n",
        "\n",
        "sns.catplot(x='quantity', y='functional', data=train, kind='bar', color='grey')\n",
        "plt.title('% of Waterpumps Functional by Water Quantity')"
      ],
      "execution_count": 75,
      "outputs": [
        {
          "output_type": "execute_result",
          "data": {
            "text/plain": [
              "Text(0.5, 1.0, '% of Waterpumps Functional by Water Quantity')"
            ]
          },
          "metadata": {
            "tags": []
          },
          "execution_count": 75
        },
        {
          "output_type": "display_data",
          "data": {
            "image/png": "[encoded data removed]",
            "text/plain": [
              "<Figure size 360x360 with 1 Axes>"
            ]
          },
          "metadata": {
            "tags": []
          }
        }
      ]
    },
    {
      "cell_type": "code",
      "metadata": {
        "id": "Lu_JKfVD0uQq",
        "colab_type": "code",
        "colab": {
          "base_uri": "https://localhost:8080/",
          "height": 153
        },
        "outputId": "a72b52b2-eaf5-4130-bce3-e157a3e05287"
      },
      "source": [
        "X_train['waterpoint_type'].value_counts(normalize=True)"
      ],
      "execution_count": 76,
      "outputs": [
        {
          "output_type": "execute_result",
          "data": {
            "text/plain": [
              "communal standpipe             0.479335\n",
              "hand pump                      0.294928\n",
              "other                          0.108123\n",
              "communal standpipe multiple    0.102357\n",
              "improved spring                0.013279\n",
              "cattle trough                  0.001873\n",
              "dam                            0.000105\n",
              "Name: waterpoint_type, dtype: float64"
            ]
          },
          "metadata": {
            "tags": []
          },
          "execution_count": 76
        }
      ]
    },
    {
      "cell_type": "code",
      "metadata": {
        "id": "j22sVuil1Xry",
        "colab_type": "code",
        "colab": {
          "base_uri": "https://localhost:8080/",
          "height": 399
        },
        "outputId": "ce3b1e2e-1f74-44e4-86c9-4dbcad76c865"
      },
      "source": [
        "# Recombine X_train and y_train, for exploratory data analysis\n",
        "train = X_train.copy()\n",
        "train['status_group'] = y_train\n",
        "train.groupby('waterpoint_type')['status_group'].value_counts(normalize=True)\n",
        "train['functional']= (train['status_group'] == 'functional').astype(int)\n",
        "train[['status_group', 'functional']]\n",
        "\n",
        "sns.catplot(x='waterpoint_type', y='functional', data=train, kind='bar', color='grey')\n",
        "plt.title('% of Waterpumps Functional by Waterpoint Type')"
      ],
      "execution_count": 77,
      "outputs": [
        {
          "output_type": "execute_result",
          "data": {
            "text/plain": [
              "Text(0.5, 1.0, '% of Waterpumps Functional by Waterpoint Type')"
            ]
          },
          "metadata": {
            "tags": []
          },
          "execution_count": 77
        },
        {
          "output_type": "display_data",
          "data": {
            "image/png": "[encoded data removed]",
            "text/plain": [
              "<Figure size 360x360 with 1 Axes>"
            ]
          },
          "metadata": {
            "tags": []
          }
        }
      ]
    },
    {
      "cell_type": "code",
      "metadata": {
        "id": "uWh6pw4X2QoG",
        "colab_type": "code",
        "colab": {
          "base_uri": "https://localhost:8080/",
          "height": 399
        },
        "outputId": "b094efe5-fec7-4c74-b5bd-3e79947b1da0"
      },
      "source": [
        "X_train['extraction_type'].value_counts(normalize=True)\n",
        "train = X_train.copy()\n",
        "train['status_group'] = y_train\n",
        "train.groupby('extraction_type')['status_group'].value_counts(normalize=True)\n",
        "train['functional']= (train['status_group'] == 'functional').astype(int)\n",
        "train[['status_group', 'functional']]\n",
        "\n",
        "sns.catplot(x='extraction_type', y='functional', data=train, kind='bar', color='grey')\n",
        "plt.title('% of Waterpumps Functional by Extraction Type')"
      ],
      "execution_count": 78,
      "outputs": [
        {
          "output_type": "execute_result",
          "data": {
            "text/plain": [
              "Text(0.5, 1.0, '% of Waterpumps Functional by Extraction Type')"
            ]
          },
          "metadata": {
            "tags": []
          },
          "execution_count": 78
        },
        {
          "output_type": "display_data",
          "data": {
            "image/png": "[encoded data removed]",
            "text/plain": [
              "<Figure size 360x360 with 1 Axes>"
            ]
          },
          "metadata": {
            "tags": []
          }
        }
      ]
    },
    {
      "cell_type": "code",
      "metadata": {
        "id": "k_FZM59h4pGm",
        "colab_type": "code",
        "colab": {
          "base_uri": "https://localhost:8080/",
          "height": 754
        },
        "outputId": "885bbd23-d0df-4b49-dbd1-efabb9dc6122"
      },
      "source": [
        "X_train['installer'].value_counts(normalize=True)\n",
        "top10 = X_train['installer'].value_counts()[:10].index\n",
        "X_train.loc[~X_train['installer'].isin(top10), 'installer'] = 'Other'\n",
        "\n",
        "train = X_train.copy()\n",
        "train['status_group'] = y_train\n",
        "\n",
        "train.groupby('installer')['status_group'].value_counts(normalize=True)"
      ],
      "execution_count": 79,
      "outputs": [
        {
          "output_type": "stream",
          "text": [
            "/usr/local/lib/python3.6/dist-packages/pandas/core/indexing.py:543: SettingWithCopyWarning: \n",
            "A value is trying to be set on a copy of a slice from a DataFrame.\n",
            "Try using .loc[row_indexer,col_indexer] = value instead\n",
            "\n",
            "See the caveats in the documentation: http://pandas.pydata.org/pandas-docs/stable/indexing.html#indexing-view-versus-copy\n",
            "  self.obj[item] = s\n"
          ],
          "name": "stderr"
        },
        {
          "output_type": "execute_result",
          "data": {
            "text/plain": [
              "installer           status_group           \n",
              "0                   functional                 0.571664\n",
              "                    non functional             0.423394\n",
              "                    functional needs repair    0.004942\n",
              "Central government  non functional             0.725971\n",
              "                    functional                 0.267894\n",
              "                    functional needs repair    0.006135\n",
              "Commu               functional                 0.685579\n",
              "                    non functional             0.284870\n",
              "                    functional needs repair    0.029551\n",
              "DANIDA              functional                 0.507126\n",
              "                    non functional             0.419240\n",
              "                    functional needs repair    0.073634\n",
              "DWE                 functional                 0.540635\n",
              "                    non functional             0.366361\n",
              "                    functional needs repair    0.093003\n",
              "Government          non functional             0.569273\n",
              "                    functional                 0.288066\n",
              "                    functional needs repair    0.142661\n",
              "Hesawa              functional                 0.565868\n",
              "                    non functional             0.413174\n",
              "                    functional needs repair    0.020958\n",
              "KKKT                functional                 0.466855\n",
              "                    non functional             0.461213\n",
              "                    functional needs repair    0.071932\n",
              "Other               functional                 0.574374\n",
              "                    non functional             0.363020\n",
              "                    functional needs repair    0.062607\n",
              "RWE                 non functional             0.639583\n",
              "                    functional                 0.251042\n",
              "                    functional needs repair    0.109375\n",
              "TCRS                non functional             0.531250\n",
              "                    functional                 0.414931\n",
              "                    functional needs repair    0.053819\n",
              "Name: status_group, dtype: float64"
            ]
          },
          "metadata": {
            "tags": []
          },
          "execution_count": 79
        }
      ]
    },
    {
      "cell_type": "code",
      "metadata": {
        "id": "M84Vm5jM8KkU",
        "colab_type": "code",
        "colab": {
          "base_uri": "https://localhost:8080/",
          "height": 399
        },
        "outputId": "e11339f9-c27d-4aa2-c1c1-c03f5c99cf6f"
      },
      "source": [
        "train['functional']= (train['status_group'] == 'functional').astype(int)\n",
        "train[['status_group', 'functional']]\n",
        "\n",
        "sns.catplot(x='installer', y='functional', data=train, kind='bar', color='grey')\n",
        "plt.title('% of Waterpumps Functional by Installer')"
      ],
      "execution_count": 80,
      "outputs": [
        {
          "output_type": "execute_result",
          "data": {
            "text/plain": [
              "Text(0.5, 1.0, '% of Waterpumps Functional by Installer')"
            ]
          },
          "metadata": {
            "tags": []
          },
          "execution_count": 80
        },
        {
          "output_type": "display_data",
          "data": {
            "image/png": "[encoded data removed]",
            "text/plain": [
              "<Figure size 360x360 with 1 Axes>"
            ]
          },
          "metadata": {
            "tags": []
          }
        }
      ]
    },
    {
      "cell_type": "code",
      "metadata": {
        "id": "oUahkHzQCrRs",
        "colab_type": "code",
        "colab": {
          "base_uri": "https://localhost:8080/",
          "height": 643
        },
        "outputId": "a858dafd-32ec-4445-9c8f-74795043c24d"
      },
      "source": [
        "X_train['pump_age'] = 2013 - X_train['construction_year']\n",
        "X_val['pump_age'] = 2013 - X_val['construction_year']\n",
        "train = X_train.copy()\n",
        "train['status_group'] = y_train\n",
        "\n",
        "train.groupby('pump_age')['status_group'].value_counts(normalize=True)\n",
        "train['functional']= (train['status_group'] == 'functional').astype(int)\n",
        "train[['status_group', 'functional']]\n",
        "\n",
        "sns.catplot(x='pump_age', y='functional', data=train, kind='bar', color='grey')\n",
        "plt.title('% of Waterpumps Functional by Pump Age')"
      ],
      "execution_count": 86,
      "outputs": [
        {
          "output_type": "stream",
          "text": [
            "/usr/local/lib/python3.6/dist-packages/ipykernel_launcher.py:1: SettingWithCopyWarning: \n",
            "A value is trying to be set on a copy of a slice from a DataFrame.\n",
            "Try using .loc[row_indexer,col_indexer] = value instead\n",
            "\n",
            "See the caveats in the documentation: http://pandas.pydata.org/pandas-docs/stable/indexing.html#indexing-view-versus-copy\n",
            "  \"\"\"Entry point for launching an IPython kernel.\n",
            "/usr/local/lib/python3.6/dist-packages/ipykernel_launcher.py:2: SettingWithCopyWarning: \n",
            "A value is trying to be set on a copy of a slice from a DataFrame.\n",
            "Try using .loc[row_indexer,col_indexer] = value instead\n",
            "\n",
            "See the caveats in the documentation: http://pandas.pydata.org/pandas-docs/stable/indexing.html#indexing-view-versus-copy\n",
            "  \n"
          ],
          "name": "stderr"
        },
        {
          "output_type": "execute_result",
          "data": {
            "text/plain": [
              "Text(0.5, 1.0, '% of Waterpumps Functional by Pump Age')"
            ]
          },
          "metadata": {
            "tags": []
          },
          "execution_count": 86
        },
        {
          "output_type": "display_data",
          "data": {
            "image/png": "[encoded data removed]",
            "text/plain": [
              "<Figure size 360x360 with 1 Axes>"
            ]
          },
          "metadata": {
            "tags": []
          }
        }
      ]
    },
    {
      "cell_type": "markdown",
      "metadata": {
        "id": "vBATDBn30mLX",
        "colab_type": "text"
      },
      "source": [
        "### Run the Logistic Regression"
      ]
    },
    {
      "cell_type": "code",
      "metadata": {
        "id": "Oc7PYIt2texi",
        "colab_type": "code",
        "colab": {}
      },
      "source": [
        "import sklearn\n",
        "sklearn.__version__\n",
        "\n",
        "# Import the class\n",
        "from sklearn.linear_model import LogisticRegressionCV\n",
        "\n",
        "# Import package and scaler\n",
        "import category_encoders as ce\n",
        "from sklearn.preprocessing import StandardScaler"
      ],
      "execution_count": 0,
      "outputs": []
    },
    {
      "cell_type": "code",
      "metadata": {
        "id": "fBcw2yiWtSVk",
        "colab_type": "code",
        "outputId": "c5b5520a-bdc4-4cb5-e1ea-5e8faed213d6",
        "colab": {
          "base_uri": "https://localhost:8080/",
          "height": 165
        }
      },
      "source": [
        "# use quantity feature and the numerical features but drop id\n",
        "categorical_features = ['quantity', 'waterpoint_type', 'extraction_type', 'installer']\n",
        "numeric_features = X_train.select_dtypes('number').columns.drop('id').tolist()\n",
        "features = categorical_features + numeric_features\n",
        "\n",
        "# make subsets using the quantity feature all numeric features except id\n",
        "X_train_subset = X_train[features]\n",
        "X_val_subset = X_val[features]\n",
        "\n",
        "# Do the encoding\n",
        "encoder = ce.OneHotEncoder(use_cat_names=True)\n",
        "X_train_encoded = encoder.fit_transform(X_train_subset)\n",
        "X_val_encoded = encoder.transform(X_val_subset)\n",
        "\n",
        "# Use the scaler\n",
        "scaler = StandardScaler()\n",
        "X_train_scaled = scaler.fit_transform(X_train_encoded)\n",
        "X_val_scaled = scaler.transform(X_val_encoded)\n",
        "\n",
        "# Fit the model and check the accuracy\n",
        "model = LogisticRegressionCV(n_jobs = -1)\n",
        "model.fit(X_train_scaled, y_train)\n",
        "print('Validation Accuracy', model.score(X_val_scaled, y_val));"
      ],
      "execution_count": 88,
      "outputs": [
        {
          "output_type": "stream",
          "text": [
            "/usr/local/lib/python3.6/dist-packages/sklearn/linear_model/logistic.py:469: FutureWarning: Default multi_class will be changed to 'auto' in 0.22. Specify the multi_class option to silence this warning.\n",
            "  \"this warning.\", FutureWarning)\n",
            "/usr/local/lib/python3.6/dist-packages/sklearn/model_selection/_split.py:1978: FutureWarning: The default value of cv will change from 3 to 5 in version 0.22. Specify it explicitly to silence this warning.\n",
            "  warnings.warn(CV_WARNING, FutureWarning)\n"
          ],
          "name": "stderr"
        },
        {
          "output_type": "stream",
          "text": [
            "Validation Accuracy 0.70993265993266\n"
          ],
          "name": "stdout"
        }
      ]
    },
    {
      "cell_type": "code",
      "metadata": {
        "id": "ox_dhTgAvC_H",
        "colab_type": "code",
        "outputId": "3332a848-2e4f-4794-8043-dc3c9d60195c",
        "colab": {
          "base_uri": "https://localhost:8080/",
          "height": 884
        }
      },
      "source": [
        "model.coef_"
      ],
      "execution_count": 89,
      "outputs": [
        {
          "output_type": "execute_result",
          "data": {
            "text/plain": [
              "array([[ 1.43421520e-01,  4.10395494e-01, -9.59993289e-01,\n",
              "         1.31844984e-01, -6.17413241e-02,  2.53649087e-01,\n",
              "         1.77751755e-02, -3.78686147e-01, -1.10344814e-01,\n",
              "         1.22843993e-01,  3.94144826e-02,  4.44137436e-02,\n",
              "        -4.58044199e-02,  7.70446906e-02, -2.53095174e-01,\n",
              "        -7.78566279e-02,  4.50697189e-02, -2.46500549e-03,\n",
              "        -7.73985384e-02,  2.57236732e-01, -8.30843132e-03,\n",
              "         1.03680549e-01, -1.35409422e-02, -1.08990567e-02,\n",
              "         2.90995042e-02, -4.11008712e-02, -2.13573331e-02,\n",
              "         3.95213157e-03, -2.04359953e-02, -1.89974169e-02,\n",
              "         8.53176487e-02,  5.88549120e-03, -1.35592929e-03,\n",
              "        -1.72796627e-01, -1.57604983e-01, -1.18675161e-01,\n",
              "        -6.77514163e-02,  3.80842702e-02,  1.62769399e-01,\n",
              "         3.17884948e-02, -5.33929230e-04,  2.80876424e-01,\n",
              "         1.43071701e-01,  3.83174034e-02, -7.40951183e-02,\n",
              "        -5.28973258e-03, -1.96017313e-01,  7.59929712e-02,\n",
              "         4.79681487e-02, -3.87051161e-02,  3.87051161e-02],\n",
              "       [ 4.54764160e-02, -2.50609886e-04, -7.81666754e-02,\n",
              "         2.60907721e-02, -2.15982816e-02,  1.44202263e-02,\n",
              "        -2.97313683e-02, -2.50147327e-02,  4.55741146e-02,\n",
              "         6.96317612e-03, -1.07389782e-02, -2.45578324e-03,\n",
              "         8.29836299e-02, -2.78771858e-02, -4.60479763e-02,\n",
              "        -2.06533251e-02, -1.14806732e-02, -1.95075915e-02,\n",
              "        -3.07793700e-02,  6.39268294e-03, -6.89553247e-03,\n",
              "        -2.90650446e-02, -7.52668882e-03, -6.75045312e-03,\n",
              "        -7.89669385e-03, -6.99942532e-03, -1.54465697e-03,\n",
              "         1.23302338e-02, -9.24572421e-04, -1.19883617e-03,\n",
              "        -2.85100174e-02,  3.50996949e-02,  9.78208105e-04,\n",
              "         3.86750415e-02,  1.59960652e-02,  1.46259936e-05,\n",
              "        -4.60584667e-03, -2.51793140e-02, -2.06055857e-02,\n",
              "        -2.25477665e-02, -2.18729665e-02, -3.04054531e-03,\n",
              "        -1.77613991e-02, -9.79516782e-02,  2.79235856e-02,\n",
              "        -3.19428840e-03,  1.84121221e-02, -1.34782272e-02,\n",
              "         5.50636518e-03, -2.35923435e-02,  2.35923435e-02],\n",
              "       [-1.96475797e-01, -4.36858553e-01,  1.09999351e+00,\n",
              "        -1.69441431e-01,  8.88385730e-02, -2.75974912e-01,\n",
              "         5.91693398e-02,  3.56816805e-01,  6.01545436e-02,\n",
              "        -1.43429406e-01, -2.60862949e-02, -5.89744520e-02,\n",
              "        -4.53041236e-02, -4.83884383e-02,  3.25613770e-01,\n",
              "         1.22792679e-01, -4.29765465e-02,  4.38145879e-02,\n",
              "         1.25519522e-01, -3.05455352e-01,  1.36326972e-02,\n",
              "        -7.91533801e-02,  2.21904086e-02,  1.72769230e-02,\n",
              "        -3.51966862e-02,  5.56121782e-02,  2.76728330e-02,\n",
              "        -1.14576467e-02,  2.36332100e-02,  2.62348750e-02,\n",
              "        -6.99927612e-02, -2.60902073e-02,  1.07833654e-02,\n",
              "         1.33611069e-01,  1.46944314e-01,  1.37979667e-01,\n",
              "         6.97850328e-02, -4.34690793e-04, -1.79027694e-01,\n",
              "        -1.91880949e-02,  2.58244184e-02, -4.99937096e-01,\n",
              "        -7.63406516e-02,  1.81585125e-01,  1.12466909e-01,\n",
              "         6.74713130e-03,  1.38557538e-01, -3.93269656e-02,\n",
              "        -7.22409470e-02,  3.56454647e-02, -3.56454647e-02]])"
            ]
          },
          "metadata": {
            "tags": []
          },
          "execution_count": 89
        }
      ]
    },
    {
      "cell_type": "code",
      "metadata": {
        "id": "wBLM5NJQvGyv",
        "colab_type": "code",
        "colab": {}
      },
      "source": [
        "functional_coefficients = pd.Series(\n",
        "  model.coef_[0],\n",
        "  X_train_encoded.columns\n",
        ")\n",
        "\n",
        "#plt.figure(figsize=(10, 10))\n",
        "#functional_coefficients.sort_values().plot.bar"
      ],
      "execution_count": 0,
      "outputs": []
    }
  ]
}