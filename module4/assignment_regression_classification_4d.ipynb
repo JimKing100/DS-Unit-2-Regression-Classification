{
  "nbformat": 4,
  "nbformat_minor": 0,
  "metadata": {
    "colab": {
      "name": "Untitled20.ipynb",
      "version": "0.3.2",
      "provenance": [],
      "toc_visible": true,
      "include_colab_link": true
    },
    "kernelspec": {
      "name": "python3",
      "display_name": "Python 3"
    }
  },
  "cells": [
    {
      "cell_type": "markdown",
      "metadata": {
        "id": "view-in-github",
        "colab_type": "text"
      },
      "source": [
        "<a href=\"https://colab.research.google.com/github/JimKing100/DS-Unit-2-Regression-Classification/blob/master/module4/assignment_regression_classification_4d.ipynb\" target=\"_parent\"><img src=\"https://colab.research.google.com/assets/colab-badge.svg\" alt=\"Open In Colab\"/></a>"
      ]
    },
    {
      "cell_type": "code",
      "metadata": {
        "id": "jxFhqMBTqPji",
        "colab_type": "code",
        "colab": {}
      },
      "source": [
        "# Installs\n",
        "%%capture\n",
        "!pip install --upgrade category_encoders plotly"
      ],
      "execution_count": 0,
      "outputs": []
    },
    {
      "cell_type": "code",
      "metadata": {
        "id": "Cz1aBBrrpa3L",
        "colab_type": "code",
        "outputId": "94171b9b-06f7-495c-94e8-a0472a55904b",
        "colab": {
          "base_uri": "https://localhost:8080/",
          "height": 131
        }
      },
      "source": [
        "# Imports\n",
        "import os, sys\n",
        "\n",
        "os.chdir('/content')\n",
        "!git init .\n",
        "!git remote add origin https://github.com/LambdaSchool/DS-Unit-2-Regression-Classification.git\n",
        "!git pull origin master\n",
        "    \n",
        "os.chdir('module4')"
      ],
      "execution_count": 361,
      "outputs": [
        {
          "output_type": "stream",
          "text": [
            "Reinitialized existing Git repository in /content/.git/\n",
            "fatal: remote origin already exists.\n",
            "From https://github.com/LambdaSchool/DS-Unit-2-Regression-Classification\n",
            " * branch            master     -> FETCH_HEAD\n",
            "Already up to date.\n"
          ],
          "name": "stdout"
        }
      ]
    },
    {
      "cell_type": "code",
      "metadata": {
        "id": "--8zMv9Iq_3B",
        "colab_type": "code",
        "colab": {}
      },
      "source": [
        "# Disable warning\n",
        "import warnings\n",
        "warnings.filterwarnings(action='ignore', category=FutureWarning, module='numpy')"
      ],
      "execution_count": 0,
      "outputs": []
    },
    {
      "cell_type": "markdown",
      "metadata": {
        "id": "MQeB6OCfrt04",
        "colab_type": "text"
      },
      "source": [
        "### Load Data"
      ]
    },
    {
      "cell_type": "code",
      "metadata": {
        "id": "md_dzn0CrUdE",
        "colab_type": "code",
        "colab": {}
      },
      "source": [
        "import pandas as pd\n",
        "\n",
        "train_features = pd.read_csv('../data/tanzania/train_features.csv')\n",
        "train_labels = pd.read_csv('../data/tanzania/train_labels.csv')\n",
        "test_features = pd.read_csv('../data/tanzania/test_features.csv')\n",
        "sample_submission = pd.read_csv('../data/tanzania/sample_submission.csv')\n",
        "\n",
        "assert train_features.shape == (59400, 40)\n",
        "assert train_labels.shape == (59400, 2)\n",
        "assert test_features.shape == (14358, 40)\n",
        "assert sample_submission.shape == (14358, 2)"
      ],
      "execution_count": 0,
      "outputs": []
    },
    {
      "cell_type": "markdown",
      "metadata": {
        "id": "tsv1j8i1ryE_",
        "colab_type": "text"
      },
      "source": [
        "### Train/Validate/Test Split"
      ]
    },
    {
      "cell_type": "code",
      "metadata": {
        "id": "I5MwknJoreoz",
        "colab_type": "code",
        "outputId": "6ca32c22-edf2-4786-d6d5-08d3d92814d8",
        "colab": {
          "base_uri": "https://localhost:8080/",
          "height": 34
        }
      },
      "source": [
        "# Load initial train features and labels\n",
        "from sklearn.model_selection import train_test_split\n",
        "X_train = train_features\n",
        "y_train = train_labels['status_group']\n",
        "\n",
        "X_train.shape, y_train.shape"
      ],
      "execution_count": 364,
      "outputs": [
        {
          "output_type": "execute_result",
          "data": {
            "text/plain": [
              "((59400, 40), (59400,))"
            ]
          },
          "metadata": {
            "tags": []
          },
          "execution_count": 364
        }
      ]
    },
    {
      "cell_type": "code",
      "metadata": {
        "id": "vwwYWwWxsGmP",
        "colab_type": "code",
        "outputId": "cc7073fd-164a-402f-e124-fac84b0afb44",
        "colab": {
          "base_uri": "https://localhost:8080/",
          "height": 34
        }
      },
      "source": [
        "# Split the initial train features and labels 80% into new train and new validation\n",
        "X_train, X_val, y_train, y_val = train_test_split(\n",
        "  X_train, y_train, train_size = 0.80, test_size = 0.20,\n",
        "  stratify = y_train, random_state=42\n",
        ")\n",
        "\n",
        "X_train.shape, X_val.shape, y_train.shape, y_val.shape"
      ],
      "execution_count": 365,
      "outputs": [
        {
          "output_type": "execute_result",
          "data": {
            "text/plain": [
              "((47520, 40), (11880, 40), (47520,), (11880,))"
            ]
          },
          "metadata": {
            "tags": []
          },
          "execution_count": 365
        }
      ]
    },
    {
      "cell_type": "code",
      "metadata": {
        "id": "8XxcRPT4sLpg",
        "colab_type": "code",
        "outputId": "92652da1-32b1-439e-a1ce-85e635f5d7c9",
        "colab": {
          "base_uri": "https://localhost:8080/",
          "height": 85
        }
      },
      "source": [
        "# Check values of new train labels\n",
        "y_train.value_counts(normalize=True)"
      ],
      "execution_count": 366,
      "outputs": [
        {
          "output_type": "execute_result",
          "data": {
            "text/plain": [
              "functional                 0.543077\n",
              "non functional             0.384238\n",
              "functional needs repair    0.072685\n",
              "Name: status_group, dtype: float64"
            ]
          },
          "metadata": {
            "tags": []
          },
          "execution_count": 366
        }
      ]
    },
    {
      "cell_type": "code",
      "metadata": {
        "id": "snw_P3-asTCt",
        "colab_type": "code",
        "outputId": "cd36130f-65e4-4e49-edea-5fe5993d52e9",
        "colab": {
          "base_uri": "https://localhost:8080/",
          "height": 85
        }
      },
      "source": [
        "# Check values of new validation labels\n",
        "y_val.value_counts(normalize=True)"
      ],
      "execution_count": 367,
      "outputs": [
        {
          "output_type": "execute_result",
          "data": {
            "text/plain": [
              "functional                 0.543098\n",
              "non functional             0.384259\n",
              "functional needs repair    0.072643\n",
              "Name: status_group, dtype: float64"
            ]
          },
          "metadata": {
            "tags": []
          },
          "execution_count": 367
        }
      ]
    },
    {
      "cell_type": "markdown",
      "metadata": {
        "id": "hDyEKbbPsZsG",
        "colab_type": "text"
      },
      "source": [
        "### One-Hot Encoding - Quantity"
      ]
    },
    {
      "cell_type": "code",
      "metadata": {
        "id": "OgXptAiYsjPH",
        "colab_type": "code",
        "outputId": "74c8d0a6-75a4-414a-9371-09361b18e27b",
        "colab": {
          "base_uri": "https://localhost:8080/",
          "height": 119
        }
      },
      "source": [
        "# Check values of quantity feature\n",
        "X_train['quantity'].value_counts(normalize=True)"
      ],
      "execution_count": 368,
      "outputs": [
        {
          "output_type": "execute_result",
          "data": {
            "text/plain": [
              "enough          0.559070\n",
              "insufficient    0.255745\n",
              "dry             0.103556\n",
              "seasonal        0.068266\n",
              "unknown         0.013363\n",
              "Name: quantity, dtype: float64"
            ]
          },
          "metadata": {
            "tags": []
          },
          "execution_count": 368
        }
      ]
    },
    {
      "cell_type": "code",
      "metadata": {
        "id": "2-euYaI6sw7X",
        "colab_type": "code",
        "outputId": "686a216a-d288-4605-b0ac-0ee51d8862e6",
        "colab": {
          "base_uri": "https://localhost:8080/",
          "height": 306
        }
      },
      "source": [
        "# Recombine X_train and y_train, for exploratory data analysis\n",
        "train = X_train.copy()\n",
        "train['status_group'] = y_train\n",
        "\n",
        "train.groupby('quantity')['status_group'].value_counts(normalize=True)"
      ],
      "execution_count": 369,
      "outputs": [
        {
          "output_type": "execute_result",
          "data": {
            "text/plain": [
              "quantity      status_group           \n",
              "dry           non functional             0.967689\n",
              "              functional                 0.026011\n",
              "              functional needs repair    0.006300\n",
              "enough        functional                 0.650920\n",
              "              non functional             0.276998\n",
              "              functional needs repair    0.072082\n",
              "insufficient  functional                 0.521106\n",
              "              non functional             0.382786\n",
              "              functional needs repair    0.096108\n",
              "seasonal      functional                 0.580456\n",
              "              non functional             0.318434\n",
              "              functional needs repair    0.101110\n",
              "unknown       non functional             0.713386\n",
              "              functional                 0.267717\n",
              "              functional needs repair    0.018898\n",
              "Name: status_group, dtype: float64"
            ]
          },
          "metadata": {
            "tags": []
          },
          "execution_count": 369
        }
      ]
    },
    {
      "cell_type": "code",
      "metadata": {
        "id": "m-T5P9Z5s_6-",
        "colab_type": "code",
        "outputId": "75b7aae2-b23b-41e5-886d-7e002d4d08b3",
        "colab": {
          "base_uri": "https://localhost:8080/",
          "height": 399
        }
      },
      "source": [
        "# Plot the values, dry shows a strong relationship to functional\n",
        "import matplotlib.pyplot as plt\n",
        "import seaborn as sns\n",
        "\n",
        "train['functional']= (train['status_group'] == 'functional').astype(int)\n",
        "train[['status_group', 'functional']]\n",
        "\n",
        "sns.catplot(x='quantity', y='functional', data=train, kind='bar', color='grey')\n",
        "plt.title('% of Waterpumps Functional by Water Quantity')"
      ],
      "execution_count": 370,
      "outputs": [
        {
          "output_type": "execute_result",
          "data": {
            "text/plain": [
              "Text(0.5, 1.0, '% of Waterpumps Functional by Water Quantity')"
            ]
          },
          "metadata": {
            "tags": []
          },
          "execution_count": 370
        },
        {
          "output_type": "display_data",
          "data": {
            "image/png": "[encoded data removed]",
            "text/plain": [
              "<Figure size 360x360 with 1 Axes>"
            ]
          },
          "metadata": {
            "tags": []
          }
        }
      ]
    },
    {
      "cell_type": "markdown",
      "metadata": {
        "id": "vIpG2-d53NtY",
        "colab_type": "text"
      },
      "source": [
        "### One-Hot Encoding - Waterpoint Type"
      ]
    },
    {
      "cell_type": "code",
      "metadata": {
        "id": "Lu_JKfVD0uQq",
        "colab_type": "code",
        "outputId": "5395c7a4-e5c4-4b29-aafb-53924dfa7003",
        "colab": {
          "base_uri": "https://localhost:8080/",
          "height": 153
        }
      },
      "source": [
        "X_train['waterpoint_type'].value_counts(normalize=True)"
      ],
      "execution_count": 371,
      "outputs": [
        {
          "output_type": "execute_result",
          "data": {
            "text/plain": [
              "communal standpipe             0.479335\n",
              "hand pump                      0.294928\n",
              "other                          0.108123\n",
              "communal standpipe multiple    0.102357\n",
              "improved spring                0.013279\n",
              "cattle trough                  0.001873\n",
              "dam                            0.000105\n",
              "Name: waterpoint_type, dtype: float64"
            ]
          },
          "metadata": {
            "tags": []
          },
          "execution_count": 371
        }
      ]
    },
    {
      "cell_type": "code",
      "metadata": {
        "id": "j22sVuil1Xry",
        "colab_type": "code",
        "outputId": "59a0f5a2-72bd-43ba-9839-a6765c53c6c0",
        "colab": {
          "base_uri": "https://localhost:8080/",
          "height": 399
        }
      },
      "source": [
        "# Recombine X_train and y_train, for exploratory data analysis\n",
        "train = X_train.copy()\n",
        "train['status_group'] = y_train\n",
        "train.groupby('waterpoint_type')['status_group'].value_counts(normalize=True)\n",
        "train['functional']= (train['status_group'] == 'functional').astype(int)\n",
        "train[['status_group', 'functional']]\n",
        "\n",
        "sns.catplot(x='waterpoint_type', y='functional', data=train, kind='bar', color='grey')\n",
        "plt.title('% of Waterpumps Functional by Waterpoint Type')"
      ],
      "execution_count": 372,
      "outputs": [
        {
          "output_type": "execute_result",
          "data": {
            "text/plain": [
              "Text(0.5, 1.0, '% of Waterpumps Functional by Waterpoint Type')"
            ]
          },
          "metadata": {
            "tags": []
          },
          "execution_count": 372
        },
        {
          "output_type": "display_data",
          "data": {
            "image/png": "[encoded data removed]",
            "text/plain": [
              "<Figure size 360x360 with 1 Axes>"
            ]
          },
          "metadata": {
            "tags": []
          }
        }
      ]
    },
    {
      "cell_type": "markdown",
      "metadata": {
        "id": "OpwyrxfE3n6s",
        "colab_type": "text"
      },
      "source": [
        "### One-Hot Encoding - Extraction Type"
      ]
    },
    {
      "cell_type": "code",
      "metadata": {
        "id": "uWh6pw4X2QoG",
        "colab_type": "code",
        "outputId": "76d37f7b-2694-4dbb-affa-8daade5b59b8",
        "colab": {
          "base_uri": "https://localhost:8080/",
          "height": 399
        }
      },
      "source": [
        "X_train['extraction_type'].value_counts(normalize=True)\n",
        "train = X_train.copy()\n",
        "train['status_group'] = y_train\n",
        "train.groupby('extraction_type')['status_group'].value_counts(normalize=True)\n",
        "train['functional']= (train['status_group'] == 'functional').astype(int)\n",
        "train[['status_group', 'functional']]\n",
        "\n",
        "sns.catplot(x='extraction_type', y='functional', data=train, kind='bar', color='grey')\n",
        "plt.title('% of Waterpumps Functional by Extraction Type')"
      ],
      "execution_count": 373,
      "outputs": [
        {
          "output_type": "execute_result",
          "data": {
            "text/plain": [
              "Text(0.5, 1.0, '% of Waterpumps Functional by Extraction Type')"
            ]
          },
          "metadata": {
            "tags": []
          },
          "execution_count": 373
        },
        {
          "output_type": "display_data",
          "data": {
            "image/png": "[encoded data removed]",
            "text/plain": [
              "<Figure size 360x360 with 1 Axes>"
            ]
          },
          "metadata": {
            "tags": []
          }
        }
      ]
    },
    {
      "cell_type": "markdown",
      "metadata": {
        "id": "V4tmIM413yIE",
        "colab_type": "text"
      },
      "source": [
        "### Bin and One-Hot Encoding - Installer"
      ]
    },
    {
      "cell_type": "code",
      "metadata": {
        "id": "k_FZM59h4pGm",
        "colab_type": "code",
        "outputId": "1bb83ef9-cd8e-4a43-a51c-2de1ac72e5a4",
        "colab": {
          "base_uri": "https://localhost:8080/",
          "height": 1000
        }
      },
      "source": [
        "X_train['installer'] = X_train['installer'].str.lower()\n",
        "X_val['installer'] = X_val['installer'].str.lower()\n",
        "\n",
        "X_train['installer'] = X_train['installer'].str.lower()\n",
        "X_val['installer'] = X_val['installer'].str.lower()\n",
        "\n",
        "X_train['installer'] = X_train['installer'].str.replace('danid', 'danida')\n",
        "X_val['installer'] = X_val['installer'].str.replace('danid', 'danida')\n",
        "\n",
        "X_train['installer'] = X_train['installer'].str.replace('disti', 'district council')\n",
        "X_val['installer'] = X_val['installer'].str.replace('disti', 'district council')\n",
        "\n",
        "X_train['installer'] = X_train['installer'].str.replace('commu', 'community')\n",
        "X_val['installer'] = X_val['installer'].str.replace('commu', 'community')\n",
        "\n",
        "X_train['installer'] = X_train['installer'].str.replace('central government', 'government')\n",
        "X_val['installer'] = X_val['installer'].str.replace('central government', 'government')\n",
        "\n",
        "X_train['installer'] = X_train['installer'].str.replace('kkkt _ konde and dwe', 'kkkt')\n",
        "X_val['installer'] = X_val['installer'].str.replace('kkkt _ konde and dwe', 'kkkt')\n",
        "\n",
        "X_train['installer'].value_counts(normalize=True)\n",
        "top10 = X_train['installer'].value_counts()[:5].index\n",
        "X_train.loc[~X_train['installer'].isin(top10), 'installer'] = 'Other'\n",
        "X_val.loc[~X_val['installer'].isin(top10), 'installer'] = 'Other'\n",
        "\n",
        "train = X_train.copy()\n",
        "train['status_group'] = y_train\n",
        "\n",
        "train.groupby('installer')['status_group'].value_counts(normalize=True)"
      ],
      "execution_count": 374,
      "outputs": [
        {
          "output_type": "stream",
          "text": [
            "/usr/local/lib/python3.6/dist-packages/ipykernel_launcher.py:1: SettingWithCopyWarning: \n",
            "A value is trying to be set on a copy of a slice from a DataFrame.\n",
            "Try using .loc[row_indexer,col_indexer] = value instead\n",
            "\n",
            "See the caveats in the documentation: http://pandas.pydata.org/pandas-docs/stable/indexing.html#indexing-view-versus-copy\n",
            "  \"\"\"Entry point for launching an IPython kernel.\n",
            "/usr/local/lib/python3.6/dist-packages/ipykernel_launcher.py:2: SettingWithCopyWarning: \n",
            "A value is trying to be set on a copy of a slice from a DataFrame.\n",
            "Try using .loc[row_indexer,col_indexer] = value instead\n",
            "\n",
            "See the caveats in the documentation: http://pandas.pydata.org/pandas-docs/stable/indexing.html#indexing-view-versus-copy\n",
            "  \n",
            "/usr/local/lib/python3.6/dist-packages/ipykernel_launcher.py:4: SettingWithCopyWarning: \n",
            "A value is trying to be set on a copy of a slice from a DataFrame.\n",
            "Try using .loc[row_indexer,col_indexer] = value instead\n",
            "\n",
            "See the caveats in the documentation: http://pandas.pydata.org/pandas-docs/stable/indexing.html#indexing-view-versus-copy\n",
            "  after removing the cwd from sys.path.\n",
            "/usr/local/lib/python3.6/dist-packages/ipykernel_launcher.py:5: SettingWithCopyWarning: \n",
            "A value is trying to be set on a copy of a slice from a DataFrame.\n",
            "Try using .loc[row_indexer,col_indexer] = value instead\n",
            "\n",
            "See the caveats in the documentation: http://pandas.pydata.org/pandas-docs/stable/indexing.html#indexing-view-versus-copy\n",
            "  \"\"\"\n",
            "/usr/local/lib/python3.6/dist-packages/ipykernel_launcher.py:7: SettingWithCopyWarning: \n",
            "A value is trying to be set on a copy of a slice from a DataFrame.\n",
            "Try using .loc[row_indexer,col_indexer] = value instead\n",
            "\n",
            "See the caveats in the documentation: http://pandas.pydata.org/pandas-docs/stable/indexing.html#indexing-view-versus-copy\n",
            "  import sys\n",
            "/usr/local/lib/python3.6/dist-packages/ipykernel_launcher.py:8: SettingWithCopyWarning: \n",
            "A value is trying to be set on a copy of a slice from a DataFrame.\n",
            "Try using .loc[row_indexer,col_indexer] = value instead\n",
            "\n",
            "See the caveats in the documentation: http://pandas.pydata.org/pandas-docs/stable/indexing.html#indexing-view-versus-copy\n",
            "  \n",
            "/usr/local/lib/python3.6/dist-packages/ipykernel_launcher.py:10: SettingWithCopyWarning: \n",
            "A value is trying to be set on a copy of a slice from a DataFrame.\n",
            "Try using .loc[row_indexer,col_indexer] = value instead\n",
            "\n",
            "See the caveats in the documentation: http://pandas.pydata.org/pandas-docs/stable/indexing.html#indexing-view-versus-copy\n",
            "  # Remove the CWD from sys.path while we load stuff.\n",
            "/usr/local/lib/python3.6/dist-packages/ipykernel_launcher.py:11: SettingWithCopyWarning: \n",
            "A value is trying to be set on a copy of a slice from a DataFrame.\n",
            "Try using .loc[row_indexer,col_indexer] = value instead\n",
            "\n",
            "See the caveats in the documentation: http://pandas.pydata.org/pandas-docs/stable/indexing.html#indexing-view-versus-copy\n",
            "  # This is added back by InteractiveShellApp.init_path()\n",
            "/usr/local/lib/python3.6/dist-packages/ipykernel_launcher.py:13: SettingWithCopyWarning: \n",
            "A value is trying to be set on a copy of a slice from a DataFrame.\n",
            "Try using .loc[row_indexer,col_indexer] = value instead\n",
            "\n",
            "See the caveats in the documentation: http://pandas.pydata.org/pandas-docs/stable/indexing.html#indexing-view-versus-copy\n",
            "  del sys.path[0]\n",
            "/usr/local/lib/python3.6/dist-packages/ipykernel_launcher.py:14: SettingWithCopyWarning: \n",
            "A value is trying to be set on a copy of a slice from a DataFrame.\n",
            "Try using .loc[row_indexer,col_indexer] = value instead\n",
            "\n",
            "See the caveats in the documentation: http://pandas.pydata.org/pandas-docs/stable/indexing.html#indexing-view-versus-copy\n",
            "  \n",
            "/usr/local/lib/python3.6/dist-packages/ipykernel_launcher.py:16: SettingWithCopyWarning: \n",
            "A value is trying to be set on a copy of a slice from a DataFrame.\n",
            "Try using .loc[row_indexer,col_indexer] = value instead\n",
            "\n",
            "See the caveats in the documentation: http://pandas.pydata.org/pandas-docs/stable/indexing.html#indexing-view-versus-copy\n",
            "  app.launch_new_instance()\n",
            "/usr/local/lib/python3.6/dist-packages/ipykernel_launcher.py:17: SettingWithCopyWarning: \n",
            "A value is trying to be set on a copy of a slice from a DataFrame.\n",
            "Try using .loc[row_indexer,col_indexer] = value instead\n",
            "\n",
            "See the caveats in the documentation: http://pandas.pydata.org/pandas-docs/stable/indexing.html#indexing-view-versus-copy\n",
            "/usr/local/lib/python3.6/dist-packages/ipykernel_launcher.py:19: SettingWithCopyWarning: \n",
            "A value is trying to be set on a copy of a slice from a DataFrame.\n",
            "Try using .loc[row_indexer,col_indexer] = value instead\n",
            "\n",
            "See the caveats in the documentation: http://pandas.pydata.org/pandas-docs/stable/indexing.html#indexing-view-versus-copy\n",
            "/usr/local/lib/python3.6/dist-packages/ipykernel_launcher.py:20: SettingWithCopyWarning: \n",
            "A value is trying to be set on a copy of a slice from a DataFrame.\n",
            "Try using .loc[row_indexer,col_indexer] = value instead\n",
            "\n",
            "See the caveats in the documentation: http://pandas.pydata.org/pandas-docs/stable/indexing.html#indexing-view-versus-copy\n",
            "/usr/local/lib/python3.6/dist-packages/pandas/core/indexing.py:543: SettingWithCopyWarning: \n",
            "A value is trying to be set on a copy of a slice from a DataFrame.\n",
            "Try using .loc[row_indexer,col_indexer] = value instead\n",
            "\n",
            "See the caveats in the documentation: http://pandas.pydata.org/pandas-docs/stable/indexing.html#indexing-view-versus-copy\n",
            "  self.obj[item] = s\n"
          ],
          "name": "stderr"
        },
        {
          "output_type": "execute_result",
          "data": {
            "text/plain": [
              "installer   status_group           \n",
              "Other       functional                 0.573994\n",
              "            non functional             0.365113\n",
              "            functional needs repair    0.060893\n",
              "dwe         functional                 0.540558\n",
              "            non functional             0.366452\n",
              "            functional needs repair    0.092990\n",
              "government  non functional             0.609583\n",
              "            functional                 0.287476\n",
              "            functional needs repair    0.102941\n",
              "hesawa      functional                 0.563177\n",
              "            non functional             0.396209\n",
              "            functional needs repair    0.040614\n",
              "kkkt        functional                 0.485380\n",
              "            non functional             0.454971\n",
              "            functional needs repair    0.059649\n",
              "rwe         non functional             0.639583\n",
              "            functional                 0.251042\n",
              "            functional needs repair    0.109375\n",
              "Name: status_group, dtype: float64"
            ]
          },
          "metadata": {
            "tags": []
          },
          "execution_count": 374
        }
      ]
    },
    {
      "cell_type": "code",
      "metadata": {
        "id": "M84Vm5jM8KkU",
        "colab_type": "code",
        "outputId": "995faa15-727d-42f7-d84e-e922ceb13d3a",
        "colab": {
          "base_uri": "https://localhost:8080/",
          "height": 399
        }
      },
      "source": [
        "train['functional']= (train['status_group'] == 'functional').astype(int)\n",
        "train[['status_group', 'functional']]\n",
        "\n",
        "sns.catplot(x='installer', y='functional', data=train, kind='bar', color='grey')\n",
        "plt.title('% of Waterpumps Functional by Installer')"
      ],
      "execution_count": 375,
      "outputs": [
        {
          "output_type": "execute_result",
          "data": {
            "text/plain": [
              "Text(0.5, 1.0, '% of Waterpumps Functional by Installer')"
            ]
          },
          "metadata": {
            "tags": []
          },
          "execution_count": 375
        },
        {
          "output_type": "display_data",
          "data": {
            "image/png": "[encoded data removed]",
            "text/plain": [
              "<Figure size 360x360 with 1 Axes>"
            ]
          },
          "metadata": {
            "tags": []
          }
        }
      ]
    },
    {
      "cell_type": "markdown",
      "metadata": {
        "id": "y1sLVgVJ4oyc",
        "colab_type": "text"
      },
      "source": [
        "### New Feature - Pump Age"
      ]
    },
    {
      "cell_type": "code",
      "metadata": {
        "id": "oUahkHzQCrRs",
        "colab_type": "code",
        "outputId": "b1bb0635-5748-4795-feb7-fdcd39369879",
        "colab": {
          "base_uri": "https://localhost:8080/",
          "height": 745
        }
      },
      "source": [
        "X_train['pump_age'] = 2013 - X_train['construction_year']\n",
        "X_train.loc[X_train['pump_age'] == 2013, 'pump_age'] = 0\n",
        "X_val['pump_age'] = 2013 - X_val['construction_year']\n",
        "X_val.loc[X_val['pump_age'] == 2013, 'pump_age'] = 0\n",
        "\n",
        "X_train.loc[X_train['pump_age'] == 0, 'pump_age'] = 10\n",
        "X_val.loc[X_val['pump_age'] == 0, 'pump_age'] = 10\n",
        "\n",
        "train = X_train.copy()\n",
        "train['status_group'] = y_train\n",
        "\n",
        "train.groupby('pump_age')['status_group'].value_counts(normalize=True)\n",
        "train['functional']= (train['status_group'] == 'functional').astype(int)\n",
        "train[['status_group', 'functional']]\n",
        "\n",
        "sns.catplot(x='pump_age', y='functional', data=train, kind='bar', color='grey')\n",
        "plt.title('% of Waterpumps Functional by Pump Age')"
      ],
      "execution_count": 376,
      "outputs": [
        {
          "output_type": "stream",
          "text": [
            "/usr/local/lib/python3.6/dist-packages/ipykernel_launcher.py:1: SettingWithCopyWarning: \n",
            "A value is trying to be set on a copy of a slice from a DataFrame.\n",
            "Try using .loc[row_indexer,col_indexer] = value instead\n",
            "\n",
            "See the caveats in the documentation: http://pandas.pydata.org/pandas-docs/stable/indexing.html#indexing-view-versus-copy\n",
            "  \"\"\"Entry point for launching an IPython kernel.\n",
            "/usr/local/lib/python3.6/dist-packages/pandas/core/indexing.py:543: SettingWithCopyWarning: \n",
            "A value is trying to be set on a copy of a slice from a DataFrame.\n",
            "Try using .loc[row_indexer,col_indexer] = value instead\n",
            "\n",
            "See the caveats in the documentation: http://pandas.pydata.org/pandas-docs/stable/indexing.html#indexing-view-versus-copy\n",
            "  self.obj[item] = s\n",
            "/usr/local/lib/python3.6/dist-packages/ipykernel_launcher.py:3: SettingWithCopyWarning: \n",
            "A value is trying to be set on a copy of a slice from a DataFrame.\n",
            "Try using .loc[row_indexer,col_indexer] = value instead\n",
            "\n",
            "See the caveats in the documentation: http://pandas.pydata.org/pandas-docs/stable/indexing.html#indexing-view-versus-copy\n",
            "  This is separate from the ipykernel package so we can avoid doing imports until\n"
          ],
          "name": "stderr"
        },
        {
          "output_type": "execute_result",
          "data": {
            "text/plain": [
              "Text(0.5, 1.0, '% of Waterpumps Functional by Pump Age')"
            ]
          },
          "metadata": {
            "tags": []
          },
          "execution_count": 376
        },
        {
          "output_type": "display_data",
          "data": {
            "image/png": "[encoded data removed]",
            "text/plain": [
              "<Figure size 360x360 with 1 Axes>"
            ]
          },
          "metadata": {
            "tags": []
          }
        }
      ]
    },
    {
      "cell_type": "markdown",
      "metadata": {
        "id": "26uJs-7GQAIk",
        "colab_type": "text"
      },
      "source": [
        "### Bin and One-Hot Encoding - Funder"
      ]
    },
    {
      "cell_type": "code",
      "metadata": {
        "id": "aP1m7Dar_zy9",
        "colab_type": "code",
        "outputId": "2eef476b-1f77-45a7-8942-bd60237a679d",
        "colab": {
          "base_uri": "https://localhost:8080/",
          "height": 949
        }
      },
      "source": [
        "X_train['funder'] = X_train['funder'].str.lower()\n",
        "X_val['funder'] = X_val['funder'].str.lower()\n",
        "\n",
        "X_train['funder'] = X_train['funder'].str[:3]\n",
        "X_val['funder'] = X_val['funder'].str[:3]\n",
        "\n",
        "X_train['funder'].value_counts(normalize=True)\n",
        "top10 = X_train['funder'].value_counts()[:20].index\n",
        "X_train.loc[~X_train['funder'].isin(top10), 'funder'] = 'Other'\n",
        "X_val.loc[~X_val['funder'].isin(top10), 'funder'] = 'Other'\n",
        "\n",
        "train = X_train.copy()\n",
        "train['status_group'] = y_train\n",
        "\n",
        "train.groupby('funder')['status_group'].value_counts(normalize=True)\n",
        "\n",
        "train['functional']= (train['status_group'] == 'functional').astype(int)\n",
        "train[['status_group', 'functional']]\n",
        "\n",
        "sns.catplot(x='funder', y='functional', data=train, kind='bar', color='grey')\n",
        "plt.title('% of Waterpumps Functional by Funder')"
      ],
      "execution_count": 377,
      "outputs": [
        {
          "output_type": "stream",
          "text": [
            "/usr/local/lib/python3.6/dist-packages/ipykernel_launcher.py:1: SettingWithCopyWarning: \n",
            "A value is trying to be set on a copy of a slice from a DataFrame.\n",
            "Try using .loc[row_indexer,col_indexer] = value instead\n",
            "\n",
            "See the caveats in the documentation: http://pandas.pydata.org/pandas-docs/stable/indexing.html#indexing-view-versus-copy\n",
            "  \"\"\"Entry point for launching an IPython kernel.\n",
            "/usr/local/lib/python3.6/dist-packages/ipykernel_launcher.py:2: SettingWithCopyWarning: \n",
            "A value is trying to be set on a copy of a slice from a DataFrame.\n",
            "Try using .loc[row_indexer,col_indexer] = value instead\n",
            "\n",
            "See the caveats in the documentation: http://pandas.pydata.org/pandas-docs/stable/indexing.html#indexing-view-versus-copy\n",
            "  \n",
            "/usr/local/lib/python3.6/dist-packages/ipykernel_launcher.py:4: SettingWithCopyWarning: \n",
            "A value is trying to be set on a copy of a slice from a DataFrame.\n",
            "Try using .loc[row_indexer,col_indexer] = value instead\n",
            "\n",
            "See the caveats in the documentation: http://pandas.pydata.org/pandas-docs/stable/indexing.html#indexing-view-versus-copy\n",
            "  after removing the cwd from sys.path.\n",
            "/usr/local/lib/python3.6/dist-packages/ipykernel_launcher.py:5: SettingWithCopyWarning: \n",
            "A value is trying to be set on a copy of a slice from a DataFrame.\n",
            "Try using .loc[row_indexer,col_indexer] = value instead\n",
            "\n",
            "See the caveats in the documentation: http://pandas.pydata.org/pandas-docs/stable/indexing.html#indexing-view-versus-copy\n",
            "  \"\"\"\n",
            "/usr/local/lib/python3.6/dist-packages/pandas/core/indexing.py:543: SettingWithCopyWarning: \n",
            "A value is trying to be set on a copy of a slice from a DataFrame.\n",
            "Try using .loc[row_indexer,col_indexer] = value instead\n",
            "\n",
            "See the caveats in the documentation: http://pandas.pydata.org/pandas-docs/stable/indexing.html#indexing-view-versus-copy\n",
            "  self.obj[item] = s\n"
          ],
          "name": "stderr"
        },
        {
          "output_type": "execute_result",
          "data": {
            "text/plain": [
              "Text(0.5, 1.0, '% of Waterpumps Functional by Funder')"
            ]
          },
          "metadata": {
            "tags": []
          },
          "execution_count": 377
        },
        {
          "output_type": "display_data",
          "data": {
            "image/png": "[encoded data removed]",
            "text/plain": [
              "<Figure size 360x360 with 1 Axes>"
            ]
          },
          "metadata": {
            "tags": []
          }
        }
      ]
    },
    {
      "cell_type": "markdown",
      "metadata": {
        "id": "3umZyUzSQLVZ",
        "colab_type": "text"
      },
      "source": [
        "### One-Hot Encoding - Water Quality"
      ]
    },
    {
      "cell_type": "code",
      "metadata": {
        "id": "dggjPbnUHb2k",
        "colab_type": "code",
        "outputId": "24363c97-799d-47c1-9993-6eb08caf1b66",
        "colab": {
          "base_uri": "https://localhost:8080/",
          "height": 399
        }
      },
      "source": [
        "X_train['water_quality'].value_counts(normalize=True)\n",
        "train = X_train.copy()\n",
        "train['status_group'] = y_train\n",
        "train.groupby('water_quality')['status_group'].value_counts(normalize=True)\n",
        "train['functional']= (train['status_group'] == 'functional').astype(int)\n",
        "train[['status_group', 'functional']]\n",
        "\n",
        "sns.catplot(x='water_quality', y='functional', data=train, kind='bar', color='grey')\n",
        "plt.title('% of Waterpumps Functional by Water Quality')"
      ],
      "execution_count": 378,
      "outputs": [
        {
          "output_type": "execute_result",
          "data": {
            "text/plain": [
              "Text(0.5, 1.0, '% of Waterpumps Functional by Water Quality')"
            ]
          },
          "metadata": {
            "tags": []
          },
          "execution_count": 378
        },
        {
          "output_type": "display_data",
          "data": {
            "image/png": "[encoded data removed]",
            "text/plain": [
              "<Figure size 360x360 with 1 Axes>"
            ]
          },
          "metadata": {
            "tags": []
          }
        }
      ]
    },
    {
      "cell_type": "markdown",
      "metadata": {
        "id": "S9ymhThWUFu0",
        "colab_type": "text"
      },
      "source": [
        "### One-Hot Encoding - Basin"
      ]
    },
    {
      "cell_type": "code",
      "metadata": {
        "id": "7BDTgkUsQqo9",
        "colab_type": "code",
        "outputId": "59123a13-ac99-46e4-b403-89430f3c92fd",
        "colab": {
          "base_uri": "https://localhost:8080/",
          "height": 399
        }
      },
      "source": [
        "X_train['basin'].value_counts(normalize=True)\n",
        "train = X_train.copy()\n",
        "train['status_group'] = y_train\n",
        "train.groupby('basin')['status_group'].value_counts(normalize=True)\n",
        "train['functional']= (train['status_group'] == 'functional').astype(int)\n",
        "train[['status_group', 'functional']]\n",
        "\n",
        "sns.catplot(x='basin', y='functional', data=train, kind='bar', color='grey')\n",
        "plt.title('% of Waterpumps Functional by Basin')"
      ],
      "execution_count": 379,
      "outputs": [
        {
          "output_type": "execute_result",
          "data": {
            "text/plain": [
              "Text(0.5, 1.0, '% of Waterpumps Functional by Basin')"
            ]
          },
          "metadata": {
            "tags": []
          },
          "execution_count": 379
        },
        {
          "output_type": "display_data",
          "data": {
            "image/png": "[encoded data removed]",
            "text/plain": [
              "<Figure size 360x360 with 1 Axes>"
            ]
          },
          "metadata": {
            "tags": []
          }
        }
      ]
    },
    {
      "cell_type": "markdown",
      "metadata": {
        "id": "C_cTtfqtUKgr",
        "colab_type": "text"
      },
      "source": [
        "### One-Hot Encoding - Region"
      ]
    },
    {
      "cell_type": "code",
      "metadata": {
        "id": "DM30270XSLrd",
        "colab_type": "code",
        "outputId": "e47fe4e7-9c51-4c69-9c3f-4165c4963286",
        "colab": {
          "base_uri": "https://localhost:8080/",
          "height": 399
        }
      },
      "source": [
        "X_train['region'].value_counts(normalize=True)\n",
        "train = X_train.copy()\n",
        "train['status_group'] = y_train\n",
        "train.groupby('region')['status_group'].value_counts(normalize=True)\n",
        "train['functional']= (train['status_group'] == 'functional').astype(int)\n",
        "train[['status_group', 'functional']]\n",
        "\n",
        "sns.catplot(x='region', y='functional', data=train, kind='bar', color='grey')\n",
        "plt.title('% of Waterpumps Functional by Region')"
      ],
      "execution_count": 380,
      "outputs": [
        {
          "output_type": "execute_result",
          "data": {
            "text/plain": [
              "Text(0.5, 1.0, '% of Waterpumps Functional by Region')"
            ]
          },
          "metadata": {
            "tags": []
          },
          "execution_count": 380
        },
        {
          "output_type": "display_data",
          "data": {
            "image/png": "[encoded data removed]",
            "text/plain": [
              "<Figure size 360x360 with 1 Axes>"
            ]
          },
          "metadata": {
            "tags": []
          }
        }
      ]
    },
    {
      "cell_type": "markdown",
      "metadata": {
        "id": "RprzY6FEQVB5",
        "colab_type": "text"
      },
      "source": [
        "### Use Mean for GPS Height Missing Values"
      ]
    },
    {
      "cell_type": "code",
      "metadata": {
        "id": "p3sVlnFR3GcR",
        "colab_type": "code",
        "outputId": "c3aac937-693c-4ec2-f2e2-8d5f892e2103",
        "colab": {
          "base_uri": "https://localhost:8080/",
          "height": 179
        }
      },
      "source": [
        "X_train.loc[X_train['gps_height'] == 0, 'gps_height'] = X_train['gps_height'].mean()\n",
        "X_val.loc[X_val['gps_height'] == 0, 'gps_height'] = X_val['gps_height'].mean()\n",
        "\n",
        "train = X_train.copy()\n",
        "train['status_group'] = y_train\n",
        "\n",
        "train.groupby('gps_height')['status_group'].value_counts(normalize=True)\n",
        "train['functional']= (train['status_group'] == 'functional').astype(int)\n",
        "train[['status_group', 'functional']];\n",
        "\n",
        "#sns.catplot(x='amount_tsh', y='functional', data=train, kind='bar', color='grey')\n",
        "#plt.title('% of Waterpumps Functional by Pump Age')"
      ],
      "execution_count": 381,
      "outputs": [
        {
          "output_type": "stream",
          "text": [
            "/usr/local/lib/python3.6/dist-packages/pandas/core/indexing.py:543: SettingWithCopyWarning: \n",
            "A value is trying to be set on a copy of a slice from a DataFrame.\n",
            "Try using .loc[row_indexer,col_indexer] = value instead\n",
            "\n",
            "See the caveats in the documentation: http://pandas.pydata.org/pandas-docs/stable/indexing.html#indexing-view-versus-copy\n",
            "  self.obj[item] = s\n"
          ],
          "name": "stderr"
        }
      ]
    },
    {
      "cell_type": "markdown",
      "metadata": {
        "id": "EZFGWgTEUUsT",
        "colab_type": "text"
      },
      "source": [
        "### One-Hot Encoding - Payment"
      ]
    },
    {
      "cell_type": "code",
      "metadata": {
        "id": "TBqAbmAgTT89",
        "colab_type": "code",
        "outputId": "b50a13dc-1021-4fc6-b083-b996bc9eac32",
        "colab": {
          "base_uri": "https://localhost:8080/",
          "height": 399
        }
      },
      "source": [
        "X_train['payment'].value_counts(normalize=True)\n",
        "train = X_train.copy()\n",
        "train['status_group'] = y_train\n",
        "train.groupby('payment')['status_group'].value_counts(normalize=True)\n",
        "train['functional']= (train['status_group'] == 'functional').astype(int)\n",
        "train[['status_group', 'functional']]\n",
        "\n",
        "sns.catplot(x='payment', y='functional', data=train, kind='bar', color='grey')\n",
        "plt.title('% of Waterpumps Functional by Payment')"
      ],
      "execution_count": 382,
      "outputs": [
        {
          "output_type": "execute_result",
          "data": {
            "text/plain": [
              "Text(0.5, 1.0, '% of Waterpumps Functional by Payment')"
            ]
          },
          "metadata": {
            "tags": []
          },
          "execution_count": 382
        },
        {
          "output_type": "display_data",
          "data": {
            "image/png": "[encoded data removed]",
            "text/plain": [
              "<Figure size 360x360 with 1 Axes>"
            ]
          },
          "metadata": {
            "tags": []
          }
        }
      ]
    },
    {
      "cell_type": "markdown",
      "metadata": {
        "id": "OlqyEg2Gh-qg",
        "colab_type": "text"
      },
      "source": [
        "### One-Hot Encoded - Source"
      ]
    },
    {
      "cell_type": "code",
      "metadata": {
        "id": "wrXDpYMmWl9i",
        "colab_type": "code",
        "outputId": "f7f5f0c2-e592-46b0-bf6a-3053982a2167",
        "colab": {
          "base_uri": "https://localhost:8080/",
          "height": 399
        }
      },
      "source": [
        "X_train['source'].value_counts(normalize=True)\n",
        "train = X_train.copy()\n",
        "train['status_group'] = y_train\n",
        "train.groupby('source')['status_group'].value_counts(normalize=True)\n",
        "train['functional']= (train['status_group'] == 'functional').astype(int)\n",
        "train[['status_group', 'functional']]\n",
        "\n",
        "sns.catplot(x='source', y='functional', data=train, kind='bar', color='grey')\n",
        "plt.title('% of Waterpumps Functional by Source')"
      ],
      "execution_count": 383,
      "outputs": [
        {
          "output_type": "execute_result",
          "data": {
            "text/plain": [
              "Text(0.5, 1.0, '% of Waterpumps Functional by Source')"
            ]
          },
          "metadata": {
            "tags": []
          },
          "execution_count": 383
        },
        {
          "output_type": "display_data",
          "data": {
            "image/png": "[encoded data removed]",
            "text/plain": [
              "<Figure size 360x360 with 1 Axes>"
            ]
          },
          "metadata": {
            "tags": []
          }
        }
      ]
    },
    {
      "cell_type": "markdown",
      "metadata": {
        "id": "a1-u7T-piC3n",
        "colab_type": "text"
      },
      "source": [
        "### Bin and One-Hot Encoded - LGA"
      ]
    },
    {
      "cell_type": "code",
      "metadata": {
        "id": "t15-lLReXwS2",
        "colab_type": "code",
        "outputId": "14bd30e5-7575-4bef-99ec-de836bfb818a",
        "colab": {
          "base_uri": "https://localhost:8080/",
          "height": 541
        }
      },
      "source": [
        "X_train['lga'].value_counts(normalize=True)\n",
        "top10 = X_train['lga'].value_counts()[:10].index\n",
        "X_train.loc[~X_train['lga'].isin(top10), 'lga'] = 'Other'\n",
        "X_val.loc[~X_val['lga'].isin(top10), 'lga'] = 'Other'\n",
        "\n",
        "train = X_train.copy()\n",
        "train['status_group'] = y_train\n",
        "\n",
        "train.groupby('lga')['status_group'].value_counts(normalize=True)\n",
        "\n",
        "train['functional']= (train['status_group'] == 'functional').astype(int)\n",
        "train[['status_group', 'functional']]\n",
        "\n",
        "sns.catplot(x='lga', y='functional', data=train, kind='bar', color='grey')\n",
        "plt.title('% of Waterpumps Functional by LGA')"
      ],
      "execution_count": 384,
      "outputs": [
        {
          "output_type": "stream",
          "text": [
            "/usr/local/lib/python3.6/dist-packages/pandas/core/indexing.py:543: SettingWithCopyWarning: \n",
            "A value is trying to be set on a copy of a slice from a DataFrame.\n",
            "Try using .loc[row_indexer,col_indexer] = value instead\n",
            "\n",
            "See the caveats in the documentation: http://pandas.pydata.org/pandas-docs/stable/indexing.html#indexing-view-versus-copy\n",
            "  self.obj[item] = s\n"
          ],
          "name": "stderr"
        },
        {
          "output_type": "execute_result",
          "data": {
            "text/plain": [
              "Text(0.5, 1.0, '% of Waterpumps Functional by LGA')"
            ]
          },
          "metadata": {
            "tags": []
          },
          "execution_count": 384
        },
        {
          "output_type": "display_data",
          "data": {
            "image/png": "[encoded data removed]",
            "text/plain": [
              "<Figure size 360x360 with 1 Axes>"
            ]
          },
          "metadata": {
            "tags": []
          }
        }
      ]
    },
    {
      "cell_type": "markdown",
      "metadata": {
        "id": "ao00IqhJiMqq",
        "colab_type": "text"
      },
      "source": [
        "### Bin and One-Hot Encoded - Ward"
      ]
    },
    {
      "cell_type": "code",
      "metadata": {
        "id": "q1P52FVDaCCh",
        "colab_type": "code",
        "outputId": "fa1fb491-1555-4c54-a4b7-2119bdf75ea6",
        "colab": {
          "base_uri": "https://localhost:8080/",
          "height": 541
        }
      },
      "source": [
        "X_train['ward'].value_counts(normalize=True)\n",
        "top10 = X_train['ward'].value_counts()[:20].index\n",
        "X_train.loc[~X_train['ward'].isin(top10), 'ward'] = 'Other'\n",
        "X_val.loc[~X_val['ward'].isin(top10), 'ward'] = 'Other'\n",
        "\n",
        "train = X_train.copy()\n",
        "train['status_group'] = y_train\n",
        "\n",
        "train.groupby('ward')['status_group'].value_counts(normalize=True)\n",
        "\n",
        "train['functional']= (train['status_group'] == 'functional').astype(int)\n",
        "train[['status_group', 'functional']]\n",
        "\n",
        "sns.catplot(x='ward', y='functional', data=train, kind='bar', color='grey')\n",
        "plt.title('% of Waterpumps Functional by Ward')"
      ],
      "execution_count": 385,
      "outputs": [
        {
          "output_type": "stream",
          "text": [
            "/usr/local/lib/python3.6/dist-packages/pandas/core/indexing.py:543: SettingWithCopyWarning: \n",
            "A value is trying to be set on a copy of a slice from a DataFrame.\n",
            "Try using .loc[row_indexer,col_indexer] = value instead\n",
            "\n",
            "See the caveats in the documentation: http://pandas.pydata.org/pandas-docs/stable/indexing.html#indexing-view-versus-copy\n",
            "  self.obj[item] = s\n"
          ],
          "name": "stderr"
        },
        {
          "output_type": "execute_result",
          "data": {
            "text/plain": [
              "Text(0.5, 1.0, '% of Waterpumps Functional by Ward')"
            ]
          },
          "metadata": {
            "tags": []
          },
          "execution_count": 385
        },
        {
          "output_type": "display_data",
          "data": {
            "image/png": "[encoded data removed]",
            "text/plain": [
              "<Figure size 360x360 with 1 Axes>"
            ]
          },
          "metadata": {
            "tags": []
          }
        }
      ]
    },
    {
      "cell_type": "markdown",
      "metadata": {
        "id": "xusT0WUqizpU",
        "colab_type": "text"
      },
      "source": [
        "### One-Hot Encode - Scheme Management"
      ]
    },
    {
      "cell_type": "code",
      "metadata": {
        "id": "eP93vksddCiU",
        "colab_type": "code",
        "outputId": "260a5ea9-ac0d-4b72-bbd0-340281c37836",
        "colab": {
          "base_uri": "https://localhost:8080/",
          "height": 399
        }
      },
      "source": [
        "X_train['scheme_management'].value_counts(normalize=True)\n",
        "train = X_train.copy()\n",
        "train['status_group'] = y_train\n",
        "train.groupby('scheme_management')['status_group'].value_counts(normalize=True)\n",
        "train['functional']= (train['status_group'] == 'functional').astype(int)\n",
        "train[['status_group', 'functional']]\n",
        "\n",
        "sns.catplot(x='scheme_management', y='functional', data=train, kind='bar', color='grey')\n",
        "plt.title('% of Waterpumps Functional by Scheme Management')"
      ],
      "execution_count": 386,
      "outputs": [
        {
          "output_type": "execute_result",
          "data": {
            "text/plain": [
              "Text(0.5, 1.0, '% of Waterpumps Functional by Scheme Management')"
            ]
          },
          "metadata": {
            "tags": []
          },
          "execution_count": 386
        },
        {
          "output_type": "display_data",
          "data": {
            "image/png": "[encoded data removed]",
            "text/plain": [
              "<Figure size 360x360 with 1 Axes>"
            ]
          },
          "metadata": {
            "tags": []
          }
        }
      ]
    },
    {
      "cell_type": "markdown",
      "metadata": {
        "id": "Gp1QWXm1i7b3",
        "colab_type": "text"
      },
      "source": [
        "### One-Hot Encode - Management"
      ]
    },
    {
      "cell_type": "code",
      "metadata": {
        "id": "cU4lUhvQ7BYA",
        "colab_type": "code",
        "outputId": "d63687e6-3ef4-4e61-dd75-14150f8a9a16",
        "colab": {
          "base_uri": "https://localhost:8080/",
          "height": 399
        }
      },
      "source": [
        "X_train['management'].value_counts(normalize=True)\n",
        "train = X_train.copy()\n",
        "train['status_group'] = y_train\n",
        "train.groupby('management')['status_group'].value_counts(normalize=True)\n",
        "train['functional']= (train['status_group'] == 'functional').astype(int)\n",
        "train[['status_group', 'functional']]\n",
        "\n",
        "sns.catplot(x='management', y='functional', data=train, kind='bar', color='grey')\n",
        "plt.title('% of Waterpumps Functional by Management')"
      ],
      "execution_count": 387,
      "outputs": [
        {
          "output_type": "execute_result",
          "data": {
            "text/plain": [
              "Text(0.5, 1.0, '% of Waterpumps Functional by Management')"
            ]
          },
          "metadata": {
            "tags": []
          },
          "execution_count": 387
        },
        {
          "output_type": "display_data",
          "data": {
            "image/png": "[encoded data removed]",
            "text/plain": [
              "<Figure size 360x360 with 1 Axes>"
            ]
          },
          "metadata": {
            "tags": []
          }
        }
      ]
    },
    {
      "cell_type": "markdown",
      "metadata": {
        "id": "wZpED25kEsOI",
        "colab_type": "text"
      },
      "source": [
        "### Create a Region/District Feature"
      ]
    },
    {
      "cell_type": "code",
      "metadata": {
        "id": "Mb6j1BbQfSpN",
        "colab_type": "code",
        "outputId": "c2768476-9b69-4839-c625-db4e65039ca5",
        "colab": {
          "base_uri": "https://localhost:8080/",
          "height": 399
        }
      },
      "source": [
        "X_train['region_code'].value_counts(normalize=True)\n",
        "train = X_train.copy()\n",
        "train['status_group'] = y_train\n",
        "train.groupby('region_code')['status_group'].value_counts(normalize=True)\n",
        "train['functional']= (train['status_group'] == 'functional').astype(int)\n",
        "train[['status_group', 'functional']]\n",
        "\n",
        "sns.catplot(x='region_code', y='functional', data=train, kind='bar', color='grey')\n",
        "plt.title('% of Waterpumps Functional by Region Code')"
      ],
      "execution_count": 388,
      "outputs": [
        {
          "output_type": "execute_result",
          "data": {
            "text/plain": [
              "Text(0.5, 1.0, '% of Waterpumps Functional by Region Code')"
            ]
          },
          "metadata": {
            "tags": []
          },
          "execution_count": 388
        },
        {
          "output_type": "display_data",
          "data": {
            "image/png": "[encoded data removed]",
            "text/plain": [
              "<Figure size 360x360 with 1 Axes>"
            ]
          },
          "metadata": {
            "tags": []
          }
        }
      ]
    },
    {
      "cell_type": "code",
      "metadata": {
        "id": "ZAk00mJv-tfm",
        "colab_type": "code",
        "outputId": "ba478926-6ef1-4bcf-f2b6-dba4224de4d7",
        "colab": {
          "base_uri": "https://localhost:8080/",
          "height": 643
        }
      },
      "source": [
        "X_train['region_district'] = X_train['region_code'].astype(str) + X_train['district_code'].astype(str)\n",
        "X_val['region_district'] = X_val['region_code'].astype(str) + X_val['district_code'].astype(str)\n",
        "\n",
        "train = X_train.copy()\n",
        "train['status_group'] = y_train\n",
        "\n",
        "train.groupby('region_district')['status_group'].value_counts(normalize=True)\n",
        "train['functional']= (train['status_group'] == 'functional').astype(int)\n",
        "train[['status_group', 'functional']]\n",
        "\n",
        "sns.catplot(x='region_district', y='functional', data=train, kind='bar', color='grey')\n",
        "plt.title('% of Waterpumps Functional by Region/District')"
      ],
      "execution_count": 389,
      "outputs": [
        {
          "output_type": "stream",
          "text": [
            "/usr/local/lib/python3.6/dist-packages/ipykernel_launcher.py:1: SettingWithCopyWarning: \n",
            "A value is trying to be set on a copy of a slice from a DataFrame.\n",
            "Try using .loc[row_indexer,col_indexer] = value instead\n",
            "\n",
            "See the caveats in the documentation: http://pandas.pydata.org/pandas-docs/stable/indexing.html#indexing-view-versus-copy\n",
            "  \"\"\"Entry point for launching an IPython kernel.\n",
            "/usr/local/lib/python3.6/dist-packages/ipykernel_launcher.py:2: SettingWithCopyWarning: \n",
            "A value is trying to be set on a copy of a slice from a DataFrame.\n",
            "Try using .loc[row_indexer,col_indexer] = value instead\n",
            "\n",
            "See the caveats in the documentation: http://pandas.pydata.org/pandas-docs/stable/indexing.html#indexing-view-versus-copy\n",
            "  \n"
          ],
          "name": "stderr"
        },
        {
          "output_type": "execute_result",
          "data": {
            "text/plain": [
              "Text(0.5, 1.0, '% of Waterpumps Functional by Region/District')"
            ]
          },
          "metadata": {
            "tags": []
          },
          "execution_count": 389
        },
        {
          "output_type": "display_data",
          "data": {
            "image/png": "[encoded data removed]",
            "text/plain": [
              "<Figure size 360x360 with 1 Axes>"
            ]
          },
          "metadata": {
            "tags": []
          }
        }
      ]
    },
    {
      "cell_type": "markdown",
      "metadata": {
        "id": "Q7548-TuLCSd",
        "colab_type": "text"
      },
      "source": [
        "### One-Hot Encode - Subvillage"
      ]
    },
    {
      "cell_type": "code",
      "metadata": {
        "id": "Fx77-ltOooSl",
        "colab_type": "code",
        "outputId": "ce516cec-08a8-4822-e699-e234d5df7f86",
        "colab": {
          "base_uri": "https://localhost:8080/",
          "height": 541
        }
      },
      "source": [
        "X_train['subvillage'].value_counts(normalize=True)\n",
        "top10 = X_train['subvillage'].value_counts()[:10].index\n",
        "X_train.loc[~X_train['subvillage'].isin(top10), 'subvillage'] = 'Other'\n",
        "X_val.loc[~X_val['subvillage'].isin(top10), 'subvillage'] = 'Other'\n",
        "\n",
        "train = X_train.copy()\n",
        "train['status_group'] = y_train\n",
        "\n",
        "train.groupby('subvillage')['status_group'].value_counts(normalize=True)\n",
        "\n",
        "train['functional']= (train['status_group'] == 'functional').astype(int)\n",
        "train[['status_group', 'functional']]\n",
        "\n",
        "sns.catplot(x='subvillage', y='functional', data=train, kind='bar', color='grey')\n",
        "plt.title('% of Waterpumps Functional by Subvillage')"
      ],
      "execution_count": 390,
      "outputs": [
        {
          "output_type": "stream",
          "text": [
            "/usr/local/lib/python3.6/dist-packages/pandas/core/indexing.py:543: SettingWithCopyWarning: \n",
            "A value is trying to be set on a copy of a slice from a DataFrame.\n",
            "Try using .loc[row_indexer,col_indexer] = value instead\n",
            "\n",
            "See the caveats in the documentation: http://pandas.pydata.org/pandas-docs/stable/indexing.html#indexing-view-versus-copy\n",
            "  self.obj[item] = s\n"
          ],
          "name": "stderr"
        },
        {
          "output_type": "execute_result",
          "data": {
            "text/plain": [
              "Text(0.5, 1.0, '% of Waterpumps Functional by Subvillage')"
            ]
          },
          "metadata": {
            "tags": []
          },
          "execution_count": 390
        },
        {
          "output_type": "display_data",
          "data": {
            "image/png": "[encoded data removed]",
            "text/plain": [
              "<Figure size 360x360 with 1 Axes>"
            ]
          },
          "metadata": {
            "tags": []
          }
        }
      ]
    },
    {
      "cell_type": "markdown",
      "metadata": {
        "id": "Bkh6JlEKMLcz",
        "colab_type": "text"
      },
      "source": [
        "### One-Hot Encoding - Water Quality"
      ]
    },
    {
      "cell_type": "code",
      "metadata": {
        "id": "UIxID3VTfZyu",
        "colab_type": "code",
        "outputId": "706869f0-effe-473d-a50e-85aefca5699e",
        "colab": {
          "base_uri": "https://localhost:8080/",
          "height": 399
        }
      },
      "source": [
        "X_train['water_quality'].value_counts(normalize=True)\n",
        "train = X_train.copy()\n",
        "train['status_group'] = y_train\n",
        "train.groupby('water_quality')['status_group'].value_counts(normalize=True)\n",
        "train['functional']= (train['status_group'] == 'functional').astype(int)\n",
        "train[['status_group', 'functional']]\n",
        "\n",
        "sns.catplot(x='water_quality', y='functional', data=train, kind='bar', color='grey')\n",
        "plt.title('% of Waterpumps Functional by Quality')"
      ],
      "execution_count": 391,
      "outputs": [
        {
          "output_type": "execute_result",
          "data": {
            "text/plain": [
              "Text(0.5, 1.0, '% of Waterpumps Functional by Quality')"
            ]
          },
          "metadata": {
            "tags": []
          },
          "execution_count": 391
        },
        {
          "output_type": "display_data",
          "data": {
            "image/png": "[encoded data removed]",
            "text/plain": [
              "<Figure size 360x360 with 1 Axes>"
            ]
          },
          "metadata": {
            "tags": []
          }
        }
      ]
    },
    {
      "cell_type": "markdown",
      "metadata": {
        "id": "l1TtWafvZCX4",
        "colab_type": "text"
      },
      "source": [
        "### Lat/Long Cleanup"
      ]
    },
    {
      "cell_type": "code",
      "metadata": {
        "id": "qPlDqabSCv_2",
        "colab_type": "code",
        "outputId": "7a9c7d8b-a070-46f2-e973-500c4421701f",
        "colab": {
          "base_uri": "https://localhost:8080/",
          "height": 179
        }
      },
      "source": [
        "#test['region'].value_counts()\n",
        "average_lat = X_train.groupby('region').latitude.mean().reset_index()\n",
        "average_long = X_train.groupby('region').longitude.mean().reset_index()\n",
        "\n",
        "shinyanga_lat = average_lat.loc[average_lat['region'] == 'Shinyanga', 'latitude']\n",
        "shinyanga_long = average_long.loc[average_lat['region'] == 'Shinyanga', 'longitude']\n",
        "\n",
        "X_train.loc[(X_train['region'] == 'Shinyanga') & (X_train['latitude'] > -1), ['latitude']] = shinyanga_lat[17]\n",
        "X_train.loc[(X_train['region'] == 'Shinyanga') & (X_train['longitude'] == 0), ['longitude']] = shinyanga_long[17]\n",
        "\n",
        "mwanza_lat = average_lat.loc[average_lat['region'] == 'Mwanza', 'latitude']\n",
        "mwanza_long = average_long.loc[average_lat['region'] == 'Mwanza', 'longitude']\n",
        "\n",
        "X_train.loc[(X_train['region'] == 'Mwanza') & (X_train['latitude'] > -1), ['latitude']] = mwanza_lat[13]\n",
        "X_train.loc[(X_train['region'] == 'Mwanza') & (X_train['longitude'] == 0) , ['longitude']] = mwanza_long[13]\n"
      ],
      "execution_count": 392,
      "outputs": [
        {
          "output_type": "stream",
          "text": [
            "/usr/local/lib/python3.6/dist-packages/pandas/core/indexing.py:543: SettingWithCopyWarning: \n",
            "A value is trying to be set on a copy of a slice from a DataFrame.\n",
            "Try using .loc[row_indexer,col_indexer] = value instead\n",
            "\n",
            "See the caveats in the documentation: http://pandas.pydata.org/pandas-docs/stable/indexing.html#indexing-view-versus-copy\n",
            "  self.obj[item] = s\n"
          ],
          "name": "stderr"
        }
      ]
    },
    {
      "cell_type": "code",
      "metadata": {
        "id": "yCCpk1giFicw",
        "colab_type": "code",
        "colab": {}
      },
      "source": [
        "#X_train.loc[X_train['public_meeting'].isnull(), 'public_meeting'] = False\n",
        "#X_val.loc[X_val['public_meeting'].isnull(), 'public_meeting'] = False\n",
        "\n",
        "#train = X_train.copy()\n",
        "#train['status_group'] = y_train\n",
        "\n",
        "#train.groupby('public_meeting')['status_group'].value_counts(normalize=True)\n",
        "#train['functional']= (train['status_group'] == 'functional').astype(int)\n",
        "#train[['status_group', 'functional']];\n",
        "\n",
        "#sns.catplot(x='public_meeting', y='functional', data=train, kind='bar', color='grey')\n",
        "#plt.title('% of Waterpumps Functional by Region/District')"
      ],
      "execution_count": 0,
      "outputs": []
    },
    {
      "cell_type": "markdown",
      "metadata": {
        "id": "vBATDBn30mLX",
        "colab_type": "text"
      },
      "source": [
        "### Run the Logistic Regression"
      ]
    },
    {
      "cell_type": "code",
      "metadata": {
        "id": "Oc7PYIt2texi",
        "colab_type": "code",
        "colab": {}
      },
      "source": [
        "import sklearn\n",
        "sklearn.__version__\n",
        "\n",
        "# Import the class\n",
        "from sklearn.linear_model import LogisticRegressionCV\n",
        "\n",
        "# Import package and scaler\n",
        "import category_encoders as ce\n",
        "from sklearn.preprocessing import StandardScaler"
      ],
      "execution_count": 0,
      "outputs": []
    },
    {
      "cell_type": "code",
      "metadata": {
        "id": "fBcw2yiWtSVk",
        "colab_type": "code",
        "outputId": "66387ad8-0069-44f4-8dfb-436e0ced6985",
        "colab": {
          "base_uri": "https://localhost:8080/",
          "height": 165
        }
      },
      "source": [
        "# use quantity feature and the numerical features but drop id\n",
        "categorical_features = ['quantity', 'waterpoint_type', 'extraction_type', 'installer',\n",
        "                         'basin', 'region', 'payment', 'source', 'lga', 'public_meeting',\n",
        "                         'scheme_management', 'permit', 'management', 'region_district',\n",
        "                         'subvillage', 'funder', 'water_quality', 'ward']\n",
        "                                             \n",
        "# \n",
        "numeric_features = X_train.select_dtypes('number').columns.drop('id').drop('num_private').tolist()\n",
        "features = categorical_features + numeric_features\n",
        "\n",
        "# make subsets using the quantity feature all numeric features except id\n",
        "X_train_subset = X_train[features]\n",
        "X_val_subset = X_val[features]\n",
        "\n",
        "# Do the encoding\n",
        "encoder = ce.OneHotEncoder(use_cat_names=True)\n",
        "X_train_encoded = encoder.fit_transform(X_train_subset)\n",
        "X_val_encoded = encoder.transform(X_val_subset)\n",
        "\n",
        "# Use the scaler\n",
        "scaler = StandardScaler()\n",
        "X_train_scaled = scaler.fit_transform(X_train_encoded)\n",
        "X_val_scaled = scaler.transform(X_val_encoded)\n",
        "\n",
        "# Fit the model and check the accuracy\n",
        "model = LogisticRegressionCV(n_jobs = -1)\n",
        "model.fit(X_train_scaled, y_train)\n",
        "\n",
        "print('Validation Accuracy', model.score(X_val_scaled, y_val));\n",
        "\n"
      ],
      "execution_count": 395,
      "outputs": [
        {
          "output_type": "stream",
          "text": [
            "/usr/local/lib/python3.6/dist-packages/sklearn/linear_model/logistic.py:469: FutureWarning: Default multi_class will be changed to 'auto' in 0.22. Specify the multi_class option to silence this warning.\n",
            "  \"this warning.\", FutureWarning)\n",
            "/usr/local/lib/python3.6/dist-packages/sklearn/model_selection/_split.py:1978: FutureWarning: The default value of cv will change from 3 to 5 in version 0.22. Specify it explicitly to silence this warning.\n",
            "  warnings.warn(CV_WARNING, FutureWarning)\n"
          ],
          "name": "stderr"
        },
        {
          "output_type": "stream",
          "text": [
            "Validation Accuracy 0.7554713804713805\n"
          ],
          "name": "stdout"
        }
      ]
    },
    {
      "cell_type": "markdown",
      "metadata": {
        "id": "BJNF5xa4LPw1",
        "colab_type": "text"
      },
      "source": [
        "### Run RandomForestClassifier"
      ]
    },
    {
      "cell_type": "code",
      "metadata": {
        "id": "LAkZOXEX5rlk",
        "colab_type": "code",
        "outputId": "56a93eea-a16e-4726-8c31-e22812d83612",
        "colab": {
          "base_uri": "https://localhost:8080/",
          "height": 238
        }
      },
      "source": [
        "from sklearn.ensemble import RandomForestClassifier\n",
        "\n",
        "model = RandomForestClassifier(n_estimators=1000, \n",
        "                               random_state=42,\n",
        "                               max_features = 'auto',\n",
        "                               n_jobs=-1,\n",
        "                               verbose = 1)\n",
        "\n",
        "model.fit(X_train_scaled, y_train)\n",
        "\n",
        "print('Validation Accuracy', model.score(X_val_scaled, y_val));\n",
        "\n"
      ],
      "execution_count": 396,
      "outputs": [
        {
          "output_type": "stream",
          "text": [
            "[Parallel(n_jobs=-1)]: Using backend ThreadingBackend with 2 concurrent workers.\n",
            "[Parallel(n_jobs=-1)]: Done  46 tasks      | elapsed:    6.6s\n",
            "[Parallel(n_jobs=-1)]: Done 196 tasks      | elapsed:   27.9s\n",
            "[Parallel(n_jobs=-1)]: Done 446 tasks      | elapsed:  1.1min\n",
            "[Parallel(n_jobs=-1)]: Done 796 tasks      | elapsed:  1.9min\n",
            "[Parallel(n_jobs=-1)]: Done 1000 out of 1000 | elapsed:  2.4min finished\n",
            "[Parallel(n_jobs=2)]: Using backend ThreadingBackend with 2 concurrent workers.\n",
            "[Parallel(n_jobs=2)]: Done  46 tasks      | elapsed:    0.2s\n",
            "[Parallel(n_jobs=2)]: Done 196 tasks      | elapsed:    0.9s\n",
            "[Parallel(n_jobs=2)]: Done 446 tasks      | elapsed:    1.9s\n",
            "[Parallel(n_jobs=2)]: Done 796 tasks      | elapsed:    3.5s\n"
          ],
          "name": "stderr"
        },
        {
          "output_type": "stream",
          "text": [
            "Validation Accuracy 0.8089225589225589\n"
          ],
          "name": "stdout"
        },
        {
          "output_type": "stream",
          "text": [
            "[Parallel(n_jobs=2)]: Done 1000 out of 1000 | elapsed:    4.3s finished\n"
          ],
          "name": "stderr"
        }
      ]
    },
    {
      "cell_type": "code",
      "metadata": {
        "id": "0o8dPt50N0MN",
        "colab_type": "code",
        "outputId": "5257841e-3153-4b99-bd22-26270818cc9f",
        "colab": {
          "base_uri": "https://localhost:8080/",
          "height": 119
        }
      },
      "source": [
        "test_features['pump_age'] = 2013 - test_features['construction_year']\n",
        "test_features.loc[test_features['pump_age'] == 2013, 'pump_age'] = 0\n",
        "\n",
        "test_features['region_district'] = test_features['region_code'].astype(str) + test_features['district_code'].astype(str)\n",
        "\n",
        "test_features.drop(columns=['num_private'])\n",
        "\n",
        "X_test_subset = test_features[features]\n",
        "X_test_encoded = encoder.transform(X_test_subset)\n",
        "X_test_scaled = scaler.transform(X_test_encoded)\n",
        "assert all(X_test_encoded.columns == X_train_encoded.columns)\n",
        "\n",
        "y_pred = model.predict(X_test_scaled)"
      ],
      "execution_count": 397,
      "outputs": [
        {
          "output_type": "stream",
          "text": [
            "[Parallel(n_jobs=2)]: Using backend ThreadingBackend with 2 concurrent workers.\n",
            "[Parallel(n_jobs=2)]: Done  46 tasks      | elapsed:    0.2s\n",
            "[Parallel(n_jobs=2)]: Done 196 tasks      | elapsed:    0.8s\n",
            "[Parallel(n_jobs=2)]: Done 446 tasks      | elapsed:    1.8s\n",
            "[Parallel(n_jobs=2)]: Done 796 tasks      | elapsed:    3.2s\n",
            "[Parallel(n_jobs=2)]: Done 1000 out of 1000 | elapsed:    4.1s finished\n"
          ],
          "name": "stderr"
        }
      ]
    },
    {
      "cell_type": "code",
      "metadata": {
        "id": "eUMIufHhUKu2",
        "colab_type": "code",
        "colab": {}
      },
      "source": [
        "submission = sample_submission.copy()\n",
        "submission['status_group'] = y_pred\n",
        "submission.to_csv('/content/submission-01.csv', index=False)"
      ],
      "execution_count": 0,
      "outputs": []
    }
  ]
}