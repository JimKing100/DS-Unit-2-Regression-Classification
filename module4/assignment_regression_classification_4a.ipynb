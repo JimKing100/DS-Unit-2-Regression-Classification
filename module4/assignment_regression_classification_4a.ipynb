{
  "nbformat": 4,
  "nbformat_minor": 0,
  "metadata": {
    "colab": {
      "name": "Untitled20.ipynb",
      "version": "0.3.2",
      "provenance": [],
      "toc_visible": true,
      "include_colab_link": true
    },
    "kernelspec": {
      "name": "python3",
      "display_name": "Python 3"
    }
  },
  "cells": [
    {
      "cell_type": "markdown",
      "metadata": {
        "id": "view-in-github",
        "colab_type": "text"
      },
      "source": [
        "<a href=\"https://colab.research.google.com/github/JimKing100/DS-Unit-2-Regression-Classification/blob/master/module4/assignment_regression_classification_4a.ipynb\" target=\"_parent\"><img src=\"https://colab.research.google.com/assets/colab-badge.svg\" alt=\"Open In Colab\"/></a>"
      ]
    },
    {
      "cell_type": "code",
      "metadata": {
        "id": "jxFhqMBTqPji",
        "colab_type": "code",
        "colab": {}
      },
      "source": [
        "# Installs\n",
        "%%capture\n",
        "!pip install --upgrade category_encoders plotly"
      ],
      "execution_count": 0,
      "outputs": []
    },
    {
      "cell_type": "code",
      "metadata": {
        "id": "Cz1aBBrrpa3L",
        "colab_type": "code",
        "outputId": "2a6414f9-7865-46ca-a888-540c4ae03155",
        "colab": {
          "base_uri": "https://localhost:8080/",
          "height": 131
        }
      },
      "source": [
        "# Imports\n",
        "import os, sys\n",
        "\n",
        "os.chdir('/content')\n",
        "!git init .\n",
        "!git remote add origin https://github.com/LambdaSchool/DS-Unit-2-Regression-Classification.git\n",
        "!git pull origin master\n",
        "    \n",
        "os.chdir('module4')"
      ],
      "execution_count": 1033,
      "outputs": [
        {
          "output_type": "stream",
          "text": [
            "Reinitialized existing Git repository in /content/.git/\n",
            "fatal: remote origin already exists.\n",
            "From https://github.com/LambdaSchool/DS-Unit-2-Regression-Classification\n",
            " * branch            master     -> FETCH_HEAD\n",
            "Already up to date.\n"
          ],
          "name": "stdout"
        }
      ]
    },
    {
      "cell_type": "code",
      "metadata": {
        "id": "--8zMv9Iq_3B",
        "colab_type": "code",
        "colab": {}
      },
      "source": [
        "# Disable warning\n",
        "import warnings\n",
        "warnings.filterwarnings(action='ignore', category=FutureWarning, module='numpy')"
      ],
      "execution_count": 0,
      "outputs": []
    },
    {
      "cell_type": "markdown",
      "metadata": {
        "id": "MQeB6OCfrt04",
        "colab_type": "text"
      },
      "source": [
        "### Load Data"
      ]
    },
    {
      "cell_type": "code",
      "metadata": {
        "id": "md_dzn0CrUdE",
        "colab_type": "code",
        "colab": {}
      },
      "source": [
        "import pandas as pd\n",
        "\n",
        "train_features = pd.read_csv('../data/tanzania/train_features.csv')\n",
        "train_labels = pd.read_csv('../data/tanzania/train_labels.csv')\n",
        "test_features = pd.read_csv('../data/tanzania/test_features.csv')\n",
        "sample_submission = pd.read_csv('../data/tanzania/sample_submission.csv')\n",
        "\n",
        "assert train_features.shape == (59400, 40)\n",
        "assert train_labels.shape == (59400, 2)\n",
        "assert test_features.shape == (14358, 40)\n",
        "assert sample_submission.shape == (14358, 2)"
      ],
      "execution_count": 0,
      "outputs": []
    },
    {
      "cell_type": "markdown",
      "metadata": {
        "id": "tsv1j8i1ryE_",
        "colab_type": "text"
      },
      "source": [
        "### Train/Validate/Test Split"
      ]
    },
    {
      "cell_type": "code",
      "metadata": {
        "id": "I5MwknJoreoz",
        "colab_type": "code",
        "outputId": "6d2a9c32-7782-41ba-ab15-c0d40c5c6cb9",
        "colab": {
          "base_uri": "https://localhost:8080/",
          "height": 34
        }
      },
      "source": [
        "# Load initial train features and labels\n",
        "from sklearn.model_selection import train_test_split\n",
        "X_train = train_features\n",
        "y_train = train_labels['status_group']\n",
        "\n",
        "X_train.shape, y_train.shape"
      ],
      "execution_count": 1036,
      "outputs": [
        {
          "output_type": "execute_result",
          "data": {
            "text/plain": [
              "((59400, 40), (59400,))"
            ]
          },
          "metadata": {
            "tags": []
          },
          "execution_count": 1036
        }
      ]
    },
    {
      "cell_type": "code",
      "metadata": {
        "id": "vwwYWwWxsGmP",
        "colab_type": "code",
        "outputId": "a4cbfdba-a76e-4705-ea73-2c1fa4b6ca65",
        "colab": {
          "base_uri": "https://localhost:8080/",
          "height": 34
        }
      },
      "source": [
        "# Split the initial train features and labels 80% into new train and new validation\n",
        "X_train, X_val, y_train, y_val = train_test_split(\n",
        "  X_train, y_train, train_size = 0.80, test_size = 0.20,\n",
        "  stratify = y_train, random_state=42\n",
        ")\n",
        "\n",
        "X_train.shape, X_val.shape, y_train.shape, y_val.shape"
      ],
      "execution_count": 1037,
      "outputs": [
        {
          "output_type": "execute_result",
          "data": {
            "text/plain": [
              "((47520, 40), (11880, 40), (47520,), (11880,))"
            ]
          },
          "metadata": {
            "tags": []
          },
          "execution_count": 1037
        }
      ]
    },
    {
      "cell_type": "code",
      "metadata": {
        "id": "8XxcRPT4sLpg",
        "colab_type": "code",
        "outputId": "6c7dcd48-5ce5-438a-c8b7-ff7408c1165b",
        "colab": {
          "base_uri": "https://localhost:8080/",
          "height": 85
        }
      },
      "source": [
        "# Check values of new train labels\n",
        "y_train.value_counts(normalize=True)"
      ],
      "execution_count": 1038,
      "outputs": [
        {
          "output_type": "execute_result",
          "data": {
            "text/plain": [
              "functional                 0.543077\n",
              "non functional             0.384238\n",
              "functional needs repair    0.072685\n",
              "Name: status_group, dtype: float64"
            ]
          },
          "metadata": {
            "tags": []
          },
          "execution_count": 1038
        }
      ]
    },
    {
      "cell_type": "code",
      "metadata": {
        "id": "snw_P3-asTCt",
        "colab_type": "code",
        "outputId": "a09400ec-84b5-43c4-83e6-a5e65b7aca52",
        "colab": {
          "base_uri": "https://localhost:8080/",
          "height": 85
        }
      },
      "source": [
        "# Check values of new validation labels\n",
        "y_val.value_counts(normalize=True)"
      ],
      "execution_count": 1039,
      "outputs": [
        {
          "output_type": "execute_result",
          "data": {
            "text/plain": [
              "functional                 0.543098\n",
              "non functional             0.384259\n",
              "functional needs repair    0.072643\n",
              "Name: status_group, dtype: float64"
            ]
          },
          "metadata": {
            "tags": []
          },
          "execution_count": 1039
        }
      ]
    },
    {
      "cell_type": "markdown",
      "metadata": {
        "id": "hDyEKbbPsZsG",
        "colab_type": "text"
      },
      "source": [
        "### One-Hot Encoding - Quantity"
      ]
    },
    {
      "cell_type": "code",
      "metadata": {
        "id": "OgXptAiYsjPH",
        "colab_type": "code",
        "outputId": "ac2bc61d-6e32-41db-f938-f9240cd8358b",
        "colab": {
          "base_uri": "https://localhost:8080/",
          "height": 119
        }
      },
      "source": [
        "# Check values of quantity feature\n",
        "X_train['quantity'].value_counts(normalize=True)"
      ],
      "execution_count": 1040,
      "outputs": [
        {
          "output_type": "execute_result",
          "data": {
            "text/plain": [
              "enough          0.559070\n",
              "insufficient    0.255745\n",
              "dry             0.103556\n",
              "seasonal        0.068266\n",
              "unknown         0.013363\n",
              "Name: quantity, dtype: float64"
            ]
          },
          "metadata": {
            "tags": []
          },
          "execution_count": 1040
        }
      ]
    },
    {
      "cell_type": "code",
      "metadata": {
        "id": "2-euYaI6sw7X",
        "colab_type": "code",
        "outputId": "0011a2f0-f774-435d-bf55-97ee68e06b4e",
        "colab": {
          "base_uri": "https://localhost:8080/",
          "height": 306
        }
      },
      "source": [
        "# Recombine X_train and y_train, for exploratory data analysis\n",
        "train = X_train.copy()\n",
        "train['status_group'] = y_train\n",
        "\n",
        "train.groupby('quantity')['status_group'].value_counts(normalize=True)"
      ],
      "execution_count": 1041,
      "outputs": [
        {
          "output_type": "execute_result",
          "data": {
            "text/plain": [
              "quantity      status_group           \n",
              "dry           non functional             0.967689\n",
              "              functional                 0.026011\n",
              "              functional needs repair    0.006300\n",
              "enough        functional                 0.650920\n",
              "              non functional             0.276998\n",
              "              functional needs repair    0.072082\n",
              "insufficient  functional                 0.521106\n",
              "              non functional             0.382786\n",
              "              functional needs repair    0.096108\n",
              "seasonal      functional                 0.580456\n",
              "              non functional             0.318434\n",
              "              functional needs repair    0.101110\n",
              "unknown       non functional             0.713386\n",
              "              functional                 0.267717\n",
              "              functional needs repair    0.018898\n",
              "Name: status_group, dtype: float64"
            ]
          },
          "metadata": {
            "tags": []
          },
          "execution_count": 1041
        }
      ]
    },
    {
      "cell_type": "code",
      "metadata": {
        "id": "m-T5P9Z5s_6-",
        "colab_type": "code",
        "outputId": "bdb618f1-ff95-46b4-9499-e443fb0b64e5",
        "colab": {
          "base_uri": "https://localhost:8080/",
          "height": 399
        }
      },
      "source": [
        "# Plot the values, dry shows a strong relationship to functional\n",
        "import matplotlib.pyplot as plt\n",
        "import seaborn as sns\n",
        "\n",
        "train['functional']= (train['status_group'] == 'functional').astype(int)\n",
        "train[['status_group', 'functional']]\n",
        "\n",
        "sns.catplot(x='quantity', y='functional', data=train, kind='bar', color='grey')\n",
        "plt.title('% of Waterpumps Functional by Water Quantity')"
      ],
      "execution_count": 1042,
      "outputs": [
        {
          "output_type": "execute_result",
          "data": {
            "text/plain": [
              "Text(0.5, 1.0, '% of Waterpumps Functional by Water Quantity')"
            ]
          },
          "metadata": {
            "tags": []
          },
          "execution_count": 1042
        },
        {
          "output_type": "display_data",
          "data": {
            "image/png": "[encoded data removed]",
            "text/plain": [
              "<Figure size 360x360 with 1 Axes>"
            ]
          },
          "metadata": {
            "tags": []
          }
        }
      ]
    },
    {
      "cell_type": "markdown",
      "metadata": {
        "id": "vIpG2-d53NtY",
        "colab_type": "text"
      },
      "source": [
        "### One-Hot Encoding - Waterpoint Type"
      ]
    },
    {
      "cell_type": "code",
      "metadata": {
        "id": "Lu_JKfVD0uQq",
        "colab_type": "code",
        "outputId": "b2b2e992-f6de-4345-a9b1-a3d7f7e6c559",
        "colab": {
          "base_uri": "https://localhost:8080/",
          "height": 153
        }
      },
      "source": [
        "X_train['waterpoint_type'].value_counts(normalize=True)"
      ],
      "execution_count": 1043,
      "outputs": [
        {
          "output_type": "execute_result",
          "data": {
            "text/plain": [
              "communal standpipe             0.479335\n",
              "hand pump                      0.294928\n",
              "other                          0.108123\n",
              "communal standpipe multiple    0.102357\n",
              "improved spring                0.013279\n",
              "cattle trough                  0.001873\n",
              "dam                            0.000105\n",
              "Name: waterpoint_type, dtype: float64"
            ]
          },
          "metadata": {
            "tags": []
          },
          "execution_count": 1043
        }
      ]
    },
    {
      "cell_type": "code",
      "metadata": {
        "id": "j22sVuil1Xry",
        "colab_type": "code",
        "outputId": "380dcab1-b8ea-41b3-ddeb-c2b931b22dbd",
        "colab": {
          "base_uri": "https://localhost:8080/",
          "height": 399
        }
      },
      "source": [
        "# Recombine X_train and y_train, for exploratory data analysis\n",
        "train = X_train.copy()\n",
        "train['status_group'] = y_train\n",
        "train.groupby('waterpoint_type')['status_group'].value_counts(normalize=True)\n",
        "train['functional']= (train['status_group'] == 'functional').astype(int)\n",
        "train[['status_group', 'functional']]\n",
        "\n",
        "sns.catplot(x='waterpoint_type', y='functional', data=train, kind='bar', color='grey')\n",
        "plt.title('% of Waterpumps Functional by Waterpoint Type')"
      ],
      "execution_count": 1044,
      "outputs": [
        {
          "output_type": "execute_result",
          "data": {
            "text/plain": [
              "Text(0.5, 1.0, '% of Waterpumps Functional by Waterpoint Type')"
            ]
          },
          "metadata": {
            "tags": []
          },
          "execution_count": 1044
        },
        {
          "output_type": "display_data",
          "data": {
            "image/png": "[encoded data removed]",
            "text/plain": [
              "<Figure size 360x360 with 1 Axes>"
            ]
          },
          "metadata": {
            "tags": []
          }
        }
      ]
    },
    {
      "cell_type": "markdown",
      "metadata": {
        "id": "OpwyrxfE3n6s",
        "colab_type": "text"
      },
      "source": [
        "### One-Hot Encoding - Extraction Type"
      ]
    },
    {
      "cell_type": "code",
      "metadata": {
        "id": "uWh6pw4X2QoG",
        "colab_type": "code",
        "outputId": "c14d30bd-4928-48c0-8bba-079aaaff9306",
        "colab": {
          "base_uri": "https://localhost:8080/",
          "height": 399
        }
      },
      "source": [
        "X_train['extraction_type'].value_counts(normalize=True)\n",
        "train = X_train.copy()\n",
        "train['status_group'] = y_train\n",
        "train.groupby('extraction_type')['status_group'].value_counts(normalize=True)\n",
        "train['functional']= (train['status_group'] == 'functional').astype(int)\n",
        "train[['status_group', 'functional']]\n",
        "\n",
        "sns.catplot(x='extraction_type', y='functional', data=train, kind='bar', color='grey')\n",
        "plt.title('% of Waterpumps Functional by Extraction Type')"
      ],
      "execution_count": 1045,
      "outputs": [
        {
          "output_type": "execute_result",
          "data": {
            "text/plain": [
              "Text(0.5, 1.0, '% of Waterpumps Functional by Extraction Type')"
            ]
          },
          "metadata": {
            "tags": []
          },
          "execution_count": 1045
        },
        {
          "output_type": "display_data",
          "data": {
            "image/png": "[encoded data removed]",
            "text/plain": [
              "<Figure size 360x360 with 1 Axes>"
            ]
          },
          "metadata": {
            "tags": []
          }
        }
      ]
    },
    {
      "cell_type": "code",
      "metadata": {
        "id": "87rfx8a9KGKr",
        "colab_type": "code",
        "colab": {}
      },
      "source": [
        "\n",
        "#X_train.loc[X_train['installer'] == 'DANID', 'installer'] = 'DANIDA'\n",
        "#X_val.loc[X_val['installer'] == 'DANID', 'installer'] = 'DANIDA'\n",
        "\n",
        "#X_train.loc[X_train['installer'] == 'District council', 'installer'] = 'District Council'\n",
        "#X_val.loc[X_val['installer'] == 'District council', 'installer'] = 'District Council'\n",
        "\n",
        "#X_train.loc[X_train['installer'] == 'Distri', 'installer'] = 'District Council'\n",
        "#X_val.loc[X_val['installer'] == 'Distri', 'installer'] = 'District Council'\n",
        "\n",
        "#X_train.loc[X_train['installer'] == 'World vision', 'installer'] = 'World Vision'\n",
        "#X_val.loc[X_val['installer'] == 'World vision', 'installer'] = 'World Vision'\n",
        "\n",
        "#X_train.loc[X_train['installer'] == 'Hesawa', 'installer'] = 'HESAWA'\n",
        "#X_val.loc[X_val['installer'] == 'Hesawa'] = 'HESAWA'\n",
        "\n",
        "#X_train.loc[X_train['installer'] == 'Commu', 'installer'] = 'Community'\n",
        "#X_val.loc[X_val['installer'] == 'Commu'] = 'Community'\n",
        "\n",
        "#X_train.loc[X_train['installer'] == 'KKKT _ Konde and DWE', 'installer'] = 'KKKT'\n",
        "#X_val.loc[X_val['installer'] == 'KKKT _ Konde and DWE'] = 'KKKT'\n",
        "\n",
        "#X_train.loc[X_train['installer'] == 'Central Government', 'installer'] = 'Government'\n",
        "#X_val.loc[X_val['installer'] == 'Central Government'] = 'Government'\n",
        "\n",
        "#X_train['installer'].value_counts"
      ],
      "execution_count": 0,
      "outputs": []
    },
    {
      "cell_type": "markdown",
      "metadata": {
        "id": "V4tmIM413yIE",
        "colab_type": "text"
      },
      "source": [
        "### Bin and One-Hot Encoding - Installer"
      ]
    },
    {
      "cell_type": "code",
      "metadata": {
        "id": "k_FZM59h4pGm",
        "colab_type": "code",
        "outputId": "077e144f-ca7b-4d31-d638-64c79c7e6047",
        "colab": {
          "base_uri": "https://localhost:8080/",
          "height": 683
        }
      },
      "source": [
        "X_train['installer'] = X_train['installer'].str.lower()\n",
        "X_val['installer'] = X_val['installer'].str.lower()\n",
        "\n",
        "X_train['installer'].value_counts(normalize=True)\n",
        "top10 = X_train['installer'].value_counts()[:5].index\n",
        "X_train.loc[~X_train['installer'].isin(top10), 'installer'] = 'Other'\n",
        "X_val.loc[~X_val['installer'].isin(top10), 'installer'] = 'Other'\n",
        "\n",
        "train = X_train.copy()\n",
        "train['status_group'] = y_train\n",
        "\n",
        "train.groupby('installer')['status_group'].value_counts(normalize=True)"
      ],
      "execution_count": 1047,
      "outputs": [
        {
          "output_type": "stream",
          "text": [
            "/usr/local/lib/python3.6/dist-packages/ipykernel_launcher.py:1: SettingWithCopyWarning: \n",
            "A value is trying to be set on a copy of a slice from a DataFrame.\n",
            "Try using .loc[row_indexer,col_indexer] = value instead\n",
            "\n",
            "See the caveats in the documentation: http://pandas.pydata.org/pandas-docs/stable/indexing.html#indexing-view-versus-copy\n",
            "  \"\"\"Entry point for launching an IPython kernel.\n",
            "/usr/local/lib/python3.6/dist-packages/ipykernel_launcher.py:2: SettingWithCopyWarning: \n",
            "A value is trying to be set on a copy of a slice from a DataFrame.\n",
            "Try using .loc[row_indexer,col_indexer] = value instead\n",
            "\n",
            "See the caveats in the documentation: http://pandas.pydata.org/pandas-docs/stable/indexing.html#indexing-view-versus-copy\n",
            "  \n",
            "/usr/local/lib/python3.6/dist-packages/pandas/core/indexing.py:543: SettingWithCopyWarning: \n",
            "A value is trying to be set on a copy of a slice from a DataFrame.\n",
            "Try using .loc[row_indexer,col_indexer] = value instead\n",
            "\n",
            "See the caveats in the documentation: http://pandas.pydata.org/pandas-docs/stable/indexing.html#indexing-view-versus-copy\n",
            "  self.obj[item] = s\n"
          ],
          "name": "stderr"
        },
        {
          "output_type": "execute_result",
          "data": {
            "text/plain": [
              "installer   status_group           \n",
              "Other       functional                 0.562281\n",
              "            non functional             0.376950\n",
              "            functional needs repair    0.060769\n",
              "commu       functional                 0.684706\n",
              "            non functional             0.285882\n",
              "            functional needs repair    0.029412\n",
              "dwe         functional                 0.540558\n",
              "            non functional             0.366452\n",
              "            functional needs repair    0.092990\n",
              "government  non functional             0.573413\n",
              "            functional                 0.287698\n",
              "            functional needs repair    0.138889\n",
              "hesawa      functional                 0.563177\n",
              "            non functional             0.396209\n",
              "            functional needs repair    0.040614\n",
              "rwe         non functional             0.639583\n",
              "            functional                 0.251042\n",
              "            functional needs repair    0.109375\n",
              "Name: status_group, dtype: float64"
            ]
          },
          "metadata": {
            "tags": []
          },
          "execution_count": 1047
        }
      ]
    },
    {
      "cell_type": "code",
      "metadata": {
        "id": "M84Vm5jM8KkU",
        "colab_type": "code",
        "outputId": "33cf3a0f-8997-4c0a-c60b-53eae2889dc3",
        "colab": {
          "base_uri": "https://localhost:8080/",
          "height": 399
        }
      },
      "source": [
        "train['functional']= (train['status_group'] == 'functional').astype(int)\n",
        "train[['status_group', 'functional']]\n",
        "\n",
        "sns.catplot(x='installer', y='functional', data=train, kind='bar', color='grey')\n",
        "plt.title('% of Waterpumps Functional by Installer')"
      ],
      "execution_count": 1048,
      "outputs": [
        {
          "output_type": "execute_result",
          "data": {
            "text/plain": [
              "Text(0.5, 1.0, '% of Waterpumps Functional by Installer')"
            ]
          },
          "metadata": {
            "tags": []
          },
          "execution_count": 1048
        },
        {
          "output_type": "display_data",
          "data": {
            "image/png": "[encoded data removed]",
            "text/plain": [
              "<Figure size 360x360 with 1 Axes>"
            ]
          },
          "metadata": {
            "tags": []
          }
        }
      ]
    },
    {
      "cell_type": "markdown",
      "metadata": {
        "id": "y1sLVgVJ4oyc",
        "colab_type": "text"
      },
      "source": [
        "### New Feature - Pump Age"
      ]
    },
    {
      "cell_type": "code",
      "metadata": {
        "id": "oUahkHzQCrRs",
        "colab_type": "code",
        "outputId": "b0a95ab2-05f8-4465-d86c-f770fb408990",
        "colab": {
          "base_uri": "https://localhost:8080/",
          "height": 745
        }
      },
      "source": [
        "X_train['pump_age'] = 2013 - X_train['construction_year']\n",
        "X_train.loc[X_train['pump_age'] == 2013, 'pump_age'] = 0\n",
        "X_val['pump_age'] = 2013 - X_val['construction_year']\n",
        "X_val.loc[X_val['pump_age'] == 2013, 'pump_age'] = 0\n",
        "\n",
        "#X_train.loc[X_train['pump_age'] == 0, 'pump_age'] = 50\n",
        "#X_val.loc[X_val['pump_age'] == 0, 'pump_age'] = 50\n",
        "\n",
        "train = X_train.copy()\n",
        "train['status_group'] = y_train\n",
        "\n",
        "train.groupby('pump_age')['status_group'].value_counts(normalize=True)\n",
        "train['functional']= (train['status_group'] == 'functional').astype(int)\n",
        "train[['status_group', 'functional']]\n",
        "\n",
        "sns.catplot(x='pump_age', y='functional', data=train, kind='bar', color='grey')\n",
        "plt.title('% of Waterpumps Functional by Pump Age')"
      ],
      "execution_count": 1049,
      "outputs": [
        {
          "output_type": "stream",
          "text": [
            "/usr/local/lib/python3.6/dist-packages/ipykernel_launcher.py:1: SettingWithCopyWarning: \n",
            "A value is trying to be set on a copy of a slice from a DataFrame.\n",
            "Try using .loc[row_indexer,col_indexer] = value instead\n",
            "\n",
            "See the caveats in the documentation: http://pandas.pydata.org/pandas-docs/stable/indexing.html#indexing-view-versus-copy\n",
            "  \"\"\"Entry point for launching an IPython kernel.\n",
            "/usr/local/lib/python3.6/dist-packages/pandas/core/indexing.py:543: SettingWithCopyWarning: \n",
            "A value is trying to be set on a copy of a slice from a DataFrame.\n",
            "Try using .loc[row_indexer,col_indexer] = value instead\n",
            "\n",
            "See the caveats in the documentation: http://pandas.pydata.org/pandas-docs/stable/indexing.html#indexing-view-versus-copy\n",
            "  self.obj[item] = s\n",
            "/usr/local/lib/python3.6/dist-packages/ipykernel_launcher.py:3: SettingWithCopyWarning: \n",
            "A value is trying to be set on a copy of a slice from a DataFrame.\n",
            "Try using .loc[row_indexer,col_indexer] = value instead\n",
            "\n",
            "See the caveats in the documentation: http://pandas.pydata.org/pandas-docs/stable/indexing.html#indexing-view-versus-copy\n",
            "  This is separate from the ipykernel package so we can avoid doing imports until\n"
          ],
          "name": "stderr"
        },
        {
          "output_type": "execute_result",
          "data": {
            "text/plain": [
              "Text(0.5, 1.0, '% of Waterpumps Functional by Pump Age')"
            ]
          },
          "metadata": {
            "tags": []
          },
          "execution_count": 1049
        },
        {
          "output_type": "display_data",
          "data": {
            "image/png": "[encoded data removed]",
            "text/plain": [
              "<Figure size 360x360 with 1 Axes>"
            ]
          },
          "metadata": {
            "tags": []
          }
        }
      ]
    },
    {
      "cell_type": "markdown",
      "metadata": {
        "id": "26uJs-7GQAIk",
        "colab_type": "text"
      },
      "source": [
        "### Bin and One-Hot Encoding - Funder"
      ]
    },
    {
      "cell_type": "code",
      "metadata": {
        "id": "aP1m7Dar_zy9",
        "colab_type": "code",
        "outputId": "b6eb0053-562f-4dd2-f9ad-8aeda2d478c3",
        "colab": {
          "base_uri": "https://localhost:8080/",
          "height": 745
        }
      },
      "source": [
        "X_train['funder'] = X_train['funder'].str.lower()\n",
        "X_val['funder'] = X_val['funder'].str.lower()\n",
        "\n",
        "X_train['funder'].value_counts(normalize=True)\n",
        "top10 = X_train['funder'].value_counts()[:5].index\n",
        "X_train.loc[~X_train['funder'].isin(top10), 'funder'] = 'Other'\n",
        "X_val.loc[~X_val['funder'].isin(top10), 'funder'] = 'Other'\n",
        "\n",
        "train = X_train.copy()\n",
        "train['status_group'] = y_train\n",
        "\n",
        "train.groupby('funder')['status_group'].value_counts(normalize=True)\n",
        "\n",
        "train['functional']= (train['status_group'] == 'functional').astype(int)\n",
        "train[['status_group', 'functional']]\n",
        "\n",
        "sns.catplot(x='funder', y='functional', data=train, kind='bar', color='grey')\n",
        "plt.title('% of Waterpumps Functional by Funder')"
      ],
      "execution_count": 1050,
      "outputs": [
        {
          "output_type": "stream",
          "text": [
            "/usr/local/lib/python3.6/dist-packages/ipykernel_launcher.py:1: SettingWithCopyWarning: \n",
            "A value is trying to be set on a copy of a slice from a DataFrame.\n",
            "Try using .loc[row_indexer,col_indexer] = value instead\n",
            "\n",
            "See the caveats in the documentation: http://pandas.pydata.org/pandas-docs/stable/indexing.html#indexing-view-versus-copy\n",
            "  \"\"\"Entry point for launching an IPython kernel.\n",
            "/usr/local/lib/python3.6/dist-packages/ipykernel_launcher.py:2: SettingWithCopyWarning: \n",
            "A value is trying to be set on a copy of a slice from a DataFrame.\n",
            "Try using .loc[row_indexer,col_indexer] = value instead\n",
            "\n",
            "See the caveats in the documentation: http://pandas.pydata.org/pandas-docs/stable/indexing.html#indexing-view-versus-copy\n",
            "  \n",
            "/usr/local/lib/python3.6/dist-packages/pandas/core/indexing.py:543: SettingWithCopyWarning: \n",
            "A value is trying to be set on a copy of a slice from a DataFrame.\n",
            "Try using .loc[row_indexer,col_indexer] = value instead\n",
            "\n",
            "See the caveats in the documentation: http://pandas.pydata.org/pandas-docs/stable/indexing.html#indexing-view-versus-copy\n",
            "  self.obj[item] = s\n"
          ],
          "name": "stderr"
        },
        {
          "output_type": "execute_result",
          "data": {
            "text/plain": [
              "Text(0.5, 1.0, '% of Waterpumps Functional by Funder')"
            ]
          },
          "metadata": {
            "tags": []
          },
          "execution_count": 1050
        },
        {
          "output_type": "display_data",
          "data": {
            "image/png": "[encoded data removed]",
            "text/plain": [
              "<Figure size 360x360 with 1 Axes>"
            ]
          },
          "metadata": {
            "tags": []
          }
        }
      ]
    },
    {
      "cell_type": "markdown",
      "metadata": {
        "id": "3umZyUzSQLVZ",
        "colab_type": "text"
      },
      "source": [
        "### One-Hot Encoding - Water Quality"
      ]
    },
    {
      "cell_type": "code",
      "metadata": {
        "id": "dggjPbnUHb2k",
        "colab_type": "code",
        "outputId": "3dacb074-1001-4584-aa3e-184d43e5c4fb",
        "colab": {
          "base_uri": "https://localhost:8080/",
          "height": 399
        }
      },
      "source": [
        "X_train['water_quality'].value_counts(normalize=True)\n",
        "train = X_train.copy()\n",
        "train['status_group'] = y_train\n",
        "train.groupby('water_quality')['status_group'].value_counts(normalize=True)\n",
        "train['functional']= (train['status_group'] == 'functional').astype(int)\n",
        "train[['status_group', 'functional']]\n",
        "\n",
        "sns.catplot(x='water_quality', y='functional', data=train, kind='bar', color='grey')\n",
        "plt.title('% of Waterpumps Functional by Water Quality')"
      ],
      "execution_count": 1051,
      "outputs": [
        {
          "output_type": "execute_result",
          "data": {
            "text/plain": [
              "Text(0.5, 1.0, '% of Waterpumps Functional by Water Quality')"
            ]
          },
          "metadata": {
            "tags": []
          },
          "execution_count": 1051
        },
        {
          "output_type": "display_data",
          "data": {
            "image/png": "[encoded data removed]",
            "text/plain": [
              "<Figure size 360x360 with 1 Axes>"
            ]
          },
          "metadata": {
            "tags": []
          }
        }
      ]
    },
    {
      "cell_type": "markdown",
      "metadata": {
        "id": "S9ymhThWUFu0",
        "colab_type": "text"
      },
      "source": [
        "### One-Hot Encoding - Basin"
      ]
    },
    {
      "cell_type": "code",
      "metadata": {
        "id": "7BDTgkUsQqo9",
        "colab_type": "code",
        "outputId": "b8fcf4d1-91b7-4be3-813c-043660e7876b",
        "colab": {
          "base_uri": "https://localhost:8080/",
          "height": 399
        }
      },
      "source": [
        "X_train['basin'].value_counts(normalize=True)\n",
        "train = X_train.copy()\n",
        "train['status_group'] = y_train\n",
        "train.groupby('basin')['status_group'].value_counts(normalize=True)\n",
        "train['functional']= (train['status_group'] == 'functional').astype(int)\n",
        "train[['status_group', 'functional']]\n",
        "\n",
        "sns.catplot(x='basin', y='functional', data=train, kind='bar', color='grey')\n",
        "plt.title('% of Waterpumps Functional by Basin')"
      ],
      "execution_count": 1052,
      "outputs": [
        {
          "output_type": "execute_result",
          "data": {
            "text/plain": [
              "Text(0.5, 1.0, '% of Waterpumps Functional by Basin')"
            ]
          },
          "metadata": {
            "tags": []
          },
          "execution_count": 1052
        },
        {
          "output_type": "display_data",
          "data": {
            "image/png": "[encoded data removed]",
            "text/plain": [
              "<Figure size 360x360 with 1 Axes>"
            ]
          },
          "metadata": {
            "tags": []
          }
        }
      ]
    },
    {
      "cell_type": "markdown",
      "metadata": {
        "id": "C_cTtfqtUKgr",
        "colab_type": "text"
      },
      "source": [
        "### One-Hot Encoding - Region"
      ]
    },
    {
      "cell_type": "code",
      "metadata": {
        "id": "DM30270XSLrd",
        "colab_type": "code",
        "outputId": "b142f4cf-4269-40c4-f071-b8d021d90875",
        "colab": {
          "base_uri": "https://localhost:8080/",
          "height": 399
        }
      },
      "source": [
        "X_train['region'].value_counts(normalize=True)\n",
        "train = X_train.copy()\n",
        "train['status_group'] = y_train\n",
        "train.groupby('region')['status_group'].value_counts(normalize=True)\n",
        "train['functional']= (train['status_group'] == 'functional').astype(int)\n",
        "train[['status_group', 'functional']]\n",
        "\n",
        "sns.catplot(x='region', y='functional', data=train, kind='bar', color='grey')\n",
        "plt.title('% of Waterpumps Functional by Region')"
      ],
      "execution_count": 1053,
      "outputs": [
        {
          "output_type": "execute_result",
          "data": {
            "text/plain": [
              "Text(0.5, 1.0, '% of Waterpumps Functional by Region')"
            ]
          },
          "metadata": {
            "tags": []
          },
          "execution_count": 1053
        },
        {
          "output_type": "display_data",
          "data": {
            "image/png": "[encoded data removed]",
            "text/plain": [
              "<Figure size 360x360 with 1 Axes>"
            ]
          },
          "metadata": {
            "tags": []
          }
        }
      ]
    },
    {
      "cell_type": "markdown",
      "metadata": {
        "id": "RprzY6FEQVB5",
        "colab_type": "text"
      },
      "source": [
        "### Use Mean for GPS Height Missing Values"
      ]
    },
    {
      "cell_type": "code",
      "metadata": {
        "id": "p3sVlnFR3GcR",
        "colab_type": "code",
        "outputId": "899a5ec4-ab80-4d53-d72a-7ec71638c3c7",
        "colab": {
          "base_uri": "https://localhost:8080/",
          "height": 159
        }
      },
      "source": [
        "X_train.loc[X_train['gps_height'] == 0, 'gps_height'] = X_train['gps_height'].mean()\n",
        "X_val.loc[X_val['gps_height'] == 0, 'gps_height'] = X_val['gps_height'].mean()\n",
        "\n",
        "train = X_train.copy()\n",
        "train['status_group'] = y_train\n",
        "\n",
        "train.groupby('gps_height')['status_group'].value_counts(normalize=True)\n",
        "train['functional']= (train['status_group'] == 'functional').astype(int)\n",
        "train[['status_group', 'functional']];\n",
        "\n",
        "#sns.catplot(x='amount_tsh', y='functional', data=train, kind='bar', color='grey')\n",
        "#plt.title('% of Waterpumps Functional by Pump Age')"
      ],
      "execution_count": 1054,
      "outputs": [
        {
          "output_type": "stream",
          "text": [
            "/usr/local/lib/python3.6/dist-packages/pandas/core/indexing.py:543: SettingWithCopyWarning: \n",
            "A value is trying to be set on a copy of a slice from a DataFrame.\n",
            "Try using .loc[row_indexer,col_indexer] = value instead\n",
            "\n",
            "See the caveats in the documentation: http://pandas.pydata.org/pandas-docs/stable/indexing.html#indexing-view-versus-copy\n",
            "  self.obj[item] = s\n"
          ],
          "name": "stderr"
        }
      ]
    },
    {
      "cell_type": "markdown",
      "metadata": {
        "id": "EZFGWgTEUUsT",
        "colab_type": "text"
      },
      "source": [
        "### One-Hot Encoding - Payment"
      ]
    },
    {
      "cell_type": "code",
      "metadata": {
        "id": "TBqAbmAgTT89",
        "colab_type": "code",
        "outputId": "6955fabf-eb15-4952-ecd4-b91d19098838",
        "colab": {
          "base_uri": "https://localhost:8080/",
          "height": 399
        }
      },
      "source": [
        "X_train['payment'].value_counts(normalize=True)\n",
        "train = X_train.copy()\n",
        "train['status_group'] = y_train\n",
        "train.groupby('payment')['status_group'].value_counts(normalize=True)\n",
        "train['functional']= (train['status_group'] == 'functional').astype(int)\n",
        "train[['status_group', 'functional']]\n",
        "\n",
        "sns.catplot(x='payment', y='functional', data=train, kind='bar', color='grey')\n",
        "plt.title('% of Waterpumps Functional by Payment')"
      ],
      "execution_count": 1055,
      "outputs": [
        {
          "output_type": "execute_result",
          "data": {
            "text/plain": [
              "Text(0.5, 1.0, '% of Waterpumps Functional by Payment')"
            ]
          },
          "metadata": {
            "tags": []
          },
          "execution_count": 1055
        },
        {
          "output_type": "display_data",
          "data": {
            "image/png": "[encoded data removed]",
            "text/plain": [
              "<Figure size 360x360 with 1 Axes>"
            ]
          },
          "metadata": {
            "tags": []
          }
        }
      ]
    },
    {
      "cell_type": "markdown",
      "metadata": {
        "id": "OlqyEg2Gh-qg",
        "colab_type": "text"
      },
      "source": [
        "### One-Hot Encoded - Source"
      ]
    },
    {
      "cell_type": "code",
      "metadata": {
        "id": "wrXDpYMmWl9i",
        "colab_type": "code",
        "outputId": "6bbbaa07-b042-43f9-de2b-99a86a07f761",
        "colab": {
          "base_uri": "https://localhost:8080/",
          "height": 399
        }
      },
      "source": [
        "X_train['source'].value_counts(normalize=True)\n",
        "train = X_train.copy()\n",
        "train['status_group'] = y_train\n",
        "train.groupby('source')['status_group'].value_counts(normalize=True)\n",
        "train['functional']= (train['status_group'] == 'functional').astype(int)\n",
        "train[['status_group', 'functional']]\n",
        "\n",
        "sns.catplot(x='source', y='functional', data=train, kind='bar', color='grey')\n",
        "plt.title('% of Waterpumps Functional by Source')"
      ],
      "execution_count": 1056,
      "outputs": [
        {
          "output_type": "execute_result",
          "data": {
            "text/plain": [
              "Text(0.5, 1.0, '% of Waterpumps Functional by Source')"
            ]
          },
          "metadata": {
            "tags": []
          },
          "execution_count": 1056
        },
        {
          "output_type": "display_data",
          "data": {
            "image/png": "[encoded data removed]",
            "text/plain": [
              "<Figure size 360x360 with 1 Axes>"
            ]
          },
          "metadata": {
            "tags": []
          }
        }
      ]
    },
    {
      "cell_type": "markdown",
      "metadata": {
        "id": "a1-u7T-piC3n",
        "colab_type": "text"
      },
      "source": [
        "### Bin and One-Hot Encoded - LGA"
      ]
    },
    {
      "cell_type": "code",
      "metadata": {
        "id": "t15-lLReXwS2",
        "colab_type": "code",
        "outputId": "739949da-6bdc-4525-c3cf-dff3d99d6bdf",
        "colab": {
          "base_uri": "https://localhost:8080/",
          "height": 541
        }
      },
      "source": [
        "X_train['lga'].value_counts(normalize=True)\n",
        "top10 = X_train['lga'].value_counts()[:10].index\n",
        "X_train.loc[~X_train['lga'].isin(top10), 'lga'] = 'Other'\n",
        "X_val.loc[~X_val['lga'].isin(top10), 'lga'] = 'Other'\n",
        "\n",
        "train = X_train.copy()\n",
        "train['status_group'] = y_train\n",
        "\n",
        "train.groupby('lga')['status_group'].value_counts(normalize=True)\n",
        "\n",
        "train['functional']= (train['status_group'] == 'functional').astype(int)\n",
        "train[['status_group', 'functional']]\n",
        "\n",
        "sns.catplot(x='lga', y='functional', data=train, kind='bar', color='grey')\n",
        "plt.title('% of Waterpumps Functional by LGA')"
      ],
      "execution_count": 1057,
      "outputs": [
        {
          "output_type": "stream",
          "text": [
            "/usr/local/lib/python3.6/dist-packages/pandas/core/indexing.py:543: SettingWithCopyWarning: \n",
            "A value is trying to be set on a copy of a slice from a DataFrame.\n",
            "Try using .loc[row_indexer,col_indexer] = value instead\n",
            "\n",
            "See the caveats in the documentation: http://pandas.pydata.org/pandas-docs/stable/indexing.html#indexing-view-versus-copy\n",
            "  self.obj[item] = s\n"
          ],
          "name": "stderr"
        },
        {
          "output_type": "execute_result",
          "data": {
            "text/plain": [
              "Text(0.5, 1.0, '% of Waterpumps Functional by LGA')"
            ]
          },
          "metadata": {
            "tags": []
          },
          "execution_count": 1057
        },
        {
          "output_type": "display_data",
          "data": {
            "image/png": "[encoded data removed]",
            "text/plain": [
              "<Figure size 360x360 with 1 Axes>"
            ]
          },
          "metadata": {
            "tags": []
          }
        }
      ]
    },
    {
      "cell_type": "markdown",
      "metadata": {
        "id": "ao00IqhJiMqq",
        "colab_type": "text"
      },
      "source": [
        "### Bin and One-Hot Encoded - Ward"
      ]
    },
    {
      "cell_type": "code",
      "metadata": {
        "id": "q1P52FVDaCCh",
        "colab_type": "code",
        "outputId": "adb44691-8da6-4cd0-bd51-5c84089f71a6",
        "colab": {
          "base_uri": "https://localhost:8080/",
          "height": 521
        }
      },
      "source": [
        "X_train['ward'].value_counts(normalize=True)\n",
        "top10 = X_train['ward'].value_counts()[:10].index\n",
        "X_train.loc[~X_train['ward'].isin(top10), 'ward'] = 'Other'\n",
        "X_val.loc[~X_val['ward'].isin(top10), 'ward'] = 'Other'\n",
        "\n",
        "train = X_train.copy()\n",
        "train['status_group'] = y_train\n",
        "\n",
        "train.groupby('ward')['status_group'].value_counts(normalize=True)\n",
        "\n",
        "train['functional']= (train['status_group'] == 'functional').astype(int)\n",
        "train[['status_group', 'functional']]\n",
        "\n",
        "sns.catplot(x='ward', y='functional', data=train, kind='bar', color='grey')\n",
        "plt.title('% of Waterpumps Functional by Ward')"
      ],
      "execution_count": 1058,
      "outputs": [
        {
          "output_type": "stream",
          "text": [
            "/usr/local/lib/python3.6/dist-packages/pandas/core/indexing.py:543: SettingWithCopyWarning: \n",
            "A value is trying to be set on a copy of a slice from a DataFrame.\n",
            "Try using .loc[row_indexer,col_indexer] = value instead\n",
            "\n",
            "See the caveats in the documentation: http://pandas.pydata.org/pandas-docs/stable/indexing.html#indexing-view-versus-copy\n",
            "  self.obj[item] = s\n"
          ],
          "name": "stderr"
        },
        {
          "output_type": "execute_result",
          "data": {
            "text/plain": [
              "Text(0.5, 1.0, '% of Waterpumps Functional by Ward')"
            ]
          },
          "metadata": {
            "tags": []
          },
          "execution_count": 1058
        },
        {
          "output_type": "display_data",
          "data": {
            "image/png": "[encoded data removed]",
            "text/plain": [
              "<Figure size 360x360 with 1 Axes>"
            ]
          },
          "metadata": {
            "tags": []
          }
        }
      ]
    },
    {
      "cell_type": "markdown",
      "metadata": {
        "id": "xusT0WUqizpU",
        "colab_type": "text"
      },
      "source": [
        "### One-Hot Encode - Scheme Management"
      ]
    },
    {
      "cell_type": "code",
      "metadata": {
        "id": "eP93vksddCiU",
        "colab_type": "code",
        "outputId": "48eb3949-5d58-48e1-cd16-4228252886ca",
        "colab": {
          "base_uri": "https://localhost:8080/",
          "height": 399
        }
      },
      "source": [
        "X_train['scheme_management'].value_counts(normalize=True)\n",
        "train = X_train.copy()\n",
        "train['status_group'] = y_train\n",
        "train.groupby('scheme_management')['status_group'].value_counts(normalize=True)\n",
        "train['functional']= (train['status_group'] == 'functional').astype(int)\n",
        "train[['status_group', 'functional']]\n",
        "\n",
        "sns.catplot(x='scheme_management', y='functional', data=train, kind='bar', color='grey')\n",
        "plt.title('% of Waterpumps Functional by Scheme Management')"
      ],
      "execution_count": 1059,
      "outputs": [
        {
          "output_type": "execute_result",
          "data": {
            "text/plain": [
              "Text(0.5, 1.0, '% of Waterpumps Functional by Scheme Management')"
            ]
          },
          "metadata": {
            "tags": []
          },
          "execution_count": 1059
        },
        {
          "output_type": "display_data",
          "data": {
            "image/png": "[encoded data removed]",
            "text/plain": [
              "<Figure size 360x360 with 1 Axes>"
            ]
          },
          "metadata": {
            "tags": []
          }
        }
      ]
    },
    {
      "cell_type": "markdown",
      "metadata": {
        "id": "Gp1QWXm1i7b3",
        "colab_type": "text"
      },
      "source": [
        "### One-Hot Encode - Management"
      ]
    },
    {
      "cell_type": "code",
      "metadata": {
        "id": "cU4lUhvQ7BYA",
        "colab_type": "code",
        "outputId": "b0425372-e6be-4d86-9d3d-3f0ad67be605",
        "colab": {
          "base_uri": "https://localhost:8080/",
          "height": 399
        }
      },
      "source": [
        "X_train['management'].value_counts(normalize=True)\n",
        "train = X_train.copy()\n",
        "train['status_group'] = y_train\n",
        "train.groupby('management')['status_group'].value_counts(normalize=True)\n",
        "train['functional']= (train['status_group'] == 'functional').astype(int)\n",
        "train[['status_group', 'functional']]\n",
        "\n",
        "sns.catplot(x='management', y='functional', data=train, kind='bar', color='grey')\n",
        "plt.title('% of Waterpumps Functional by Management')"
      ],
      "execution_count": 1060,
      "outputs": [
        {
          "output_type": "execute_result",
          "data": {
            "text/plain": [
              "Text(0.5, 1.0, '% of Waterpumps Functional by Management')"
            ]
          },
          "metadata": {
            "tags": []
          },
          "execution_count": 1060
        },
        {
          "output_type": "display_data",
          "data": {
            "image/png": "[encoded data removed]",
            "text/plain": [
              "<Figure size 360x360 with 1 Axes>"
            ]
          },
          "metadata": {
            "tags": []
          }
        }
      ]
    },
    {
      "cell_type": "markdown",
      "metadata": {
        "id": "wZpED25kEsOI",
        "colab_type": "text"
      },
      "source": [
        "### Create a Region/District Feature"
      ]
    },
    {
      "cell_type": "code",
      "metadata": {
        "id": "Mb6j1BbQfSpN",
        "colab_type": "code",
        "outputId": "04476ee3-3c69-42a1-a91c-cb444901c7b7",
        "colab": {
          "base_uri": "https://localhost:8080/",
          "height": 399
        }
      },
      "source": [
        "X_train['region_code'].value_counts(normalize=True)\n",
        "train = X_train.copy()\n",
        "train['status_group'] = y_train\n",
        "train.groupby('region_code')['status_group'].value_counts(normalize=True)\n",
        "train['functional']= (train['status_group'] == 'functional').astype(int)\n",
        "train[['status_group', 'functional']]\n",
        "\n",
        "sns.catplot(x='region_code', y='functional', data=train, kind='bar', color='grey')\n",
        "plt.title('% of Waterpumps Functional by Region Code')"
      ],
      "execution_count": 1061,
      "outputs": [
        {
          "output_type": "execute_result",
          "data": {
            "text/plain": [
              "Text(0.5, 1.0, '% of Waterpumps Functional by Region Code')"
            ]
          },
          "metadata": {
            "tags": []
          },
          "execution_count": 1061
        },
        {
          "output_type": "display_data",
          "data": {
            "image/png": "[encoded data removed]",
            "text/plain": [
              "<Figure size 360x360 with 1 Axes>"
            ]
          },
          "metadata": {
            "tags": []
          }
        }
      ]
    },
    {
      "cell_type": "code",
      "metadata": {
        "id": "ZAk00mJv-tfm",
        "colab_type": "code",
        "colab": {
          "base_uri": "https://localhost:8080/",
          "height": 643
        },
        "outputId": "a73fdb68-7a6a-42ab-ab19-471038551826"
      },
      "source": [
        "X_train['region_district'] = X_train['region_code'].astype(str) + X_train['district_code'].astype(str)\n",
        "X_val['region_district'] = X_val['region_code'].astype(str) + X_val['district_code'].astype(str)\n",
        "\n",
        "train = X_train.copy()\n",
        "train['status_group'] = y_train\n",
        "\n",
        "train.groupby('region_district')['status_group'].value_counts(normalize=True)\n",
        "train['functional']= (train['status_group'] == 'functional').astype(int)\n",
        "train[['status_group', 'functional']]\n",
        "\n",
        "sns.catplot(x='region_district', y='functional', data=train, kind='bar', color='grey')\n",
        "plt.title('% of Waterpumps Functional by Region/District')"
      ],
      "execution_count": 1062,
      "outputs": [
        {
          "output_type": "stream",
          "text": [
            "/usr/local/lib/python3.6/dist-packages/ipykernel_launcher.py:1: SettingWithCopyWarning: \n",
            "A value is trying to be set on a copy of a slice from a DataFrame.\n",
            "Try using .loc[row_indexer,col_indexer] = value instead\n",
            "\n",
            "See the caveats in the documentation: http://pandas.pydata.org/pandas-docs/stable/indexing.html#indexing-view-versus-copy\n",
            "  \"\"\"Entry point for launching an IPython kernel.\n",
            "/usr/local/lib/python3.6/dist-packages/ipykernel_launcher.py:2: SettingWithCopyWarning: \n",
            "A value is trying to be set on a copy of a slice from a DataFrame.\n",
            "Try using .loc[row_indexer,col_indexer] = value instead\n",
            "\n",
            "See the caveats in the documentation: http://pandas.pydata.org/pandas-docs/stable/indexing.html#indexing-view-versus-copy\n",
            "  \n"
          ],
          "name": "stderr"
        },
        {
          "output_type": "execute_result",
          "data": {
            "text/plain": [
              "Text(0.5, 1.0, '% of Waterpumps Functional by Region/District')"
            ]
          },
          "metadata": {
            "tags": []
          },
          "execution_count": 1062
        },
        {
          "output_type": "display_data",
          "data": {
            "image/png": "[encoded data removed]",
            "text/plain": [
              "<Figure size 360x360 with 1 Axes>"
            ]
          },
          "metadata": {
            "tags": []
          }
        }
      ]
    },
    {
      "cell_type": "markdown",
      "metadata": {
        "id": "Q7548-TuLCSd",
        "colab_type": "text"
      },
      "source": [
        "### One-Hot Encode - Subvillage"
      ]
    },
    {
      "cell_type": "code",
      "metadata": {
        "id": "Fx77-ltOooSl",
        "colab_type": "code",
        "colab": {
          "base_uri": "https://localhost:8080/",
          "height": 541
        },
        "outputId": "c4c3f464-a43c-4570-e843-1c77c0d21238"
      },
      "source": [
        "X_train['subvillage'].value_counts(normalize=True)\n",
        "top10 = X_train['subvillage'].value_counts()[:10].index\n",
        "X_train.loc[~X_train['subvillage'].isin(top10), 'subvillage'] = 'Other'\n",
        "X_val.loc[~X_val['subvillage'].isin(top10), 'subvillage'] = 'Other'\n",
        "\n",
        "train = X_train.copy()\n",
        "train['status_group'] = y_train\n",
        "\n",
        "train.groupby('subvillage')['status_group'].value_counts(normalize=True)\n",
        "\n",
        "train['functional']= (train['status_group'] == 'functional').astype(int)\n",
        "train[['status_group', 'functional']]\n",
        "\n",
        "sns.catplot(x='subvillage', y='functional', data=train, kind='bar', color='grey')\n",
        "plt.title('% of Waterpumps Functional by Subvillage')"
      ],
      "execution_count": 1063,
      "outputs": [
        {
          "output_type": "stream",
          "text": [
            "/usr/local/lib/python3.6/dist-packages/pandas/core/indexing.py:543: SettingWithCopyWarning: \n",
            "A value is trying to be set on a copy of a slice from a DataFrame.\n",
            "Try using .loc[row_indexer,col_indexer] = value instead\n",
            "\n",
            "See the caveats in the documentation: http://pandas.pydata.org/pandas-docs/stable/indexing.html#indexing-view-versus-copy\n",
            "  self.obj[item] = s\n"
          ],
          "name": "stderr"
        },
        {
          "output_type": "execute_result",
          "data": {
            "text/plain": [
              "Text(0.5, 1.0, '% of Waterpumps Functional by Subvillage')"
            ]
          },
          "metadata": {
            "tags": []
          },
          "execution_count": 1063
        },
        {
          "output_type": "display_data",
          "data": {
            "image/png": "[encoded data removed]",
            "text/plain": [
              "<Figure size 360x360 with 1 Axes>"
            ]
          },
          "metadata": {
            "tags": []
          }
        }
      ]
    },
    {
      "cell_type": "code",
      "metadata": {
        "id": "UIxID3VTfZyu",
        "colab_type": "code",
        "colab": {
          "base_uri": "https://localhost:8080/",
          "height": 399
        },
        "outputId": "d2ad1b31-c3c7-492e-ff9e-ee4f2c5aba95"
      },
      "source": [
        "X_train['water_quality'].value_counts(normalize=True)\n",
        "train = X_train.copy()\n",
        "train['status_group'] = y_train\n",
        "train.groupby('water_quality')['status_group'].value_counts(normalize=True)\n",
        "train['functional']= (train['status_group'] == 'functional').astype(int)\n",
        "train[['status_group', 'functional']]\n",
        "\n",
        "sns.catplot(x='water_quality', y='functional', data=train, kind='bar', color='grey')\n",
        "plt.title('% of Waterpumps Functional by Quality')"
      ],
      "execution_count": 1064,
      "outputs": [
        {
          "output_type": "execute_result",
          "data": {
            "text/plain": [
              "Text(0.5, 1.0, '% of Waterpumps Functional by Quality')"
            ]
          },
          "metadata": {
            "tags": []
          },
          "execution_count": 1064
        },
        {
          "output_type": "display_data",
          "data": {
            "image/png": "[encoded data removed]",
            "text/plain": [
              "<Figure size 360x360 with 1 Axes>"
            ]
          },
          "metadata": {
            "tags": []
          }
        }
      ]
    },
    {
      "cell_type": "code",
      "metadata": {
        "id": "yCCpk1giFicw",
        "colab_type": "code",
        "colab": {}
      },
      "source": [
        "#X_train.loc[X_train['public_meeting'].isnull(), 'public_meeting'] = False\n",
        "#X_val.loc[X_val['public_meeting'].isnull(), 'public_meeting'] = False\n",
        "\n",
        "#train = X_train.copy()\n",
        "#train['status_group'] = y_train\n",
        "\n",
        "#train.groupby('public_meeting')['status_group'].value_counts(normalize=True)\n",
        "#train['functional']= (train['status_group'] == 'functional').astype(int)\n",
        "#train[['status_group', 'functional']];\n",
        "\n",
        "#sns.catplot(x='public_meeting', y='functional', data=train, kind='bar', color='grey')\n",
        "#plt.title('% of Waterpumps Functional by Region/District')"
      ],
      "execution_count": 0,
      "outputs": []
    },
    {
      "cell_type": "markdown",
      "metadata": {
        "id": "vBATDBn30mLX",
        "colab_type": "text"
      },
      "source": [
        "### Run the Logistic Regression"
      ]
    },
    {
      "cell_type": "code",
      "metadata": {
        "id": "Oc7PYIt2texi",
        "colab_type": "code",
        "colab": {}
      },
      "source": [
        "import sklearn\n",
        "sklearn.__version__\n",
        "\n",
        "# Import the class\n",
        "from sklearn.linear_model import LogisticRegressionCV\n",
        "\n",
        "# Import package and scaler\n",
        "import category_encoders as ce\n",
        "from sklearn.preprocessing import StandardScaler"
      ],
      "execution_count": 0,
      "outputs": []
    },
    {
      "cell_type": "code",
      "metadata": {
        "id": "fBcw2yiWtSVk",
        "colab_type": "code",
        "outputId": "019c7423-0fc0-487f-c8f1-0b8e6572ba52",
        "colab": {
          "base_uri": "https://localhost:8080/",
          "height": 165
        }
      },
      "source": [
        "# use quantity feature and the numerical features but drop id\n",
        "categorical_features = ['quantity', 'waterpoint_type', 'extraction_type', 'installer',\n",
        "                         'basin', 'region', 'payment', 'source', 'lga', 'public_meeting',\n",
        "                         'scheme_management', 'permit', 'management', 'region_district',\n",
        "                         'subvillage', 'funder', 'water_quality']\n",
        "                                             \n",
        "# 'ward'\n",
        "numeric_features = X_train.select_dtypes('number').columns.drop('id', 'num_private').tolist()\n",
        "features = categorical_features + numeric_features\n",
        "\n",
        "# make subsets using the quantity feature all numeric features except id\n",
        "X_train_subset = X_train[features]\n",
        "X_val_subset = X_val[features]\n",
        "\n",
        "# Do the encoding\n",
        "encoder = ce.OneHotEncoder(use_cat_names=True)\n",
        "X_train_encoded = encoder.fit_transform(X_train_subset)\n",
        "X_val_encoded = encoder.transform(X_val_subset)\n",
        "\n",
        "# Use the scaler\n",
        "scaler = StandardScaler()\n",
        "X_train_scaled = scaler.fit_transform(X_train_encoded)\n",
        "X_val_scaled = scaler.transform(X_val_encoded)\n",
        "\n",
        "# Fit the model and check the accuracy\n",
        "model = LogisticRegressionCV(n_jobs = -1)\n",
        "model.fit(X_train_scaled, y_train)\n",
        "\n",
        "print('Validation Accuracy', model.score(X_val_scaled, y_val));\n",
        "\n"
      ],
      "execution_count": 1067,
      "outputs": [
        {
          "output_type": "stream",
          "text": [
            "/usr/local/lib/python3.6/dist-packages/sklearn/linear_model/logistic.py:469: FutureWarning: Default multi_class will be changed to 'auto' in 0.22. Specify the multi_class option to silence this warning.\n",
            "  \"this warning.\", FutureWarning)\n",
            "/usr/local/lib/python3.6/dist-packages/sklearn/model_selection/_split.py:1978: FutureWarning: The default value of cv will change from 3 to 5 in version 0.22. Specify it explicitly to silence this warning.\n",
            "  warnings.warn(CV_WARNING, FutureWarning)\n"
          ],
          "name": "stderr"
        },
        {
          "output_type": "stream",
          "text": [
            "Validation Accuracy 0.753030303030303\n"
          ],
          "name": "stdout"
        }
      ]
    },
    {
      "cell_type": "markdown",
      "metadata": {
        "id": "BJNF5xa4LPw1",
        "colab_type": "text"
      },
      "source": [
        "### Run RandomForestClassifier"
      ]
    },
    {
      "cell_type": "code",
      "metadata": {
        "id": "LAkZOXEX5rlk",
        "colab_type": "code",
        "colab": {
          "base_uri": "https://localhost:8080/",
          "height": 238
        },
        "outputId": "a1d2934e-2169-42da-8ae9-10776b0e4269"
      },
      "source": [
        "from sklearn.ensemble import RandomForestClassifier\n",
        "\n",
        "model = RandomForestClassifier(n_estimators=1000, \n",
        "                               random_state=42, \n",
        "                               max_features = 'auto',\n",
        "                               n_jobs=-1,\n",
        "                               verbose = 1)\n",
        "\n",
        "model.fit(X_train_scaled, y_train)\n",
        "\n",
        "print('Validation Accuracy', model.score(X_val_scaled, y_val));\n",
        "\n"
      ],
      "execution_count": 1068,
      "outputs": [
        {
          "output_type": "stream",
          "text": [
            "[Parallel(n_jobs=-1)]: Using backend ThreadingBackend with 2 concurrent workers.\n",
            "[Parallel(n_jobs=-1)]: Done  46 tasks      | elapsed:    6.4s\n",
            "[Parallel(n_jobs=-1)]: Done 196 tasks      | elapsed:   27.3s\n",
            "[Parallel(n_jobs=-1)]: Done 446 tasks      | elapsed:  1.0min\n",
            "[Parallel(n_jobs=-1)]: Done 796 tasks      | elapsed:  1.9min\n",
            "[Parallel(n_jobs=-1)]: Done 1000 out of 1000 | elapsed:  2.3min finished\n",
            "[Parallel(n_jobs=2)]: Using backend ThreadingBackend with 2 concurrent workers.\n",
            "[Parallel(n_jobs=2)]: Done  46 tasks      | elapsed:    0.3s\n",
            "[Parallel(n_jobs=2)]: Done 196 tasks      | elapsed:    1.1s\n",
            "[Parallel(n_jobs=2)]: Done 446 tasks      | elapsed:    2.1s\n",
            "[Parallel(n_jobs=2)]: Done 796 tasks      | elapsed:    3.6s\n"
          ],
          "name": "stderr"
        },
        {
          "output_type": "stream",
          "text": [
            "Validation Accuracy 0.8079124579124579\n"
          ],
          "name": "stdout"
        },
        {
          "output_type": "stream",
          "text": [
            "[Parallel(n_jobs=2)]: Done 1000 out of 1000 | elapsed:    4.4s finished\n"
          ],
          "name": "stderr"
        }
      ]
    },
    {
      "cell_type": "code",
      "metadata": {
        "id": "0o8dPt50N0MN",
        "colab_type": "code",
        "colab": {
          "base_uri": "https://localhost:8080/",
          "height": 119
        },
        "outputId": "f8777da2-dae4-47f0-f368-c199319e70e2"
      },
      "source": [
        "test_features['pump_age'] = 2013 - test_features['construction_year']\n",
        "test_features.loc[test_features['pump_age'] == 2013, 'pump_age'] = 0\n",
        "\n",
        "test_features['region_district'] = test_features['region_code'].astype(str) + test_features['district_code'].astype(str)\n",
        "\n",
        "X_test_subset = test_features[features]\n",
        "X_test_encoded = encoder.transform(X_test_subset)\n",
        "X_test_scaled = scaler.transform(X_test_encoded)\n",
        "assert all(X_test_encoded.columns == X_train_encoded.columns)\n",
        "\n",
        "y_pred = model.predict(X_test_scaled)"
      ],
      "execution_count": 1069,
      "outputs": [
        {
          "output_type": "stream",
          "text": [
            "[Parallel(n_jobs=2)]: Using backend ThreadingBackend with 2 concurrent workers.\n",
            "[Parallel(n_jobs=2)]: Done  46 tasks      | elapsed:    0.2s\n",
            "[Parallel(n_jobs=2)]: Done 196 tasks      | elapsed:    0.8s\n",
            "[Parallel(n_jobs=2)]: Done 446 tasks      | elapsed:    1.8s\n",
            "[Parallel(n_jobs=2)]: Done 796 tasks      | elapsed:    3.2s\n",
            "[Parallel(n_jobs=2)]: Done 1000 out of 1000 | elapsed:    4.0s finished\n"
          ],
          "name": "stderr"
        }
      ]
    },
    {
      "cell_type": "code",
      "metadata": {
        "id": "eUMIufHhUKu2",
        "colab_type": "code",
        "colab": {}
      },
      "source": [
        "submission = sample_submission.copy()\n",
        "submission['status_group'] = y_pred\n",
        "submission.to_csv('/content/submission-01.csv', index=False)"
      ],
      "execution_count": 0,
      "outputs": []
    }
  ]
}