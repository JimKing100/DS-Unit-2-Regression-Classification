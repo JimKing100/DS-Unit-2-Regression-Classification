{
  "nbformat": 4,
  "nbformat_minor": 0,
  "metadata": {
    "colab": {
      "name": "Untitled20.ipynb",
      "version": "0.3.2",
      "provenance": [],
      "include_colab_link": true
    },
    "kernelspec": {
      "name": "python3",
      "display_name": "Python 3"
    }
  },
  "cells": [
    {
      "cell_type": "markdown",
      "metadata": {
        "id": "view-in-github",
        "colab_type": "text"
      },
      "source": [
        "<a href=\"https://colab.research.google.com/github/JimKing100/DS-Unit-2-Regression-Classification/blob/master/module4/assignment_regression_classification_4e.ipynb\" target=\"_parent\"><img src=\"https://colab.research.google.com/assets/colab-badge.svg\" alt=\"Open In Colab\"/></a>"
      ]
    },
    {
      "cell_type": "code",
      "metadata": {
        "id": "jxFhqMBTqPji",
        "colab_type": "code",
        "colab": {}
      },
      "source": [
        "# Installs\n",
        "%%capture\n",
        "!pip install --upgrade category_encoders plotly"
      ],
      "execution_count": 0,
      "outputs": []
    },
    {
      "cell_type": "code",
      "metadata": {
        "id": "Cz1aBBrrpa3L",
        "colab_type": "code",
        "outputId": "e1418288-b045-4f30-9082-4ab17474d85c",
        "colab": {
          "base_uri": "https://localhost:8080/",
          "height": 131
        }
      },
      "source": [
        "# Imports\n",
        "import os, sys\n",
        "\n",
        "os.chdir('/content')\n",
        "!git init .\n",
        "!git remote add origin https://github.com/LambdaSchool/DS-Unit-2-Regression-Classification.git\n",
        "!git pull origin master\n",
        "    \n",
        "os.chdir('module4')"
      ],
      "execution_count": 141,
      "outputs": [
        {
          "output_type": "stream",
          "text": [
            "Reinitialized existing Git repository in /content/.git/\n",
            "fatal: remote origin already exists.\n",
            "From https://github.com/LambdaSchool/DS-Unit-2-Regression-Classification\n",
            " * branch            master     -> FETCH_HEAD\n",
            "Already up to date.\n"
          ],
          "name": "stdout"
        }
      ]
    },
    {
      "cell_type": "code",
      "metadata": {
        "id": "--8zMv9Iq_3B",
        "colab_type": "code",
        "colab": {}
      },
      "source": [
        "# Disable warning\n",
        "import warnings\n",
        "warnings.filterwarnings(action='ignore', category=FutureWarning, module='numpy')"
      ],
      "execution_count": 0,
      "outputs": []
    },
    {
      "cell_type": "markdown",
      "metadata": {
        "id": "MQeB6OCfrt04",
        "colab_type": "text"
      },
      "source": [
        "### Load Data"
      ]
    },
    {
      "cell_type": "code",
      "metadata": {
        "id": "md_dzn0CrUdE",
        "colab_type": "code",
        "colab": {}
      },
      "source": [
        "import pandas as pd\n",
        "\n",
        "train_features = pd.read_csv('../data/tanzania/train_features.csv')\n",
        "train_labels = pd.read_csv('../data/tanzania/train_labels.csv')\n",
        "test_features = pd.read_csv('../data/tanzania/test_features.csv')\n",
        "sample_submission = pd.read_csv('../data/tanzania/sample_submission.csv')\n",
        "\n",
        "assert train_features.shape == (59400, 40)\n",
        "assert train_labels.shape == (59400, 2)\n",
        "assert test_features.shape == (14358, 40)\n",
        "assert sample_submission.shape == (14358, 2)"
      ],
      "execution_count": 0,
      "outputs": []
    },
    {
      "cell_type": "markdown",
      "metadata": {
        "id": "tsv1j8i1ryE_",
        "colab_type": "text"
      },
      "source": [
        "### Train/Validate/Test Split"
      ]
    },
    {
      "cell_type": "code",
      "metadata": {
        "id": "I5MwknJoreoz",
        "colab_type": "code",
        "outputId": "0ea2cc44-1eb6-4a46-8705-eb792b78fdd9",
        "colab": {
          "base_uri": "https://localhost:8080/",
          "height": 34
        }
      },
      "source": [
        "# Load initial train features and labels\n",
        "from sklearn.model_selection import train_test_split\n",
        "X_train = train_features\n",
        "y_train = train_labels['status_group']\n",
        "\n",
        "X_train.shape, y_train.shape"
      ],
      "execution_count": 144,
      "outputs": [
        {
          "output_type": "execute_result",
          "data": {
            "text/plain": [
              "((59400, 40), (59400,))"
            ]
          },
          "metadata": {
            "tags": []
          },
          "execution_count": 144
        }
      ]
    },
    {
      "cell_type": "code",
      "metadata": {
        "id": "vwwYWwWxsGmP",
        "colab_type": "code",
        "outputId": "b5ab9148-a79f-4efd-fdb4-22780fa99a2e",
        "colab": {
          "base_uri": "https://localhost:8080/",
          "height": 34
        }
      },
      "source": [
        "# Split the initial train features and labels 80% into new train and new validation\n",
        "X_train, X_val, y_train, y_val = train_test_split(\n",
        "  X_train, y_train, train_size = 0.80, test_size = 0.20,\n",
        "  stratify = y_train, random_state=42\n",
        ")\n",
        "\n",
        "X_train.shape, X_val.shape, y_train.shape, y_val.shape"
      ],
      "execution_count": 145,
      "outputs": [
        {
          "output_type": "execute_result",
          "data": {
            "text/plain": [
              "((47520, 40), (11880, 40), (47520,), (11880,))"
            ]
          },
          "metadata": {
            "tags": []
          },
          "execution_count": 145
        }
      ]
    },
    {
      "cell_type": "code",
      "metadata": {
        "id": "8XxcRPT4sLpg",
        "colab_type": "code",
        "outputId": "c8753399-3b2c-4ec1-c276-e4321c678752",
        "colab": {
          "base_uri": "https://localhost:8080/",
          "height": 85
        }
      },
      "source": [
        "# Check values of new train labels\n",
        "y_train.value_counts(normalize=True)"
      ],
      "execution_count": 146,
      "outputs": [
        {
          "output_type": "execute_result",
          "data": {
            "text/plain": [
              "functional                 0.543077\n",
              "non functional             0.384238\n",
              "functional needs repair    0.072685\n",
              "Name: status_group, dtype: float64"
            ]
          },
          "metadata": {
            "tags": []
          },
          "execution_count": 146
        }
      ]
    },
    {
      "cell_type": "code",
      "metadata": {
        "id": "snw_P3-asTCt",
        "colab_type": "code",
        "outputId": "443245f1-92b3-4d6b-b2f9-923fd5d94c91",
        "colab": {
          "base_uri": "https://localhost:8080/",
          "height": 85
        }
      },
      "source": [
        "# Check values of new validation labels\n",
        "y_val.value_counts(normalize=True)"
      ],
      "execution_count": 147,
      "outputs": [
        {
          "output_type": "execute_result",
          "data": {
            "text/plain": [
              "functional                 0.543098\n",
              "non functional             0.384259\n",
              "functional needs repair    0.072643\n",
              "Name: status_group, dtype: float64"
            ]
          },
          "metadata": {
            "tags": []
          },
          "execution_count": 147
        }
      ]
    },
    {
      "cell_type": "markdown",
      "metadata": {
        "id": "hDyEKbbPsZsG",
        "colab_type": "text"
      },
      "source": [
        "### One-Hot Encoding - Quantity"
      ]
    },
    {
      "cell_type": "code",
      "metadata": {
        "id": "OgXptAiYsjPH",
        "colab_type": "code",
        "outputId": "2afdbb55-2d9a-482e-a7c8-960a1b0dbb08",
        "colab": {
          "base_uri": "https://localhost:8080/",
          "height": 119
        }
      },
      "source": [
        "# Check values of quantity feature\n",
        "X_train['quantity'].value_counts(normalize=True)"
      ],
      "execution_count": 148,
      "outputs": [
        {
          "output_type": "execute_result",
          "data": {
            "text/plain": [
              "enough          0.559070\n",
              "insufficient    0.255745\n",
              "dry             0.103556\n",
              "seasonal        0.068266\n",
              "unknown         0.013363\n",
              "Name: quantity, dtype: float64"
            ]
          },
          "metadata": {
            "tags": []
          },
          "execution_count": 148
        }
      ]
    },
    {
      "cell_type": "code",
      "metadata": {
        "id": "2-euYaI6sw7X",
        "colab_type": "code",
        "outputId": "974d9d8c-9315-448b-88b1-6a011c509fdc",
        "colab": {
          "base_uri": "https://localhost:8080/",
          "height": 306
        }
      },
      "source": [
        "# Recombine X_train and y_train, for exploratory data analysis\n",
        "train = X_train.copy()\n",
        "train['status_group'] = y_train\n",
        "\n",
        "train.groupby('quantity')['status_group'].value_counts(normalize=True)"
      ],
      "execution_count": 149,
      "outputs": [
        {
          "output_type": "execute_result",
          "data": {
            "text/plain": [
              "quantity      status_group           \n",
              "dry           non functional             0.967689\n",
              "              functional                 0.026011\n",
              "              functional needs repair    0.006300\n",
              "enough        functional                 0.650920\n",
              "              non functional             0.276998\n",
              "              functional needs repair    0.072082\n",
              "insufficient  functional                 0.521106\n",
              "              non functional             0.382786\n",
              "              functional needs repair    0.096108\n",
              "seasonal      functional                 0.580456\n",
              "              non functional             0.318434\n",
              "              functional needs repair    0.101110\n",
              "unknown       non functional             0.713386\n",
              "              functional                 0.267717\n",
              "              functional needs repair    0.018898\n",
              "Name: status_group, dtype: float64"
            ]
          },
          "metadata": {
            "tags": []
          },
          "execution_count": 149
        }
      ]
    },
    {
      "cell_type": "code",
      "metadata": {
        "id": "m-T5P9Z5s_6-",
        "colab_type": "code",
        "outputId": "de4bf12e-341a-42c3-cd5e-5abddd6e2630",
        "colab": {
          "base_uri": "https://localhost:8080/",
          "height": 399
        }
      },
      "source": [
        "# Plot the values, dry shows a strong relationship to functional\n",
        "import matplotlib.pyplot as plt\n",
        "import seaborn as sns\n",
        "\n",
        "train['functional']= (train['status_group'] == 'functional').astype(int)\n",
        "train[['status_group', 'functional']]\n",
        "\n",
        "sns.catplot(x='quantity', y='functional', data=train, kind='bar', color='grey')\n",
        "plt.title('% of Waterpumps Functional by Water Quantity')"
      ],
      "execution_count": 150,
      "outputs": [
        {
          "output_type": "execute_result",
          "data": {
            "text/plain": [
              "Text(0.5, 1.0, '% of Waterpumps Functional by Water Quantity')"
            ]
          },
          "metadata": {
            "tags": []
          },
          "execution_count": 150
        },
        {
          "output_type": "display_data",
          "data": {
            "image/png": "[encoded data removed]",
            "text/plain": [
              "<Figure size 360x360 with 1 Axes>"
            ]
          },
          "metadata": {
            "tags": []
          }
        }
      ]
    },
    {
      "cell_type": "markdown",
      "metadata": {
        "id": "vIpG2-d53NtY",
        "colab_type": "text"
      },
      "source": [
        "### One-Hot Encoding - Waterpoint Type"
      ]
    },
    {
      "cell_type": "code",
      "metadata": {
        "id": "Lu_JKfVD0uQq",
        "colab_type": "code",
        "outputId": "e921e3c9-1ae2-407b-a894-9974c5449935",
        "colab": {
          "base_uri": "https://localhost:8080/",
          "height": 153
        }
      },
      "source": [
        "X_train['waterpoint_type'].value_counts(normalize=True)"
      ],
      "execution_count": 151,
      "outputs": [
        {
          "output_type": "execute_result",
          "data": {
            "text/plain": [
              "communal standpipe             0.479335\n",
              "hand pump                      0.294928\n",
              "other                          0.108123\n",
              "communal standpipe multiple    0.102357\n",
              "improved spring                0.013279\n",
              "cattle trough                  0.001873\n",
              "dam                            0.000105\n",
              "Name: waterpoint_type, dtype: float64"
            ]
          },
          "metadata": {
            "tags": []
          },
          "execution_count": 151
        }
      ]
    },
    {
      "cell_type": "code",
      "metadata": {
        "id": "j22sVuil1Xry",
        "colab_type": "code",
        "outputId": "d7698bae-8cdf-4d85-e4c7-d9454a0469ef",
        "colab": {
          "base_uri": "https://localhost:8080/",
          "height": 399
        }
      },
      "source": [
        "# Recombine X_train and y_train, for exploratory data analysis\n",
        "train = X_train.copy()\n",
        "train['status_group'] = y_train\n",
        "train.groupby('waterpoint_type')['status_group'].value_counts(normalize=True)\n",
        "train['functional']= (train['status_group'] == 'functional').astype(int)\n",
        "train[['status_group', 'functional']]\n",
        "\n",
        "sns.catplot(x='waterpoint_type', y='functional', data=train, kind='bar', color='grey')\n",
        "plt.title('% of Waterpumps Functional by Waterpoint Type')"
      ],
      "execution_count": 152,
      "outputs": [
        {
          "output_type": "execute_result",
          "data": {
            "text/plain": [
              "Text(0.5, 1.0, '% of Waterpumps Functional by Waterpoint Type')"
            ]
          },
          "metadata": {
            "tags": []
          },
          "execution_count": 152
        },
        {
          "output_type": "display_data",
          "data": {
            "image/png": "[encoded data removed]",
            "text/plain": [
              "<Figure size 360x360 with 1 Axes>"
            ]
          },
          "metadata": {
            "tags": []
          }
        }
      ]
    },
    {
      "cell_type": "markdown",
      "metadata": {
        "id": "OpwyrxfE3n6s",
        "colab_type": "text"
      },
      "source": [
        "### One-Hot Encoding - Extraction Type"
      ]
    },
    {
      "cell_type": "code",
      "metadata": {
        "id": "uWh6pw4X2QoG",
        "colab_type": "code",
        "outputId": "d92f23c5-edca-4d1d-c964-18e6692ee885",
        "colab": {
          "base_uri": "https://localhost:8080/",
          "height": 419
        }
      },
      "source": [
        "X_train['extraction_type'].value_counts(normalize=True)\n",
        "train = X_train.copy()\n",
        "train['status_group'] = y_train\n",
        "train.groupby('extraction_type')['status_group'].value_counts(normalize=True)\n",
        "train['functional']= (train['status_group'] == 'functional').astype(int)\n",
        "train[['status_group', 'functional']]\n",
        "\n",
        "sns.catplot(x='extraction_type', y='functional', data=train, kind='bar', color='grey')\n",
        "plt.title('% of Waterpumps Functional by Extraction Type')"
      ],
      "execution_count": 153,
      "outputs": [
        {
          "output_type": "execute_result",
          "data": {
            "text/plain": [
              "Text(0.5, 1.0, '% of Waterpumps Functional by Extraction Type')"
            ]
          },
          "metadata": {
            "tags": []
          },
          "execution_count": 153
        },
        {
          "output_type": "display_data",
          "data": {
            "image/png": "[encoded data removed]",
            "text/plain": [
              "<Figure size 360x360 with 1 Axes>"
            ]
          },
          "metadata": {
            "tags": []
          }
        }
      ]
    },
    {
      "cell_type": "markdown",
      "metadata": {
        "id": "V4tmIM413yIE",
        "colab_type": "text"
      },
      "source": [
        "### Bin and One-Hot Encoding - Installer"
      ]
    },
    {
      "cell_type": "code",
      "metadata": {
        "id": "k_FZM59h4pGm",
        "colab_type": "code",
        "outputId": "ed377657-868c-4ecb-dc97-3dfc61162552",
        "colab": {
          "base_uri": "https://localhost:8080/",
          "height": 1000
        }
      },
      "source": [
        "X_train['installer'] = X_train['installer'].str.lower()\n",
        "X_val['installer'] = X_val['installer'].str.lower()\n",
        "\n",
        "X_train['installer'] = X_train['installer'].str.lower()\n",
        "X_val['installer'] = X_val['installer'].str.lower()\n",
        "\n",
        "X_train['installer'] = X_train['installer'].str.replace('danid', 'danida')\n",
        "X_val['installer'] = X_val['installer'].str.replace('danid', 'danida')\n",
        "\n",
        "X_train['installer'] = X_train['installer'].str.replace('disti', 'district council')\n",
        "X_val['installer'] = X_val['installer'].str.replace('disti', 'district council')\n",
        "\n",
        "X_train['installer'] = X_train['installer'].str.replace('commu', 'community')\n",
        "X_val['installer'] = X_val['installer'].str.replace('commu', 'community')\n",
        "\n",
        "X_train['installer'] = X_train['installer'].str.replace('central government', 'government')\n",
        "X_val['installer'] = X_val['installer'].str.replace('central government', 'government')\n",
        "\n",
        "X_train['installer'] = X_train['installer'].str.replace('kkkt _ konde and dwe', 'kkkt')\n",
        "X_val['installer'] = X_val['installer'].str.replace('kkkt _ konde and dwe', 'kkkt')\n",
        "\n",
        "X_train['installer'].value_counts(normalize=True)\n",
        "top10 = X_train['installer'].value_counts()[:5].index\n",
        "X_train.loc[~X_train['installer'].isin(top10), 'installer'] = 'Other'\n",
        "X_val.loc[~X_val['installer'].isin(top10), 'installer'] = 'Other'\n",
        "\n",
        "train = X_train.copy()\n",
        "train['status_group'] = y_train\n",
        "\n",
        "train.groupby('installer')['status_group'].value_counts(normalize=True)"
      ],
      "execution_count": 154,
      "outputs": [
        {
          "output_type": "stream",
          "text": [
            "/usr/local/lib/python3.6/dist-packages/ipykernel_launcher.py:1: SettingWithCopyWarning: \n",
            "A value is trying to be set on a copy of a slice from a DataFrame.\n",
            "Try using .loc[row_indexer,col_indexer] = value instead\n",
            "\n",
            "See the caveats in the documentation: http://pandas.pydata.org/pandas-docs/stable/indexing.html#indexing-view-versus-copy\n",
            "  \"\"\"Entry point for launching an IPython kernel.\n",
            "/usr/local/lib/python3.6/dist-packages/ipykernel_launcher.py:2: SettingWithCopyWarning: \n",
            "A value is trying to be set on a copy of a slice from a DataFrame.\n",
            "Try using .loc[row_indexer,col_indexer] = value instead\n",
            "\n",
            "See the caveats in the documentation: http://pandas.pydata.org/pandas-docs/stable/indexing.html#indexing-view-versus-copy\n",
            "  \n",
            "/usr/local/lib/python3.6/dist-packages/ipykernel_launcher.py:4: SettingWithCopyWarning: \n",
            "A value is trying to be set on a copy of a slice from a DataFrame.\n",
            "Try using .loc[row_indexer,col_indexer] = value instead\n",
            "\n",
            "See the caveats in the documentation: http://pandas.pydata.org/pandas-docs/stable/indexing.html#indexing-view-versus-copy\n",
            "  after removing the cwd from sys.path.\n",
            "/usr/local/lib/python3.6/dist-packages/ipykernel_launcher.py:5: SettingWithCopyWarning: \n",
            "A value is trying to be set on a copy of a slice from a DataFrame.\n",
            "Try using .loc[row_indexer,col_indexer] = value instead\n",
            "\n",
            "See the caveats in the documentation: http://pandas.pydata.org/pandas-docs/stable/indexing.html#indexing-view-versus-copy\n",
            "  \"\"\"\n",
            "/usr/local/lib/python3.6/dist-packages/ipykernel_launcher.py:7: SettingWithCopyWarning: \n",
            "A value is trying to be set on a copy of a slice from a DataFrame.\n",
            "Try using .loc[row_indexer,col_indexer] = value instead\n",
            "\n",
            "See the caveats in the documentation: http://pandas.pydata.org/pandas-docs/stable/indexing.html#indexing-view-versus-copy\n",
            "  import sys\n",
            "/usr/local/lib/python3.6/dist-packages/ipykernel_launcher.py:8: SettingWithCopyWarning: \n",
            "A value is trying to be set on a copy of a slice from a DataFrame.\n",
            "Try using .loc[row_indexer,col_indexer] = value instead\n",
            "\n",
            "See the caveats in the documentation: http://pandas.pydata.org/pandas-docs/stable/indexing.html#indexing-view-versus-copy\n",
            "  \n",
            "/usr/local/lib/python3.6/dist-packages/ipykernel_launcher.py:10: SettingWithCopyWarning: \n",
            "A value is trying to be set on a copy of a slice from a DataFrame.\n",
            "Try using .loc[row_indexer,col_indexer] = value instead\n",
            "\n",
            "See the caveats in the documentation: http://pandas.pydata.org/pandas-docs/stable/indexing.html#indexing-view-versus-copy\n",
            "  # Remove the CWD from sys.path while we load stuff.\n",
            "/usr/local/lib/python3.6/dist-packages/ipykernel_launcher.py:11: SettingWithCopyWarning: \n",
            "A value is trying to be set on a copy of a slice from a DataFrame.\n",
            "Try using .loc[row_indexer,col_indexer] = value instead\n",
            "\n",
            "See the caveats in the documentation: http://pandas.pydata.org/pandas-docs/stable/indexing.html#indexing-view-versus-copy\n",
            "  # This is added back by InteractiveShellApp.init_path()\n",
            "/usr/local/lib/python3.6/dist-packages/ipykernel_launcher.py:13: SettingWithCopyWarning: \n",
            "A value is trying to be set on a copy of a slice from a DataFrame.\n",
            "Try using .loc[row_indexer,col_indexer] = value instead\n",
            "\n",
            "See the caveats in the documentation: http://pandas.pydata.org/pandas-docs/stable/indexing.html#indexing-view-versus-copy\n",
            "  del sys.path[0]\n",
            "/usr/local/lib/python3.6/dist-packages/ipykernel_launcher.py:14: SettingWithCopyWarning: \n",
            "A value is trying to be set on a copy of a slice from a DataFrame.\n",
            "Try using .loc[row_indexer,col_indexer] = value instead\n",
            "\n",
            "See the caveats in the documentation: http://pandas.pydata.org/pandas-docs/stable/indexing.html#indexing-view-versus-copy\n",
            "  \n",
            "/usr/local/lib/python3.6/dist-packages/ipykernel_launcher.py:16: SettingWithCopyWarning: \n",
            "A value is trying to be set on a copy of a slice from a DataFrame.\n",
            "Try using .loc[row_indexer,col_indexer] = value instead\n",
            "\n",
            "See the caveats in the documentation: http://pandas.pydata.org/pandas-docs/stable/indexing.html#indexing-view-versus-copy\n",
            "  app.launch_new_instance()\n",
            "/usr/local/lib/python3.6/dist-packages/ipykernel_launcher.py:17: SettingWithCopyWarning: \n",
            "A value is trying to be set on a copy of a slice from a DataFrame.\n",
            "Try using .loc[row_indexer,col_indexer] = value instead\n",
            "\n",
            "See the caveats in the documentation: http://pandas.pydata.org/pandas-docs/stable/indexing.html#indexing-view-versus-copy\n",
            "/usr/local/lib/python3.6/dist-packages/ipykernel_launcher.py:19: SettingWithCopyWarning: \n",
            "A value is trying to be set on a copy of a slice from a DataFrame.\n",
            "Try using .loc[row_indexer,col_indexer] = value instead\n",
            "\n",
            "See the caveats in the documentation: http://pandas.pydata.org/pandas-docs/stable/indexing.html#indexing-view-versus-copy\n",
            "/usr/local/lib/python3.6/dist-packages/ipykernel_launcher.py:20: SettingWithCopyWarning: \n",
            "A value is trying to be set on a copy of a slice from a DataFrame.\n",
            "Try using .loc[row_indexer,col_indexer] = value instead\n",
            "\n",
            "See the caveats in the documentation: http://pandas.pydata.org/pandas-docs/stable/indexing.html#indexing-view-versus-copy\n",
            "/usr/local/lib/python3.6/dist-packages/pandas/core/indexing.py:543: SettingWithCopyWarning: \n",
            "A value is trying to be set on a copy of a slice from a DataFrame.\n",
            "Try using .loc[row_indexer,col_indexer] = value instead\n",
            "\n",
            "See the caveats in the documentation: http://pandas.pydata.org/pandas-docs/stable/indexing.html#indexing-view-versus-copy\n",
            "  self.obj[item] = s\n"
          ],
          "name": "stderr"
        },
        {
          "output_type": "execute_result",
          "data": {
            "text/plain": [
              "installer   status_group           \n",
              "Other       functional                 0.573994\n",
              "            non functional             0.365113\n",
              "            functional needs repair    0.060893\n",
              "dwe         functional                 0.540558\n",
              "            non functional             0.366452\n",
              "            functional needs repair    0.092990\n",
              "government  non functional             0.609583\n",
              "            functional                 0.287476\n",
              "            functional needs repair    0.102941\n",
              "hesawa      functional                 0.563177\n",
              "            non functional             0.396209\n",
              "            functional needs repair    0.040614\n",
              "kkkt        functional                 0.485380\n",
              "            non functional             0.454971\n",
              "            functional needs repair    0.059649\n",
              "rwe         non functional             0.639583\n",
              "            functional                 0.251042\n",
              "            functional needs repair    0.109375\n",
              "Name: status_group, dtype: float64"
            ]
          },
          "metadata": {
            "tags": []
          },
          "execution_count": 154
        }
      ]
    },
    {
      "cell_type": "code",
      "metadata": {
        "id": "M84Vm5jM8KkU",
        "colab_type": "code",
        "outputId": "7830eae6-1b52-423a-c1a2-f4036f5b2d45",
        "colab": {
          "base_uri": "https://localhost:8080/",
          "height": 419
        }
      },
      "source": [
        "train['functional']= (train['status_group'] == 'functional').astype(int)\n",
        "train[['status_group', 'functional']]\n",
        "\n",
        "sns.catplot(x='installer', y='functional', data=train, kind='bar', color='grey')\n",
        "plt.title('% of Waterpumps Functional by Installer')"
      ],
      "execution_count": 155,
      "outputs": [
        {
          "output_type": "execute_result",
          "data": {
            "text/plain": [
              "Text(0.5, 1.0, '% of Waterpumps Functional by Installer')"
            ]
          },
          "metadata": {
            "tags": []
          },
          "execution_count": 155
        },
        {
          "output_type": "display_data",
          "data": {
            "image/png": "[encoded data removed]",
            "text/plain": [
              "<Figure size 360x360 with 1 Axes>"
            ]
          },
          "metadata": {
            "tags": []
          }
        }
      ]
    },
    {
      "cell_type": "markdown",
      "metadata": {
        "id": "y1sLVgVJ4oyc",
        "colab_type": "text"
      },
      "source": [
        "### New Feature - Pump Age"
      ]
    },
    {
      "cell_type": "code",
      "metadata": {
        "id": "oUahkHzQCrRs",
        "colab_type": "code",
        "outputId": "6b6f2a76-2aae-4cfa-b53d-0e72bec6b85a",
        "colab": {
          "base_uri": "https://localhost:8080/",
          "height": 725
        }
      },
      "source": [
        "X_train['pump_age'] = 2013 - X_train['construction_year']\n",
        "X_train.loc[X_train['pump_age'] == 2013, 'pump_age'] = 0\n",
        "X_val['pump_age'] = 2013 - X_val['construction_year']\n",
        "X_val.loc[X_val['pump_age'] == 2013, 'pump_age'] = 0\n",
        "\n",
        "X_train.loc[X_train['pump_age'] == 0, 'pump_age'] = 10\n",
        "X_val.loc[X_val['pump_age'] == 0, 'pump_age'] = 10\n",
        "\n",
        "train = X_train.copy()\n",
        "train['status_group'] = y_train\n",
        "\n",
        "train.groupby('pump_age')['status_group'].value_counts(normalize=True)\n",
        "train['functional']= (train['status_group'] == 'functional').astype(int)\n",
        "train[['status_group', 'functional']]\n",
        "\n",
        "sns.catplot(x='pump_age', y='functional', data=train, kind='bar', color='grey')\n",
        "plt.title('% of Waterpumps Functional by Pump Age')"
      ],
      "execution_count": 156,
      "outputs": [
        {
          "output_type": "stream",
          "text": [
            "/usr/local/lib/python3.6/dist-packages/ipykernel_launcher.py:1: SettingWithCopyWarning: \n",
            "A value is trying to be set on a copy of a slice from a DataFrame.\n",
            "Try using .loc[row_indexer,col_indexer] = value instead\n",
            "\n",
            "See the caveats in the documentation: http://pandas.pydata.org/pandas-docs/stable/indexing.html#indexing-view-versus-copy\n",
            "  \"\"\"Entry point for launching an IPython kernel.\n",
            "/usr/local/lib/python3.6/dist-packages/pandas/core/indexing.py:543: SettingWithCopyWarning: \n",
            "A value is trying to be set on a copy of a slice from a DataFrame.\n",
            "Try using .loc[row_indexer,col_indexer] = value instead\n",
            "\n",
            "See the caveats in the documentation: http://pandas.pydata.org/pandas-docs/stable/indexing.html#indexing-view-versus-copy\n",
            "  self.obj[item] = s\n",
            "/usr/local/lib/python3.6/dist-packages/ipykernel_launcher.py:3: SettingWithCopyWarning: \n",
            "A value is trying to be set on a copy of a slice from a DataFrame.\n",
            "Try using .loc[row_indexer,col_indexer] = value instead\n",
            "\n",
            "See the caveats in the documentation: http://pandas.pydata.org/pandas-docs/stable/indexing.html#indexing-view-versus-copy\n",
            "  This is separate from the ipykernel package so we can avoid doing imports until\n"
          ],
          "name": "stderr"
        },
        {
          "output_type": "execute_result",
          "data": {
            "text/plain": [
              "Text(0.5, 1.0, '% of Waterpumps Functional by Pump Age')"
            ]
          },
          "metadata": {
            "tags": []
          },
          "execution_count": 156
        },
        {
          "output_type": "display_data",
          "data": {
            "image/png": "[encoded data removed]",
            "text/plain": [
              "<Figure size 360x360 with 1 Axes>"
            ]
          },
          "metadata": {
            "tags": []
          }
        }
      ]
    },
    {
      "cell_type": "markdown",
      "metadata": {
        "id": "26uJs-7GQAIk",
        "colab_type": "text"
      },
      "source": [
        "### Bin and One-Hot Encoding - Funder"
      ]
    },
    {
      "cell_type": "code",
      "metadata": {
        "id": "aP1m7Dar_zy9",
        "colab_type": "code",
        "outputId": "a0be3c74-9d96-4acb-b1c6-124d191d6b61",
        "colab": {
          "base_uri": "https://localhost:8080/",
          "height": 929
        }
      },
      "source": [
        "X_train['funder'] = X_train['funder'].str.lower()\n",
        "X_val['funder'] = X_val['funder'].str.lower()\n",
        "\n",
        "X_train['funder'] = X_train['funder'].str[:3]\n",
        "X_val['funder'] = X_val['funder'].str[:3]\n",
        "\n",
        "X_train['funder'].value_counts(normalize=True)\n",
        "top10 = X_train['funder'].value_counts()[:20].index\n",
        "X_train.loc[~X_train['funder'].isin(top10), 'funder'] = 'Other'\n",
        "X_val.loc[~X_val['funder'].isin(top10), 'funder'] = 'Other'\n",
        "\n",
        "train = X_train.copy()\n",
        "train['status_group'] = y_train\n",
        "\n",
        "train.groupby('funder')['status_group'].value_counts(normalize=True)\n",
        "\n",
        "train['functional']= (train['status_group'] == 'functional').astype(int)\n",
        "train[['status_group', 'functional']]\n",
        "\n",
        "sns.catplot(x='funder', y='functional', data=train, kind='bar', color='grey')\n",
        "plt.title('% of Waterpumps Functional by Funder')"
      ],
      "execution_count": 157,
      "outputs": [
        {
          "output_type": "stream",
          "text": [
            "/usr/local/lib/python3.6/dist-packages/ipykernel_launcher.py:1: SettingWithCopyWarning: \n",
            "A value is trying to be set on a copy of a slice from a DataFrame.\n",
            "Try using .loc[row_indexer,col_indexer] = value instead\n",
            "\n",
            "See the caveats in the documentation: http://pandas.pydata.org/pandas-docs/stable/indexing.html#indexing-view-versus-copy\n",
            "  \"\"\"Entry point for launching an IPython kernel.\n",
            "/usr/local/lib/python3.6/dist-packages/ipykernel_launcher.py:2: SettingWithCopyWarning: \n",
            "A value is trying to be set on a copy of a slice from a DataFrame.\n",
            "Try using .loc[row_indexer,col_indexer] = value instead\n",
            "\n",
            "See the caveats in the documentation: http://pandas.pydata.org/pandas-docs/stable/indexing.html#indexing-view-versus-copy\n",
            "  \n",
            "/usr/local/lib/python3.6/dist-packages/ipykernel_launcher.py:4: SettingWithCopyWarning: \n",
            "A value is trying to be set on a copy of a slice from a DataFrame.\n",
            "Try using .loc[row_indexer,col_indexer] = value instead\n",
            "\n",
            "See the caveats in the documentation: http://pandas.pydata.org/pandas-docs/stable/indexing.html#indexing-view-versus-copy\n",
            "  after removing the cwd from sys.path.\n",
            "/usr/local/lib/python3.6/dist-packages/ipykernel_launcher.py:5: SettingWithCopyWarning: \n",
            "A value is trying to be set on a copy of a slice from a DataFrame.\n",
            "Try using .loc[row_indexer,col_indexer] = value instead\n",
            "\n",
            "See the caveats in the documentation: http://pandas.pydata.org/pandas-docs/stable/indexing.html#indexing-view-versus-copy\n",
            "  \"\"\"\n",
            "/usr/local/lib/python3.6/dist-packages/pandas/core/indexing.py:543: SettingWithCopyWarning: \n",
            "A value is trying to be set on a copy of a slice from a DataFrame.\n",
            "Try using .loc[row_indexer,col_indexer] = value instead\n",
            "\n",
            "See the caveats in the documentation: http://pandas.pydata.org/pandas-docs/stable/indexing.html#indexing-view-versus-copy\n",
            "  self.obj[item] = s\n"
          ],
          "name": "stderr"
        },
        {
          "output_type": "execute_result",
          "data": {
            "text/plain": [
              "Text(0.5, 1.0, '% of Waterpumps Functional by Funder')"
            ]
          },
          "metadata": {
            "tags": []
          },
          "execution_count": 157
        },
        {
          "output_type": "display_data",
          "data": {
            "image/png": "[encoded data removed]",
            "text/plain": [
              "<Figure size 360x360 with 1 Axes>"
            ]
          },
          "metadata": {
            "tags": []
          }
        }
      ]
    },
    {
      "cell_type": "markdown",
      "metadata": {
        "id": "3umZyUzSQLVZ",
        "colab_type": "text"
      },
      "source": [
        "### One-Hot Encoding - Water Quality"
      ]
    },
    {
      "cell_type": "code",
      "metadata": {
        "id": "dggjPbnUHb2k",
        "colab_type": "code",
        "outputId": "b078890b-bbb2-419d-ef14-75a06d2689fd",
        "colab": {
          "base_uri": "https://localhost:8080/",
          "height": 419
        }
      },
      "source": [
        "X_train['water_quality'].value_counts(normalize=True)\n",
        "train = X_train.copy()\n",
        "train['status_group'] = y_train\n",
        "train.groupby('water_quality')['status_group'].value_counts(normalize=True)\n",
        "train['functional']= (train['status_group'] == 'functional').astype(int)\n",
        "train[['status_group', 'functional']]\n",
        "\n",
        "sns.catplot(x='water_quality', y='functional', data=train, kind='bar', color='grey')\n",
        "plt.title('% of Waterpumps Functional by Water Quality')"
      ],
      "execution_count": 158,
      "outputs": [
        {
          "output_type": "execute_result",
          "data": {
            "text/plain": [
              "Text(0.5, 1.0, '% of Waterpumps Functional by Water Quality')"
            ]
          },
          "metadata": {
            "tags": []
          },
          "execution_count": 158
        },
        {
          "output_type": "display_data",
          "data": {
            "image/png": "[encoded data removed]",
            "text/plain": [
              "<Figure size 360x360 with 1 Axes>"
            ]
          },
          "metadata": {
            "tags": []
          }
        }
      ]
    },
    {
      "cell_type": "markdown",
      "metadata": {
        "id": "S9ymhThWUFu0",
        "colab_type": "text"
      },
      "source": [
        "### One-Hot Encoding - Basin"
      ]
    },
    {
      "cell_type": "code",
      "metadata": {
        "id": "7BDTgkUsQqo9",
        "colab_type": "code",
        "outputId": "db78003f-c69f-49cc-a27e-f2cb2f4c48a2",
        "colab": {
          "base_uri": "https://localhost:8080/",
          "height": 419
        }
      },
      "source": [
        "X_train['basin'].value_counts(normalize=True)\n",
        "train = X_train.copy()\n",
        "train['status_group'] = y_train\n",
        "train.groupby('basin')['status_group'].value_counts(normalize=True)\n",
        "train['functional']= (train['status_group'] == 'functional').astype(int)\n",
        "train[['status_group', 'functional']]\n",
        "\n",
        "sns.catplot(x='basin', y='functional', data=train, kind='bar', color='grey')\n",
        "plt.title('% of Waterpumps Functional by Basin')"
      ],
      "execution_count": 159,
      "outputs": [
        {
          "output_type": "execute_result",
          "data": {
            "text/plain": [
              "Text(0.5, 1.0, '% of Waterpumps Functional by Basin')"
            ]
          },
          "metadata": {
            "tags": []
          },
          "execution_count": 159
        },
        {
          "output_type": "display_data",
          "data": {
            "image/png": "[encoded data removed]",
            "text/plain": [
              "<Figure size 360x360 with 1 Axes>"
            ]
          },
          "metadata": {
            "tags": []
          }
        }
      ]
    },
    {
      "cell_type": "markdown",
      "metadata": {
        "id": "C_cTtfqtUKgr",
        "colab_type": "text"
      },
      "source": [
        "### One-Hot Encoding - Region"
      ]
    },
    {
      "cell_type": "code",
      "metadata": {
        "id": "DM30270XSLrd",
        "colab_type": "code",
        "outputId": "5acd873a-5925-4204-b780-169eb5a86258",
        "colab": {
          "base_uri": "https://localhost:8080/",
          "height": 419
        }
      },
      "source": [
        "X_train['region'].value_counts(normalize=True)\n",
        "train = X_train.copy()\n",
        "train['status_group'] = y_train\n",
        "train.groupby('region')['status_group'].value_counts(normalize=True)\n",
        "train['functional']= (train['status_group'] == 'functional').astype(int)\n",
        "train[['status_group', 'functional']]\n",
        "\n",
        "sns.catplot(x='region', y='functional', data=train, kind='bar', color='grey')\n",
        "plt.title('% of Waterpumps Functional by Region')"
      ],
      "execution_count": 160,
      "outputs": [
        {
          "output_type": "execute_result",
          "data": {
            "text/plain": [
              "Text(0.5, 1.0, '% of Waterpumps Functional by Region')"
            ]
          },
          "metadata": {
            "tags": []
          },
          "execution_count": 160
        },
        {
          "output_type": "display_data",
          "data": {
            "image/png": "[encoded data removed]",
            "text/plain": [
              "<Figure size 360x360 with 1 Axes>"
            ]
          },
          "metadata": {
            "tags": []
          }
        }
      ]
    },
    {
      "cell_type": "markdown",
      "metadata": {
        "id": "RprzY6FEQVB5",
        "colab_type": "text"
      },
      "source": [
        "### Use Mean for GPS Height Missing Values"
      ]
    },
    {
      "cell_type": "code",
      "metadata": {
        "id": "p3sVlnFR3GcR",
        "colab_type": "code",
        "outputId": "fb0c4259-6e7b-4522-9f38-2613982b306a",
        "colab": {
          "base_uri": "https://localhost:8080/",
          "height": 179
        }
      },
      "source": [
        "X_train.loc[X_train['gps_height'] == 0, 'gps_height'] = X_train['gps_height'].mean()\n",
        "X_val.loc[X_val['gps_height'] == 0, 'gps_height'] = X_val['gps_height'].mean()\n",
        "\n",
        "train = X_train.copy()\n",
        "train['status_group'] = y_train\n",
        "\n",
        "train.groupby('gps_height')['status_group'].value_counts(normalize=True)\n",
        "train['functional']= (train['status_group'] == 'functional').astype(int)\n",
        "train[['status_group', 'functional']];\n",
        "\n",
        "#sns.catplot(x='amount_tsh', y='functional', data=train, kind='bar', color='grey')\n",
        "#plt.title('% of Waterpumps Functional by Pump Age')"
      ],
      "execution_count": 161,
      "outputs": [
        {
          "output_type": "stream",
          "text": [
            "/usr/local/lib/python3.6/dist-packages/pandas/core/indexing.py:543: SettingWithCopyWarning: \n",
            "A value is trying to be set on a copy of a slice from a DataFrame.\n",
            "Try using .loc[row_indexer,col_indexer] = value instead\n",
            "\n",
            "See the caveats in the documentation: http://pandas.pydata.org/pandas-docs/stable/indexing.html#indexing-view-versus-copy\n",
            "  self.obj[item] = s\n"
          ],
          "name": "stderr"
        }
      ]
    },
    {
      "cell_type": "markdown",
      "metadata": {
        "id": "EZFGWgTEUUsT",
        "colab_type": "text"
      },
      "source": [
        "### One-Hot Encoding - Payment"
      ]
    },
    {
      "cell_type": "code",
      "metadata": {
        "id": "TBqAbmAgTT89",
        "colab_type": "code",
        "outputId": "4d9d9e7f-1baa-43ac-c0db-2865f91ea664",
        "colab": {
          "base_uri": "https://localhost:8080/",
          "height": 419
        }
      },
      "source": [
        "X_train['payment'].value_counts(normalize=True)\n",
        "train = X_train.copy()\n",
        "train['status_group'] = y_train\n",
        "train.groupby('payment')['status_group'].value_counts(normalize=True)\n",
        "train['functional']= (train['status_group'] == 'functional').astype(int)\n",
        "train[['status_group', 'functional']]\n",
        "\n",
        "sns.catplot(x='payment', y='functional', data=train, kind='bar', color='grey')\n",
        "plt.title('% of Waterpumps Functional by Payment')"
      ],
      "execution_count": 162,
      "outputs": [
        {
          "output_type": "execute_result",
          "data": {
            "text/plain": [
              "Text(0.5, 1.0, '% of Waterpumps Functional by Payment')"
            ]
          },
          "metadata": {
            "tags": []
          },
          "execution_count": 162
        },
        {
          "output_type": "display_data",
          "data": {
            "image/png": "[encoded data removed]",
            "text/plain": [
              "<Figure size 360x360 with 1 Axes>"
            ]
          },
          "metadata": {
            "tags": []
          }
        }
      ]
    },
    {
      "cell_type": "markdown",
      "metadata": {
        "id": "OlqyEg2Gh-qg",
        "colab_type": "text"
      },
      "source": [
        "### One-Hot Encoded - Source"
      ]
    },
    {
      "cell_type": "code",
      "metadata": {
        "id": "wrXDpYMmWl9i",
        "colab_type": "code",
        "outputId": "4bd98e61-fd47-4f1d-fa6e-8304ef094c7f",
        "colab": {
          "base_uri": "https://localhost:8080/",
          "height": 419
        }
      },
      "source": [
        "X_train['source'].value_counts(normalize=True)\n",
        "train = X_train.copy()\n",
        "train['status_group'] = y_train\n",
        "train.groupby('source')['status_group'].value_counts(normalize=True)\n",
        "train['functional']= (train['status_group'] == 'functional').astype(int)\n",
        "train[['status_group', 'functional']]\n",
        "\n",
        "sns.catplot(x='source', y='functional', data=train, kind='bar', color='grey')\n",
        "plt.title('% of Waterpumps Functional by Source')"
      ],
      "execution_count": 163,
      "outputs": [
        {
          "output_type": "execute_result",
          "data": {
            "text/plain": [
              "Text(0.5, 1.0, '% of Waterpumps Functional by Source')"
            ]
          },
          "metadata": {
            "tags": []
          },
          "execution_count": 163
        },
        {
          "output_type": "display_data",
          "data": {
            "image/png": "[encoded data removed]",
            "text/plain": [
              "<Figure size 360x360 with 1 Axes>"
            ]
          },
          "metadata": {
            "tags": []
          }
        }
      ]
    },
    {
      "cell_type": "markdown",
      "metadata": {
        "id": "a1-u7T-piC3n",
        "colab_type": "text"
      },
      "source": [
        "### Bin and One-Hot Encoded - LGA"
      ]
    },
    {
      "cell_type": "code",
      "metadata": {
        "id": "t15-lLReXwS2",
        "colab_type": "code",
        "outputId": "cd97d6f9-f780-4a69-800e-1f8a198de6de",
        "colab": {
          "base_uri": "https://localhost:8080/",
          "height": 521
        }
      },
      "source": [
        "X_train['lga'].value_counts(normalize=True)\n",
        "top10 = X_train['lga'].value_counts()[:10].index\n",
        "X_train.loc[~X_train['lga'].isin(top10), 'lga'] = 'Other'\n",
        "X_val.loc[~X_val['lga'].isin(top10), 'lga'] = 'Other'\n",
        "\n",
        "train = X_train.copy()\n",
        "train['status_group'] = y_train\n",
        "\n",
        "train.groupby('lga')['status_group'].value_counts(normalize=True)\n",
        "\n",
        "train['functional']= (train['status_group'] == 'functional').astype(int)\n",
        "train[['status_group', 'functional']]\n",
        "\n",
        "sns.catplot(x='lga', y='functional', data=train, kind='bar', color='grey')\n",
        "plt.title('% of Waterpumps Functional by LGA')"
      ],
      "execution_count": 164,
      "outputs": [
        {
          "output_type": "stream",
          "text": [
            "/usr/local/lib/python3.6/dist-packages/pandas/core/indexing.py:543: SettingWithCopyWarning: \n",
            "A value is trying to be set on a copy of a slice from a DataFrame.\n",
            "Try using .loc[row_indexer,col_indexer] = value instead\n",
            "\n",
            "See the caveats in the documentation: http://pandas.pydata.org/pandas-docs/stable/indexing.html#indexing-view-versus-copy\n",
            "  self.obj[item] = s\n"
          ],
          "name": "stderr"
        },
        {
          "output_type": "execute_result",
          "data": {
            "text/plain": [
              "Text(0.5, 1.0, '% of Waterpumps Functional by LGA')"
            ]
          },
          "metadata": {
            "tags": []
          },
          "execution_count": 164
        },
        {
          "output_type": "display_data",
          "data": {
            "image/png": "[encoded data removed]",
            "text/plain": [
              "<Figure size 360x360 with 1 Axes>"
            ]
          },
          "metadata": {
            "tags": []
          }
        }
      ]
    },
    {
      "cell_type": "markdown",
      "metadata": {
        "id": "ao00IqhJiMqq",
        "colab_type": "text"
      },
      "source": [
        "### Bin and One-Hot Encoded - Ward"
      ]
    },
    {
      "cell_type": "code",
      "metadata": {
        "id": "q1P52FVDaCCh",
        "colab_type": "code",
        "outputId": "72f373ff-b95d-464e-ae27-53a6b03bd425",
        "colab": {
          "base_uri": "https://localhost:8080/",
          "height": 521
        }
      },
      "source": [
        "X_train['ward'].value_counts(normalize=True)\n",
        "top10 = X_train['ward'].value_counts()[:20].index\n",
        "X_train.loc[~X_train['ward'].isin(top10), 'ward'] = 'Other'\n",
        "X_val.loc[~X_val['ward'].isin(top10), 'ward'] = 'Other'\n",
        "\n",
        "train = X_train.copy()\n",
        "train['status_group'] = y_train\n",
        "\n",
        "train.groupby('ward')['status_group'].value_counts(normalize=True)\n",
        "\n",
        "train['functional']= (train['status_group'] == 'functional').astype(int)\n",
        "train[['status_group', 'functional']]\n",
        "\n",
        "sns.catplot(x='ward', y='functional', data=train, kind='bar', color='grey')\n",
        "plt.title('% of Waterpumps Functional by Ward')"
      ],
      "execution_count": 165,
      "outputs": [
        {
          "output_type": "stream",
          "text": [
            "/usr/local/lib/python3.6/dist-packages/pandas/core/indexing.py:543: SettingWithCopyWarning: \n",
            "A value is trying to be set on a copy of a slice from a DataFrame.\n",
            "Try using .loc[row_indexer,col_indexer] = value instead\n",
            "\n",
            "See the caveats in the documentation: http://pandas.pydata.org/pandas-docs/stable/indexing.html#indexing-view-versus-copy\n",
            "  self.obj[item] = s\n"
          ],
          "name": "stderr"
        },
        {
          "output_type": "execute_result",
          "data": {
            "text/plain": [
              "Text(0.5, 1.0, '% of Waterpumps Functional by Ward')"
            ]
          },
          "metadata": {
            "tags": []
          },
          "execution_count": 165
        },
        {
          "output_type": "display_data",
          "data": {
            "image/png": "[encoded data removed]",
            "text/plain": [
              "<Figure size 360x360 with 1 Axes>"
            ]
          },
          "metadata": {
            "tags": []
          }
        }
      ]
    },
    {
      "cell_type": "markdown",
      "metadata": {
        "id": "xusT0WUqizpU",
        "colab_type": "text"
      },
      "source": [
        "### One-Hot Encode - Scheme Management"
      ]
    },
    {
      "cell_type": "code",
      "metadata": {
        "id": "eP93vksddCiU",
        "colab_type": "code",
        "outputId": "00b2ccb2-c9fb-49cf-d679-7bb08151130f",
        "colab": {
          "base_uri": "https://localhost:8080/",
          "height": 419
        }
      },
      "source": [
        "X_train['scheme_management'].value_counts(normalize=True)\n",
        "train = X_train.copy()\n",
        "train['status_group'] = y_train\n",
        "train.groupby('scheme_management')['status_group'].value_counts(normalize=True)\n",
        "train['functional']= (train['status_group'] == 'functional').astype(int)\n",
        "train[['status_group', 'functional']]\n",
        "\n",
        "sns.catplot(x='scheme_management', y='functional', data=train, kind='bar', color='grey')\n",
        "plt.title('% of Waterpumps Functional by Scheme Management')"
      ],
      "execution_count": 166,
      "outputs": [
        {
          "output_type": "execute_result",
          "data": {
            "text/plain": [
              "Text(0.5, 1.0, '% of Waterpumps Functional by Scheme Management')"
            ]
          },
          "metadata": {
            "tags": []
          },
          "execution_count": 166
        },
        {
          "output_type": "display_data",
          "data": {
            "image/png": "[encoded data removed]",
            "text/plain": [
              "<Figure size 360x360 with 1 Axes>"
            ]
          },
          "metadata": {
            "tags": []
          }
        }
      ]
    },
    {
      "cell_type": "markdown",
      "metadata": {
        "id": "Gp1QWXm1i7b3",
        "colab_type": "text"
      },
      "source": [
        "### One-Hot Encode - Management"
      ]
    },
    {
      "cell_type": "code",
      "metadata": {
        "id": "cU4lUhvQ7BYA",
        "colab_type": "code",
        "outputId": "af095994-b96d-49e4-f8ea-1ba78ce6d239",
        "colab": {
          "base_uri": "https://localhost:8080/",
          "height": 419
        }
      },
      "source": [
        "X_train['management'].value_counts(normalize=True)\n",
        "train = X_train.copy()\n",
        "train['status_group'] = y_train\n",
        "train.groupby('management')['status_group'].value_counts(normalize=True)\n",
        "train['functional']= (train['status_group'] == 'functional').astype(int)\n",
        "train[['status_group', 'functional']]\n",
        "\n",
        "sns.catplot(x='management', y='functional', data=train, kind='bar', color='grey')\n",
        "plt.title('% of Waterpumps Functional by Management')"
      ],
      "execution_count": 167,
      "outputs": [
        {
          "output_type": "execute_result",
          "data": {
            "text/plain": [
              "Text(0.5, 1.0, '% of Waterpumps Functional by Management')"
            ]
          },
          "metadata": {
            "tags": []
          },
          "execution_count": 167
        },
        {
          "output_type": "display_data",
          "data": {
            "image/png": "[encoded data removed]",
            "text/plain": [
              "<Figure size 360x360 with 1 Axes>"
            ]
          },
          "metadata": {
            "tags": []
          }
        }
      ]
    },
    {
      "cell_type": "markdown",
      "metadata": {
        "id": "wZpED25kEsOI",
        "colab_type": "text"
      },
      "source": [
        "### Create a Region/District Feature"
      ]
    },
    {
      "cell_type": "code",
      "metadata": {
        "id": "Mb6j1BbQfSpN",
        "colab_type": "code",
        "outputId": "9714e9fe-83e2-4fba-ee63-aad40143f1e5",
        "colab": {
          "base_uri": "https://localhost:8080/",
          "height": 419
        }
      },
      "source": [
        "X_train['region_code'].value_counts(normalize=True)\n",
        "train = X_train.copy()\n",
        "train['status_group'] = y_train\n",
        "train.groupby('region_code')['status_group'].value_counts(normalize=True)\n",
        "train['functional']= (train['status_group'] == 'functional').astype(int)\n",
        "train[['status_group', 'functional']]\n",
        "\n",
        "sns.catplot(x='region_code', y='functional', data=train, kind='bar', color='grey')\n",
        "plt.title('% of Waterpumps Functional by Region Code')"
      ],
      "execution_count": 168,
      "outputs": [
        {
          "output_type": "execute_result",
          "data": {
            "text/plain": [
              "Text(0.5, 1.0, '% of Waterpumps Functional by Region Code')"
            ]
          },
          "metadata": {
            "tags": []
          },
          "execution_count": 168
        },
        {
          "output_type": "display_data",
          "data": {
            "image/png": "[encoded data removed]",
            "text/plain": [
              "<Figure size 360x360 with 1 Axes>"
            ]
          },
          "metadata": {
            "tags": []
          }
        }
      ]
    },
    {
      "cell_type": "code",
      "metadata": {
        "id": "ZAk00mJv-tfm",
        "colab_type": "code",
        "outputId": "7df606c3-aaaa-461a-d134-c94a217c1f8a",
        "colab": {
          "base_uri": "https://localhost:8080/",
          "height": 623
        }
      },
      "source": [
        "X_train['region_district'] = X_train['region_code'].astype(str) + X_train['district_code'].astype(str)\n",
        "X_val['region_district'] = X_val['region_code'].astype(str) + X_val['district_code'].astype(str)\n",
        "\n",
        "train = X_train.copy()\n",
        "train['status_group'] = y_train\n",
        "\n",
        "train.groupby('region_district')['status_group'].value_counts(normalize=True)\n",
        "train['functional']= (train['status_group'] == 'functional').astype(int)\n",
        "train[['status_group', 'functional']]\n",
        "\n",
        "sns.catplot(x='region_district', y='functional', data=train, kind='bar', color='grey')\n",
        "plt.title('% of Waterpumps Functional by Region/District')"
      ],
      "execution_count": 169,
      "outputs": [
        {
          "output_type": "stream",
          "text": [
            "/usr/local/lib/python3.6/dist-packages/ipykernel_launcher.py:1: SettingWithCopyWarning: \n",
            "A value is trying to be set on a copy of a slice from a DataFrame.\n",
            "Try using .loc[row_indexer,col_indexer] = value instead\n",
            "\n",
            "See the caveats in the documentation: http://pandas.pydata.org/pandas-docs/stable/indexing.html#indexing-view-versus-copy\n",
            "  \"\"\"Entry point for launching an IPython kernel.\n",
            "/usr/local/lib/python3.6/dist-packages/ipykernel_launcher.py:2: SettingWithCopyWarning: \n",
            "A value is trying to be set on a copy of a slice from a DataFrame.\n",
            "Try using .loc[row_indexer,col_indexer] = value instead\n",
            "\n",
            "See the caveats in the documentation: http://pandas.pydata.org/pandas-docs/stable/indexing.html#indexing-view-versus-copy\n",
            "  \n"
          ],
          "name": "stderr"
        },
        {
          "output_type": "execute_result",
          "data": {
            "text/plain": [
              "Text(0.5, 1.0, '% of Waterpumps Functional by Region/District')"
            ]
          },
          "metadata": {
            "tags": []
          },
          "execution_count": 169
        },
        {
          "output_type": "display_data",
          "data": {
            "image/png": "[encoded data removed]",
            "text/plain": [
              "<Figure size 360x360 with 1 Axes>"
            ]
          },
          "metadata": {
            "tags": []
          }
        }
      ]
    },
    {
      "cell_type": "markdown",
      "metadata": {
        "id": "Q7548-TuLCSd",
        "colab_type": "text"
      },
      "source": [
        "### One-Hot Encode - Subvillage"
      ]
    },
    {
      "cell_type": "code",
      "metadata": {
        "id": "Fx77-ltOooSl",
        "colab_type": "code",
        "outputId": "96d969a7-1bcd-430f-ccff-3db9f2ed1d1c",
        "colab": {
          "base_uri": "https://localhost:8080/",
          "height": 521
        }
      },
      "source": [
        "X_train['subvillage'].value_counts(normalize=True)\n",
        "top10 = X_train['subvillage'].value_counts()[:10].index\n",
        "X_train.loc[~X_train['subvillage'].isin(top10), 'subvillage'] = 'Other'\n",
        "X_val.loc[~X_val['subvillage'].isin(top10), 'subvillage'] = 'Other'\n",
        "\n",
        "train = X_train.copy()\n",
        "train['status_group'] = y_train\n",
        "\n",
        "train.groupby('subvillage')['status_group'].value_counts(normalize=True)\n",
        "\n",
        "train['functional']= (train['status_group'] == 'functional').astype(int)\n",
        "train[['status_group', 'functional']]\n",
        "\n",
        "sns.catplot(x='subvillage', y='functional', data=train, kind='bar', color='grey')\n",
        "plt.title('% of Waterpumps Functional by Subvillage')"
      ],
      "execution_count": 170,
      "outputs": [
        {
          "output_type": "stream",
          "text": [
            "/usr/local/lib/python3.6/dist-packages/pandas/core/indexing.py:543: SettingWithCopyWarning: \n",
            "A value is trying to be set on a copy of a slice from a DataFrame.\n",
            "Try using .loc[row_indexer,col_indexer] = value instead\n",
            "\n",
            "See the caveats in the documentation: http://pandas.pydata.org/pandas-docs/stable/indexing.html#indexing-view-versus-copy\n",
            "  self.obj[item] = s\n"
          ],
          "name": "stderr"
        },
        {
          "output_type": "execute_result",
          "data": {
            "text/plain": [
              "Text(0.5, 1.0, '% of Waterpumps Functional by Subvillage')"
            ]
          },
          "metadata": {
            "tags": []
          },
          "execution_count": 170
        },
        {
          "output_type": "display_data",
          "data": {
            "image/png": "[encoded data removed]",
            "text/plain": [
              "<Figure size 360x360 with 1 Axes>"
            ]
          },
          "metadata": {
            "tags": []
          }
        }
      ]
    },
    {
      "cell_type": "markdown",
      "metadata": {
        "id": "Bkh6JlEKMLcz",
        "colab_type": "text"
      },
      "source": [
        "### One-Hot Encoding - Water Quality"
      ]
    },
    {
      "cell_type": "code",
      "metadata": {
        "id": "UIxID3VTfZyu",
        "colab_type": "code",
        "outputId": "a4146fb8-2814-429a-d178-1ab53fff67d1",
        "colab": {
          "base_uri": "https://localhost:8080/",
          "height": 419
        }
      },
      "source": [
        "X_train['water_quality'].value_counts(normalize=True)\n",
        "train = X_train.copy()\n",
        "train['status_group'] = y_train\n",
        "train.groupby('water_quality')['status_group'].value_counts(normalize=True)\n",
        "train['functional']= (train['status_group'] == 'functional').astype(int)\n",
        "train[['status_group', 'functional']]\n",
        "\n",
        "sns.catplot(x='water_quality', y='functional', data=train, kind='bar', color='grey')\n",
        "plt.title('% of Waterpumps Functional by Quality')"
      ],
      "execution_count": 171,
      "outputs": [
        {
          "output_type": "execute_result",
          "data": {
            "text/plain": [
              "Text(0.5, 1.0, '% of Waterpumps Functional by Quality')"
            ]
          },
          "metadata": {
            "tags": []
          },
          "execution_count": 171
        },
        {
          "output_type": "display_data",
          "data": {
            "image/png": "[encoded data removed]",
            "text/plain": [
              "<Figure size 360x360 with 1 Axes>"
            ]
          },
          "metadata": {
            "tags": []
          }
        }
      ]
    },
    {
      "cell_type": "markdown",
      "metadata": {
        "id": "l1TtWafvZCX4",
        "colab_type": "text"
      },
      "source": [
        "### Lat/Long Cleanup"
      ]
    },
    {
      "cell_type": "code",
      "metadata": {
        "id": "qPlDqabSCv_2",
        "colab_type": "code",
        "outputId": "aa0995de-d01d-4f63-81ae-05ba39e1251f",
        "colab": {
          "base_uri": "https://localhost:8080/",
          "height": 179
        }
      },
      "source": [
        "#test['region'].value_counts()\n",
        "average_lat = X_train.groupby('region').latitude.mean().reset_index()\n",
        "average_long = X_train.groupby('region').longitude.mean().reset_index()\n",
        "\n",
        "shinyanga_lat = average_lat.loc[average_lat['region'] == 'Shinyanga', 'latitude']\n",
        "shinyanga_long = average_long.loc[average_lat['region'] == 'Shinyanga', 'longitude']\n",
        "\n",
        "X_train.loc[(X_train['region'] == 'Shinyanga') & (X_train['latitude'] > -1), ['latitude']] = shinyanga_lat[17]\n",
        "X_train.loc[(X_train['region'] == 'Shinyanga') & (X_train['longitude'] == 0), ['longitude']] = shinyanga_long[17]\n",
        "\n",
        "mwanza_lat = average_lat.loc[average_lat['region'] == 'Mwanza', 'latitude']\n",
        "mwanza_long = average_long.loc[average_lat['region'] == 'Mwanza', 'longitude']\n",
        "\n",
        "X_train.loc[(X_train['region'] == 'Mwanza') & (X_train['latitude'] > -1), ['latitude']] = mwanza_lat[13]\n",
        "X_train.loc[(X_train['region'] == 'Mwanza') & (X_train['longitude'] == 0) , ['longitude']] = mwanza_long[13]\n"
      ],
      "execution_count": 172,
      "outputs": [
        {
          "output_type": "stream",
          "text": [
            "/usr/local/lib/python3.6/dist-packages/pandas/core/indexing.py:543: SettingWithCopyWarning: \n",
            "A value is trying to be set on a copy of a slice from a DataFrame.\n",
            "Try using .loc[row_indexer,col_indexer] = value instead\n",
            "\n",
            "See the caveats in the documentation: http://pandas.pydata.org/pandas-docs/stable/indexing.html#indexing-view-versus-copy\n",
            "  self.obj[item] = s\n"
          ],
          "name": "stderr"
        }
      ]
    },
    {
      "cell_type": "markdown",
      "metadata": {
        "id": "jhw1XjXQrWwT",
        "colab_type": "text"
      },
      "source": [
        "### Impute Amount TSH"
      ]
    },
    {
      "cell_type": "code",
      "metadata": {
        "id": "qxEwkladhrRB",
        "colab_type": "code",
        "colab": {}
      },
      "source": [
        "def tsh_calc(tsh, source, base, waterpoint):\n",
        "  if tsh == 0:\n",
        "    if (source, base, waterpoint) in test_dict:\n",
        "      new_tsh = tsh_dict[source, base, waterpoint]\n",
        "      return new_tsh\n",
        "  else:\n",
        "    return tsh\n",
        "  \n",
        "  return tsh"
      ],
      "execution_count": 0,
      "outputs": []
    },
    {
      "cell_type": "code",
      "metadata": {
        "id": "KI8GQI73hLCw",
        "colab_type": "code",
        "colab": {
          "base_uri": "https://localhost:8080/",
          "height": 179
        },
        "outputId": "668ab240-f5a9-467f-f42d-ef14df6d91b5"
      },
      "source": [
        "temp = X_train[X_train['amount_tsh'] != 0].groupby(['source_class',\n",
        "                                                    'basin',\n",
        "                                                    'waterpoint_type_group'])['amount_tsh'].mean()\n",
        "\n",
        "tsh_dict = dict(temp)\n",
        "X_train['amount_tsh'] = X_train.apply(lambda x: tsh_calc(x['amount_tsh'], x['source_class'], x['basin'], x['waterpoint_type_group']), axis=1)\n",
        "#X_train"
      ],
      "execution_count": 174,
      "outputs": [
        {
          "output_type": "stream",
          "text": [
            "/usr/local/lib/python3.6/dist-packages/ipykernel_launcher.py:6: SettingWithCopyWarning: \n",
            "A value is trying to be set on a copy of a slice from a DataFrame.\n",
            "Try using .loc[row_indexer,col_indexer] = value instead\n",
            "\n",
            "See the caveats in the documentation: http://pandas.pydata.org/pandas-docs/stable/indexing.html#indexing-view-versus-copy\n",
            "  \n"
          ],
          "name": "stderr"
        }
      ]
    },
    {
      "cell_type": "code",
      "metadata": {
        "id": "lqdsYcHDTjbY",
        "colab_type": "code",
        "colab": {}
      },
      "source": [
        "#X_train.loc[X_train['amount_tsh'] == 0, 'amount_tsh'] = X_train['amount_tsh'].median()\n",
        "#X_val.loc[X_val['amount_tsh'] == 0, 'amount_tsh'] = X_val['amount_tsh'].median()\n",
        "\n",
        "train = X_train.copy()\n",
        "train['status_group'] = y_train\n",
        "\n",
        "train.groupby('amount_tsh')['status_group'].value_counts(normalize=True)\n",
        "train['functional']= (train['status_group'] == 'functional').astype(int)\n",
        "train[['status_group', 'functional']];"
      ],
      "execution_count": 0,
      "outputs": []
    },
    {
      "cell_type": "code",
      "metadata": {
        "id": "yCCpk1giFicw",
        "colab_type": "code",
        "colab": {}
      },
      "source": [
        "#X_train.loc[X_train['public_meeting'].isnull(), 'public_meeting'] = False\n",
        "#X_val.loc[X_val['public_meeting'].isnull(), 'public_meeting'] = False\n",
        "\n",
        "#train = X_train.copy()\n",
        "#train['status_group'] = y_train\n",
        "\n",
        "#train.groupby('public_meeting')['status_group'].value_counts(normalize=True)\n",
        "#train['functional']= (train['status_group'] == 'functional').astype(int)\n",
        "#train[['status_group', 'functional']];\n",
        "\n",
        "#sns.catplot(x='public_meeting', y='functional', data=train, kind='bar', color='grey')\n",
        "#plt.title('% of Waterpumps Functional by Region/District')"
      ],
      "execution_count": 0,
      "outputs": []
    },
    {
      "cell_type": "markdown",
      "metadata": {
        "id": "vBATDBn30mLX",
        "colab_type": "text"
      },
      "source": [
        "### Run the Logistic Regression"
      ]
    },
    {
      "cell_type": "code",
      "metadata": {
        "id": "Oc7PYIt2texi",
        "colab_type": "code",
        "colab": {}
      },
      "source": [
        "import sklearn\n",
        "sklearn.__version__\n",
        "\n",
        "# Import the class\n",
        "from sklearn.linear_model import LogisticRegressionCV\n",
        "\n",
        "# Import package and scaler\n",
        "import category_encoders as ce\n",
        "from sklearn.preprocessing import StandardScaler"
      ],
      "execution_count": 0,
      "outputs": []
    },
    {
      "cell_type": "code",
      "metadata": {
        "id": "fBcw2yiWtSVk",
        "colab_type": "code",
        "outputId": "a9bd401c-fbd0-413b-8e32-98f424ec1e38",
        "colab": {
          "base_uri": "https://localhost:8080/",
          "height": 165
        }
      },
      "source": [
        "# use quantity feature and the numerical features but drop id\n",
        "categorical_features = ['quantity', 'waterpoint_type', 'extraction_type', 'installer',\n",
        "                         'basin', 'region', 'payment', 'source', 'lga', 'public_meeting',\n",
        "                         'scheme_management', 'permit', 'management', 'region_district',\n",
        "                         'subvillage', 'funder', 'water_quality', 'ward']\n",
        "                                             \n",
        "# \n",
        "numeric_features = X_train.select_dtypes('number').columns.drop('id').drop('num_private').tolist()\n",
        "features = categorical_features + numeric_features\n",
        "\n",
        "# make subsets using the quantity feature all numeric features except id\n",
        "X_train_subset = X_train[features]\n",
        "X_val_subset = X_val[features]\n",
        "\n",
        "# Do the encoding\n",
        "encoder = ce.OneHotEncoder(use_cat_names=True)\n",
        "X_train_encoded = encoder.fit_transform(X_train_subset)\n",
        "X_val_encoded = encoder.transform(X_val_subset)\n",
        "\n",
        "# Use the scaler\n",
        "scaler = StandardScaler()\n",
        "X_train_scaled = scaler.fit_transform(X_train_encoded)\n",
        "X_val_scaled = scaler.transform(X_val_encoded)\n",
        "\n",
        "# Fit the model and check the accuracy\n",
        "model = LogisticRegressionCV(n_jobs = -1)\n",
        "model.fit(X_train_scaled, y_train)\n",
        "\n",
        "print('Validation Accuracy', model.score(X_val_scaled, y_val));\n",
        "\n"
      ],
      "execution_count": 178,
      "outputs": [
        {
          "output_type": "stream",
          "text": [
            "/usr/local/lib/python3.6/dist-packages/sklearn/linear_model/logistic.py:469: FutureWarning: Default multi_class will be changed to 'auto' in 0.22. Specify the multi_class option to silence this warning.\n",
            "  \"this warning.\", FutureWarning)\n",
            "/usr/local/lib/python3.6/dist-packages/sklearn/model_selection/_split.py:1978: FutureWarning: The default value of cv will change from 3 to 5 in version 0.22. Specify it explicitly to silence this warning.\n",
            "  warnings.warn(CV_WARNING, FutureWarning)\n"
          ],
          "name": "stderr"
        },
        {
          "output_type": "stream",
          "text": [
            "Validation Accuracy 0.7555555555555555\n"
          ],
          "name": "stdout"
        }
      ]
    },
    {
      "cell_type": "markdown",
      "metadata": {
        "id": "BJNF5xa4LPw1",
        "colab_type": "text"
      },
      "source": [
        "### Run RandomForestClassifier"
      ]
    },
    {
      "cell_type": "code",
      "metadata": {
        "id": "LAkZOXEX5rlk",
        "colab_type": "code",
        "outputId": "fe1c6470-142e-4c98-f31a-2a8f0fb7c5b7",
        "colab": {
          "base_uri": "https://localhost:8080/",
          "height": 238
        }
      },
      "source": [
        "from sklearn.ensemble import RandomForestClassifier\n",
        "\n",
        "model = RandomForestClassifier(n_estimators=1000, \n",
        "                               random_state=42,\n",
        "                               max_features = 'auto',\n",
        "                               n_jobs=-1,\n",
        "                               verbose = 1)\n",
        "\n",
        "model.fit(X_train_scaled, y_train)\n",
        "\n",
        "print('Validation Accuracy', model.score(X_val_scaled, y_val));\n",
        "\n"
      ],
      "execution_count": 179,
      "outputs": [
        {
          "output_type": "stream",
          "text": [
            "[Parallel(n_jobs=-1)]: Using backend ThreadingBackend with 2 concurrent workers.\n",
            "[Parallel(n_jobs=-1)]: Done  46 tasks      | elapsed:    8.2s\n",
            "[Parallel(n_jobs=-1)]: Done 196 tasks      | elapsed:   34.9s\n",
            "[Parallel(n_jobs=-1)]: Done 446 tasks      | elapsed:  1.3min\n",
            "[Parallel(n_jobs=-1)]: Done 796 tasks      | elapsed:  2.4min\n",
            "[Parallel(n_jobs=-1)]: Done 1000 out of 1000 | elapsed:  3.0min finished\n",
            "[Parallel(n_jobs=2)]: Using backend ThreadingBackend with 2 concurrent workers.\n",
            "[Parallel(n_jobs=2)]: Done  46 tasks      | elapsed:    0.2s\n",
            "[Parallel(n_jobs=2)]: Done 196 tasks      | elapsed:    1.0s\n",
            "[Parallel(n_jobs=2)]: Done 446 tasks      | elapsed:    2.2s\n",
            "[Parallel(n_jobs=2)]: Done 796 tasks      | elapsed:    3.8s\n"
          ],
          "name": "stderr"
        },
        {
          "output_type": "stream",
          "text": [
            "Validation Accuracy 0.8093434343434344\n"
          ],
          "name": "stdout"
        },
        {
          "output_type": "stream",
          "text": [
            "[Parallel(n_jobs=2)]: Done 1000 out of 1000 | elapsed:    4.7s finished\n"
          ],
          "name": "stderr"
        }
      ]
    },
    {
      "cell_type": "code",
      "metadata": {
        "id": "0o8dPt50N0MN",
        "colab_type": "code",
        "outputId": "c6eda82b-b65c-42b7-b775-2cce9cb2e0c4",
        "colab": {
          "base_uri": "https://localhost:8080/",
          "height": 119
        }
      },
      "source": [
        "test_features['pump_age'] = 2013 - test_features['construction_year']\n",
        "test_features.loc[test_features['pump_age'] == 2013, 'pump_age'] = 0\n",
        "\n",
        "test_features['region_district'] = test_features['region_code'].astype(str) + test_features['district_code'].astype(str)\n",
        "\n",
        "test_features.drop(columns=['num_private'])\n",
        "\n",
        "X_test_subset = test_features[features]\n",
        "X_test_encoded = encoder.transform(X_test_subset)\n",
        "X_test_scaled = scaler.transform(X_test_encoded)\n",
        "assert all(X_test_encoded.columns == X_train_encoded.columns)\n",
        "\n",
        "y_pred = model.predict(X_test_scaled)"
      ],
      "execution_count": 180,
      "outputs": [
        {
          "output_type": "stream",
          "text": [
            "[Parallel(n_jobs=2)]: Using backend ThreadingBackend with 2 concurrent workers.\n",
            "[Parallel(n_jobs=2)]: Done  46 tasks      | elapsed:    0.2s\n",
            "[Parallel(n_jobs=2)]: Done 196 tasks      | elapsed:    0.8s\n",
            "[Parallel(n_jobs=2)]: Done 446 tasks      | elapsed:    1.9s\n",
            "[Parallel(n_jobs=2)]: Done 796 tasks      | elapsed:    3.4s\n",
            "[Parallel(n_jobs=2)]: Done 1000 out of 1000 | elapsed:    4.4s finished\n"
          ],
          "name": "stderr"
        }
      ]
    },
    {
      "cell_type": "code",
      "metadata": {
        "id": "eUMIufHhUKu2",
        "colab_type": "code",
        "colab": {}
      },
      "source": [
        "submission = sample_submission.copy()\n",
        "submission['status_group'] = y_pred\n",
        "submission.to_csv('/content/submission-01.csv', index=False)"
      ],
      "execution_count": 0,
      "outputs": []
    }
  ]
}